{
 "cells": [
  {
   "cell_type": "markdown",
   "metadata": {
    "extensions": {
     "jupyter_dashboards": {
      "version": 1,
      "views": {
       "grid_default": {
        "col": 0,
        "height": 4,
        "hidden": false,
        "row": 127,
        "width": 12
       },
       "report_default": {
        "hidden": false
       }
      }
     }
    },
    "hide_input": true,
    "nbpresent": {
     "id": "8cf6f9a6-782c-4dce-9e81-6f1b055ed5d0"
    },
    "slideshow": {
     "slide_type": "skip"
    }
   },
   "source": [
    "## Important information\n",
    "<font color=\"red\"> <b> ⚠ This documment is written as a Jupyter notebook and the code used to produce these analyses may be hidden for ease of readability. The notebook's interactivity as an exported html file is limited. For full widgets-interactivity it needs to run with a python kernel (e.g. jupyter notebook, jupyterlab apps) <br>\n",
    "    To make the code visible click here:\n",
    " </b> </font>"
   ]
  },
  {
   "cell_type": "code",
   "execution_count": null,
   "metadata": {
    "extensions": {
     "jupyter_dashboards": {
      "version": 1,
      "views": {
       "grid_default": {
        "col": 0,
        "height": 4,
        "hidden": false,
        "row": 127,
        "width": 12
       },
       "report_default": {
        "hidden": false
       }
      }
     }
    },
    "hide_input": true,
    "nbpresent": {
     "id": "8cf6f9a6-782c-4dce-9e81-6f1b055ed5d0"
    },
    "slideshow": {
     "slide_type": "skip"
    }
   },
   "outputs": [],
   "source": [
    "%%HTML\n",
    "<script>\n",
    "code_show=true; \n",
    "function code_toggle() {\n",
    "if (code_show){\n",
    "$('div.input').hide();\n",
    "} else {\n",
    "$('div.input').show();\n",
    "}\n",
    "code_show = !code_show\n",
    "} \n",
    "$( document ).ready(code_toggle);\n",
    "</script>\n",
    "<form action=\"javascript:code_toggle()\"><input type=\"submit\" value=\"Hide/show code\"></form>"
   ]
  },
  {
   "cell_type": "markdown",
   "metadata": {},
   "source": [
    "# Run data preprocessing"
   ]
  },
  {
   "cell_type": "code",
   "execution_count": null,
   "metadata": {},
   "outputs": [],
   "source": [
    "%%capture\n",
    "%run 01_Data_preprocessing.ipynb"
   ]
  },
  {
   "cell_type": "markdown",
   "metadata": {},
   "source": [
    "# FFT Functions"
   ]
  },
  {
   "cell_type": "code",
   "execution_count": null,
   "metadata": {
    "editable": false,
    "init_cell": true,
    "nbpresent": {
     "id": "9246a1f2-56dd-4ae1-92c1-e35ad0dd3bf4"
    }
   },
   "outputs": [],
   "source": [
    "# Fast Fourier Transform\n",
    "def myFFT(x,y,Ts):\n",
    "    Fs = 1/Ts;  # sampling rate\n",
    "    x = np.arange(0,1,Ts) # time vector\n",
    "    n = len(y) # length of the signal\n",
    "    k = np.arange(n)\n",
    "    X = Fs*k/n # two sides frequency range\n",
    "    X = X[0:int(n/2)] # one side frequency range\n",
    "    Y = np.fft.fft(y)/n # fft computing and normalization\n",
    "    Y = Y[0:int(n/2)]\n",
    "    return X, np.abs(Y), Y\n",
    "\n",
    "# Cubic spline interpolation\n",
    "def myinterpolation(x, y, num=None):\n",
    "    if num is None:\n",
    "        num=len(x)\n",
    "    f = interp1d(x, y, kind='cubic')\n",
    "    xnew = np.linspace(x[0], x[-1], num=num, endpoint=True)\n",
    "    ynew = f(xnew)\n",
    "    return xnew, ynew "
   ]
  },
  {
   "cell_type": "code",
   "execution_count": null,
   "metadata": {
    "init_cell": true,
    "nbpresent": {
     "id": "ff7bd962-271f-4d15-82a0-126e6eb3e3f8"
    }
   },
   "outputs": [],
   "source": [
    "def applyFFT(Expe):\n",
    "    for E in Expe:\n",
    "            # encoder 1\n",
    "        [E.ts, E.rpms_1] = myinterpolation(E.t1a, E.rpm_1)\n",
    "        [E.fft_freq_1, E.fft_amp_1, E.fft_1] = myFFT(E.ts, E.rpms_1,E.Ts)\n",
    "            # encoder 2\n",
    "        [E.ts, E.rpms_2] = myinterpolation(E.t2a,E.rpm_2)\n",
    "        [E.fft_freq_2, E.fft_amp_2, E.fft_2] = myFFT(E.ts, E.rpms_2,E.Ts)\n",
    "            # encoder 1 minus 2\n",
    "        E.rpms_12 = E.rpms_1 - E.rpms_2\n",
    "        [E.fft_freq_1minus2, E.fft_amp_1minus2, E.fft_1minus2] = myFFT(E.ts, E.rpms_12,E.Ts)\n",
    "\n",
    "applyFFT(HeS)\n",
    "applyFFT(CrS)"
   ]
  },
  {
   "cell_type": "markdown",
   "metadata": {},
   "source": [
    "# Frequency spectrum\n",
    "In order to compute a classical fast discrete Fourier transform, the angular-sampled data needs to be interpolated with regular time basis. The resampling is done using a cubic spline interpolation and the number of data points is kept from the original data. The interpolation code is based on the provided library from the Scilab [interp1d](https://docs.scipy.org/doc/scipy/reference/generated/scipy.interpolate.interp1d.html) module.\n",
    "\n",
    "As each experiment contains encoder data for different number of revolutions, and because the average target angular velocities differ by an order of magnitude between the first and the last data sets, the measurement durations $T_{f_i}$ also differ. Accordingly, the frequency resolution varies with $\\frac{1}{T_{f_i}}$ and so the resolution at higher angular velocities gets lower."
   ]
  },
  {
   "cell_type": "code",
   "execution_count": null,
   "metadata": {},
   "outputs": [],
   "source": [
    "def create_df(attrs, encoders='all', start_index=1, end_index=-1, sort_key=None):\n",
    "    if encoders=='all':\n",
    "        encoders = ['1', '2', '1minus2']\n",
    "    df_list = []\n",
    "    for health, Expe in zip(['healthy', 'cracked'], [HeS, CrS]):\n",
    "        for E in Expe:\n",
    "            for n in encoders:\n",
    "                var_list = [getattr(E, f'{at}_{n}')[start_index:end_index] for at in attrs.values()] \n",
    "                col_names= [at for at in attrs.keys()]\n",
    "                df = pd.DataFrame(data=np.array(var_list).T, columns=col_names)\n",
    "                df['encoder'] = n\n",
    "                df['rpm'] = E.speed_rpm_num\n",
    "                df['series'] = E.speed_rpm_str\n",
    "                df['health'] = health\n",
    "                if sort_key is not None:\n",
    "                    df.sort_values(sort_key, inplace=True)\n",
    "                df_list.append(df)\n",
    "    return pd.concat(df_list)"
   ]
  },
  {
   "cell_type": "code",
   "execution_count": null,
   "metadata": {},
   "outputs": [],
   "source": [
    "def showdf(df, inputs=None, filters=None, title=None):\n",
    "    fig_height = 700\n",
    "    fig_width = None\n",
    "    fig  = go.FigureWidget(layout_height=fig_height, layout_width=fig_width)\n",
    "    df_filt = df.copy()\n",
    "\n",
    "    num_keys = [key for key in dict(df.dtypes) if dict(df.dtypes)[key] in ['float64', 'int64']]\n",
    "    obj_keys = [key for key in dict(df.dtypes) if dict(df.dtypes)[key] in ['O']]\n",
    "    options = [None] + list(df.keys())\n",
    "\n",
    "\n",
    "    wd = dict(\n",
    "        x = widgets.Dropdown(description='x', options=options),\n",
    "        y = widgets.Dropdown(description='y', options=options),\n",
    "        z = widgets.Dropdown(description='z', options=options),\n",
    "        color = widgets.Dropdown(description='color', options=[None] + obj_keys),\n",
    "        line_group = widgets.Dropdown(description='group', options = [None] + obj_keys),\n",
    "        facet_row = widgets.Dropdown(description='row', options=[None] + obj_keys),\n",
    "        facet_col = widgets.Dropdown(description='column', options=[None] + obj_keys),\n",
    "        facet_col_wrap = widgets.IntText(description='wrap', min=0, max=10, value=6, layout=dict(width='70px'), style=dict(description_width='30px')),\n",
    "        #animation_frame = widgets.Dropdown(description='animation', options=[None] + obj_keys),\n",
    "        log_x = widgets.Checkbox(description='log', layout=dict(width='auto'), style=dict(description_width='0px')),\n",
    "        log_y = widgets.Checkbox(description='log', layout=dict(width='auto'), style=dict(description_width='0px')),\n",
    "        log_z = widgets.Checkbox(description='log', layout=dict(width='auto'), style=dict(description_width='0px')),\n",
    "        update = widgets.Checkbox(description='update plot', value=False)\n",
    "    )\n",
    "    if inputs is not None:\n",
    "        for k,v in inputs.items():\n",
    "            if k in wd:\n",
    "                wd[k].value = v\n",
    "\n",
    "    fw = dict()\n",
    "    for k in df.keys():\n",
    "        if k in num_keys:\n",
    "            opts = [df[k].min(), df[k].max()]\n",
    "            if filters is not None:\n",
    "                val = filters[k] if k in filters else opts\n",
    "            else:\n",
    "                val = opts\n",
    "            fw[k] = widgets.FloatRangeSlider(min= opts[0], max=opts[1], value=val, continuous_update=False)\n",
    "        elif k in obj_keys:\n",
    "            opts = list(df[k].unique())\n",
    "            val = opts\n",
    "            if filters is not None:\n",
    "                if k in filters:\n",
    "                    v = filters[k]\n",
    "                    val = v if isinstance(v,(list,tuple)) else [v]\n",
    "                \n",
    "            fw[k] = widgets.SelectMultiple(value=val, options=opts, rows=5 if len(opts)>=5 else len(opts))\n",
    "                    \n",
    "    def update_fig(**params):\n",
    "        nonlocal df_filt\n",
    "        if wd['update'].value==True:\n",
    "            if not params:\n",
    "                params = {k:v.value for k,v in wd.items()}\n",
    "            update = params['update']\n",
    "            p = params.copy()\n",
    "            p.pop('update')\n",
    "            if p['z'] is None:\n",
    "                fn = px.line\n",
    "                p.pop('z')\n",
    "                p.pop('log_z')\n",
    "            else:\n",
    "                fn = px.line_3d\n",
    "                p.pop('facet_col')\n",
    "                p.pop('facet_row')\n",
    "                p.pop('facet_col_wrap')\n",
    "            pxfig = fn(df_filt, height=fig_height, width=fig_width, render_mode='svg', **p)\n",
    "            fig.data = []\n",
    "            fig.add_traces(pxfig.data)\n",
    "            pxfig.layout.margin.t=20\n",
    "            fig.layout = pxfig.layout\n",
    "\n",
    "    def update_filters(**params):\n",
    "        nonlocal df_filt\n",
    "        if not params:\n",
    "            params = {k:v.value for k,v in fw.items()}\n",
    "        df_filt=df.copy()\n",
    "        for k,v in params.items():\n",
    "            if k in num_keys:\n",
    "                df_filt = df_filt[(df_filt[k]>=v[0]) & (df_filt[k]<=v[1])]\n",
    "            elif k in obj_keys:\n",
    "                df_filt = df_filt[df_filt[k].isin(v)]\n",
    "            \n",
    "        if wd['update'].value == True:\n",
    "            update_fig()\n",
    "\n",
    "    df_fw = widgets.interactive(update_filters, **fw)\n",
    "    df_wd = widgets.interactive(update_fig, **wd)\n",
    "    wd['update'].value = True\n",
    "    \n",
    "    acc_wd = widgets.Accordion([widgets.VBox([widgets.HBox([wd['x'],wd['log_x']]),\n",
    "                                              widgets.HBox([wd['y'],wd['log_y']]),\n",
    "                                              widgets.HBox([wd['z'],wd['log_z']]),\n",
    "                                              wd['color'],\n",
    "                                              wd['line_group'],\n",
    "                                              wd['facet_row'],\n",
    "                                              widgets.HBox([wd['facet_col'], wd['facet_col_wrap']]),\n",
    "                                              wd['update']\n",
    "                                             ])])\n",
    "    acc_wd.set_title(0,'Graph parameters')\n",
    "    acc_fw = widgets.Accordion([widgets.VBox([df_fw])])\n",
    "    acc_fw.set_title(0,'Dataframe filters')\n",
    "    accs = widgets.VBox([acc_wd, acc_fw])\n",
    "    fig_acc = widgets.Accordion([fig])\n",
    "    fig_acc.set_title(0,'Vizualization: '+ title)\n",
    "    return widgets.HBox([accs, fig_acc])\n",
    "\n",
    "inputs = dict(x='frequency', y='amplitude', color='encoder', line_group='series',log_y=True, facet_row='health', facet_col='encoder')\n",
    "filters = dict(frequency=[0,50])"
   ]
  },
  {
   "cell_type": "code",
   "execution_count": null,
   "metadata": {},
   "outputs": [],
   "source": [
    "df_downsampled = create_df(attrs=dict(frequency='fft_freq', amplitude='fft_amp'), sort_key='frequency')\n",
    "\n",
    "showdf(df_downsampled, inputs, filters, title = 'FFT on downsampled encoder signals')"
   ]
  },
  {
   "cell_type": "markdown",
   "metadata": {
    "nbpresent": {
     "id": "65bb57a6-242f-4724-82c2-160364ffd60a"
    },
    "slideshow": {
     "slide_type": "slide"
    }
   },
   "source": [
    "# Spectrogram of the adapted datasets"
   ]
  },
  {
   "cell_type": "markdown",
   "metadata": {
    "nbpresent": {
     "id": "65bb57a6-242f-4724-82c2-160364ffd60a"
    },
    "slideshow": {
     "slide_type": "slide"
    }
   },
   "source": [
    "## Resampling\n",
    "\n",
    "As mentioned before the dataset times for each experiment are varying. In order to compute a spectrogram we need to cut the datasets times  according to the shortest one and all the other datasets which are longer will be truncated to this time. In terms of indexes for $T_f=$ 9 secs and $rpm_i$ ranging from 100rpm to 3000rpm, it corresponds to an index value of $rpm_i \\cdot \\frac{imp}{60 \\cdot D_i} \\cdot T_f$. The calculated values are shown in the following plot."
   ]
  },
  {
   "cell_type": "code",
   "execution_count": null,
   "metadata": {},
   "outputs": [],
   "source": [
    "HeS.time_steps = HeS.cut_time/HeS.cut_indexes\n",
    "CrS.time_steps = CrS.cut_time/CrS.cut_indexes"
   ]
  },
  {
   "cell_type": "code",
   "execution_count": null,
   "metadata": {},
   "outputs": [],
   "source": [
    "def plot_reeindexing(Expe):\n",
    "    fig  = make_subplots(shared_xaxes=True, rows=2,cols=1, vertical_spacing=0.05)\n",
    "    fig.add_bar(x=Expe.speed_list, y=Expe.cut_indexes, showlegend=False,\n",
    "                row=1, col=1\n",
    "               )\n",
    "    fig.add_bar(x=Expe.speed_list, y=Expe.time_steps*1000, showlegend=False,\n",
    "                name='Time steps [µs]',\n",
    "                row=2,col=1\n",
    "               )\n",
    "    fig.update_layout(\n",
    "        xaxis2_title = 'Driven angular velocity',\n",
    "        yaxis_title = 'Index count',\n",
    "        yaxis2_title = 'Time steps [ms]',\n",
    "        title_text = f'Number of indices and time steps for {Expe.cut_time:d} seconds cut-off time',\n",
    "        height = 400\n",
    "    )\n",
    "    fig.show()\n",
    "    save_plot_button(fig)"
   ]
  },
  {
   "cell_type": "code",
   "execution_count": null,
   "metadata": {},
   "outputs": [],
   "source": [
    "plot_reeindexing(HeS)"
   ]
  },
  {
   "cell_type": "markdown",
   "metadata": {
    "nbpresent": {
     "id": "b8d5c3db-c424-4a3e-831c-30157bf145f7"
    }
   },
   "source": [
    "In order to get compatible array dimensions, the signals will be interpolated and resampled to the maximum number of the list (5570 samples) corresponding new time step value of $T_s =$ 1562µs"
   ]
  },
  {
   "cell_type": "code",
   "execution_count": null,
   "metadata": {
    "hide_input": false,
    "init_cell": true,
    "nbpresent": {
     "id": "04a1e5b3-2be6-49ad-a8d7-6c4e64a88004"
    }
   },
   "outputs": [],
   "source": [
    "def applyFFTsync(Expe):\n",
    "    NF = max(Expe.cut_indexes)\n",
    "    for i in range(Expe.numoffiles):\n",
    "        E = Expe[i]\n",
    "        E.Ts = Ts = Expe.cut_time/NF\n",
    "        N = Expe.cut_indexes[i]\n",
    "            # encoder 1\n",
    "        [E.ts, E.rpms_cut_1] = myinterpolation(E.t1a[0:N], E.rpms_1[0:N], NF)\n",
    "        [E.fft_cut_freq_1, E.fft_cut_amp_1, E.fft_cut_1] = myFFT(E.ts, E.rpms_cut_1,Ts)\n",
    "            # encoder 2\n",
    "        [E.ts, E.rpms_cut_2] = myinterpolation(E.t2a[0:N],E.rpms_2[0:N], NF)\n",
    "        [E.fft_cut_freq_2, E.fft_cut_amp_2, E.fft_cut_2] = myFFT(E.ts, E.rpms_cut_2,Ts)\n",
    "            # encoder 1 minus 2\n",
    "        E.rpms_cut_1minus2 = E.rpms_cut_1 - E.rpms_cut_2\n",
    "        [E.fft_cut_freq_1minus2, E.fft_cut_amp_1minus2, E.fft_cut_1minus2] = myFFT(E.ts, E.rpms_cut_1minus2,Ts)\n",
    "        E.ts_1 = E.ts_2 = E.ts_1minus2 = E.ts\n",
    "\n",
    "applyFFTsync(HeS)\n",
    "applyFFTsync(CrS) "
   ]
  },
  {
   "cell_type": "code",
   "execution_count": null,
   "metadata": {},
   "outputs": [],
   "source": [
    "df_signalsync = create_df(attrs=dict(rpm_speed='rpms_cut', time='ts'), encoders=['1minus2'], sort_key='time')\n",
    "\n",
    "inputs = dict(x='time', y='rpm_speed', color='encoder', facet_row='health')\n",
    "filters = dict(time=[0,1], series='100rpm')\n",
    "showdf(df_signalsync, inputs, filters, title='Synced time-based signals')"
   ]
  },
  {
   "cell_type": "markdown",
   "metadata": {
    "nbpresent": {
     "id": "edf8a095-1be4-40ee-b7f9-6109c30e6c82"
    }
   },
   "source": [
    "## Frequency spectrogram\n",
    "The 3 dimensional spectrogram regroups the frequency spectra for separated driven angular velocities of the motor from each experiment measurements in a single figure."
   ]
  },
  {
   "cell_type": "code",
   "execution_count": null,
   "metadata": {
    "editable": true,
    "init_cell": true,
    "nbpresent": {
     "id": "3a60f4ea-9ad3-46ea-be8d-88e951cfcb67"
    }
   },
   "outputs": [],
   "source": [
    "def plotFFT3D(Expe, fstart = 1, fend = None, log=True):\n",
    "    cut_time = Expe.cut_time\n",
    "    fstart = fstart # [Hz]\n",
    "    if fend == None:\n",
    "        fend = 1.5*Expe.f # [Hz]\n",
    "    \n",
    "    Nstart = int(fstart*cut_time)\n",
    "    Nend = int(fend*cut_time)\n",
    "    \n",
    "    x = np.linspace(Nstart/cut_time,Nend/cut_time,Nend-Nstart)\n",
    "    y = Expe.speeds    \n",
    "\n",
    "    z_data1=[]\n",
    "    z_data2=[]\n",
    "    z_data12=[]\n",
    "\n",
    "    for i in range(Expe.numoffiles):\n",
    "        z_data1.append(Expe[i].fft_cut_amp_1[Nstart:Nend])\n",
    "        z_data2.append(Expe[i].fft_cut_amp_2[Nstart:Nend])\n",
    "        z_data12.append(Expe[i].fft_cut_amp_1minus2[Nstart:Nend])\n",
    "\n",
    "    fig = make_subplots(rows=1, cols=3,\n",
    "                        specs=[[{\"type\": \"surface\"}]*3],\n",
    "                        print_grid=False,\n",
    "                        subplot_titles = ('encoder 1', 'encoder 2', 'encoder difference')\n",
    "                       )\n",
    "    fig.append_trace(dict(type='surface', x=x, y=y, z=np.log(z_data1) if log else z_data1,name='enc1', \n",
    "                          showscale=False,colorscale='Viridis', reversescale=True), 1, 1)\n",
    "    fig.append_trace(dict(type='surface', x=x, y=y, z=np.log(z_data2) if log else z_data2,name='enc2', \n",
    "                          showscale=False,colorscale='Viridis', reversescale=True), 1, 2)\n",
    "    fig.append_trace(dict(type='surface', x=x, y=y, z=np.log(z_data12) if log else z_data12,name='enc1-2', \n",
    "                          showscale=False,colorscale='Spectral', reversescale=True), 1, 3)\n",
    "\n",
    "    scene=dict(xaxis=dict(title='Freq [Hz]',titlefont_size=10, tickfont_size=10),\n",
    "               yaxis=dict(title='Speed [rpm]',titlefont_size=10, tickfont_size=10),\n",
    "               zaxis=dict(title='Amp',titlefont_size=10, tickfont_size=10),\n",
    "               camera_eye = {'x': 1.8, 'y': 1, 'z': 1.8}\n",
    "              )\n",
    "    figtitle = f'Frequency 3D-spectrograms for respectively encoder 1, encoder 2 and encoder difference<br>' + Expe.shaft_desc\n",
    "    fig.layout = go.Layout( width=1000,\n",
    "        title=figtitle,\n",
    "        scene1=scene,\n",
    "        scene2=scene,\n",
    "        scene3=scene,\n",
    "        margin = dict(l=20,r=20)\n",
    "    )\n",
    "\n",
    "\n",
    "    fig.show()\n",
    "\n",
    "    #save_plot_button(fig)"
   ]
  },
  {
   "cell_type": "markdown",
   "metadata": {
    "cell_style": "center",
    "nbpresent": {
     "id": "22f3aec9-3b23-4036-aafc-44de651cc6a5"
    }
   },
   "source": [
    "## Healthy shaft"
   ]
  },
  {
   "cell_type": "code",
   "execution_count": null,
   "metadata": {
    "cell_style": "center",
    "nbpresent": {
     "id": "6c62fcbe-1b5d-4cfe-bcb9-b57735f3e166"
    }
   },
   "outputs": [],
   "source": [
    "plotFFT3D(HeS)"
   ]
  },
  {
   "cell_type": "markdown",
   "metadata": {
    "cell_style": "center",
    "nbpresent": {
     "id": "a26efe83-85cc-4a81-b4a9-3708cdfb765c"
    }
   },
   "source": [
    "## Cracked shaft"
   ]
  },
  {
   "cell_type": "code",
   "execution_count": null,
   "metadata": {
    "cell_style": "center",
    "editable": false,
    "nbpresent": {
     "id": "2a0e54ba-3c6e-428b-9a07-c7e5d80f4ce0"
    }
   },
   "outputs": [],
   "source": [
    "plotFFT3D(CrS)"
   ]
  },
  {
   "cell_type": "markdown",
   "metadata": {
    "nbpresent": {
     "id": "1b35c300-b241-4f23-a1d7-8ebfc731e0a6"
    }
   },
   "source": [
    "## Comparison of cracked and healthy shaft (encoder difference 1-2)"
   ]
  },
  {
   "cell_type": "code",
   "execution_count": null,
   "metadata": {
    "init_cell": true,
    "nbpresent": {
     "id": "d7c5685e-a05a-4dab-a657-a17d3de9d0c9"
    }
   },
   "outputs": [],
   "source": [
    "def plotFFT3Dboth(Expea, Expeb, fstart = 1, fend = None, log=True):\n",
    "    cut_time = Expea.cut_time\n",
    "    fstart = fstart # [Hz]\n",
    "    if fend == None:\n",
    "        fend = 1.5*Expea.f # [Hz]\n",
    "    \n",
    "    Nstart = int(fstart*cut_time)\n",
    "    Nend = int(fend*cut_time)\n",
    "    \n",
    "    x = np.linspace(Nstart/cut_time,Nend/cut_time,Nend-Nstart)\n",
    "    y = Expea.speeds    \n",
    "\n",
    "    z_data12a=[]\n",
    "    z_data12b=[]\n",
    "\n",
    "    for i in range(Expea.numoffiles):\n",
    "        z_data12a.append(Expea[i].fft_cut_amp_1minus2[Nstart:Nend])\n",
    "        z_data12b.append(Expeb[i].fft_cut_amp_1minus2[Nstart:Nend])\n",
    "\n",
    "    fig = go.Figure()\n",
    "    fig.add_trace(dict(type='surface', x=x, y=y, z=np.log(z_data12a) if log else z_data12a, name='enc12_healthy', \n",
    "                       colorscale='Viridis', reversescale=True,\n",
    "                       colorbar=dict(title = 'healthy <br>shaft')\n",
    "                      )\n",
    "                 )\n",
    "    fig.add_trace(dict(type='surface', x=x, y=y, z=np.log(z_data12b) if log else z_data12b, name='enc12_cracked', \n",
    "                       colorscale='hot',\n",
    "                       colorbar=dict(x=1.2, title = 'cracked <br>shaft')\n",
    "                       )\n",
    "                 )\n",
    "\n",
    "    fig.layout.scene=dict(xaxis=dict(title='Freq [Hz]',titlefont_size=10, tickfont_size=10),\n",
    "               yaxis=dict(title='Speed [rpm]',titlefont_size=10, tickfont_size=10),\n",
    "               zaxis=dict(title='Amp',titlefont_size=10, tickfont_size=10),\n",
    "               camera_eye = {'x': 1.4, 'y': 1, 'z': 1.4}\n",
    "              )\n",
    "    fig.layout.height = 450\n",
    "    fig.layout.title.text = f'Frequency 3D-spectrograms comparison between healthy and cracked shaft <br> encoder difference'\n",
    "    \n",
    "    fig.show()\n",
    "    \n",
    "    #save_plot_button(fig)\n",
    "    "
   ]
  },
  {
   "cell_type": "code",
   "execution_count": null,
   "metadata": {},
   "outputs": [],
   "source": [
    "plotFFT3Dboth(HeS, CrS)"
   ]
  },
  {
   "cell_type": "markdown",
   "metadata": {
    "nbpresent": {
     "id": "866b9fdb-0a7a-4437-8e04-b4898f33d094"
    }
   },
   "source": [
    "The multiples of the motor rotational frequency are forming a series of spikes aligned on different diagonals in the frequency-speed plane and can be seen in the 3D plot above. The natural frequency of the shaft at around **33Hz** (**21Hz** for the cracked shaft) is also clearly to be seen for almost all the different angular velocities. It is however to be noticed that the amplitudes at the expected natural frequency are the highest when the this value corresponds to an integer multiple of the shaft rotational speed (see table in next section). In these cases the motor is exciting the system which gets into some resonance mode. Additionally the measured time window of **9s** only allows a precision in the frequency domain of **0.11Hz**"
   ]
  }
 ],
 "metadata": {
  "celltoolbar": "Initialization Cell",
  "hide_input": false,
  "kernelspec": {
   "display_name": "Python 3",
   "language": "python",
   "name": "python3"
  },
  "language_info": {
   "codemirror_mode": {
    "name": "ipython",
    "version": 3
   },
   "file_extension": ".py",
   "mimetype": "text/x-python",
   "name": "python",
   "nbconvert_exporter": "python",
   "pygments_lexer": "ipython3",
   "version": "3.7.7"
  },
  "nbpresent": {
   "slides": {
    "042f48ea-343c-4f6f-bf59-b41dec9b2012": {
     "id": "042f48ea-343c-4f6f-bf59-b41dec9b2012",
     "prev": "0e7f7420-d768-48b6-8ae1-fc0516e3e7c8",
     "regions": {
      "d3f69f30-cc02-4209-94bb-33f1f4878d86": {
       "attrs": {
        "height": 0.8,
        "width": 0.8,
        "x": 0.1,
        "y": 0.1
       },
       "content": {
        "cell": "c3fc0921-30ff-4cc1-b09c-be003f514942",
        "part": "whole"
       },
       "id": "d3f69f30-cc02-4209-94bb-33f1f4878d86"
      }
     }
    },
    "049feda9-9afd-4b7b-8600-435f6a3ee88c": {
     "id": "049feda9-9afd-4b7b-8600-435f6a3ee88c",
     "prev": "8b078ce5-0245-4a92-898c-92df1d2a2f69",
     "regions": {
      "53354cd8-eb9d-4bbe-8db3-5df1b2f4b448": {
       "attrs": {
        "height": 0.8,
        "width": 0.8,
        "x": 0.1,
        "y": 0.1
       },
       "content": {
        "cell": "4f296230-440b-42af-874f-001e66cc8bc8",
        "part": "whole"
       },
       "id": "53354cd8-eb9d-4bbe-8db3-5df1b2f4b448"
      }
     }
    },
    "050c927b-abc9-4a3a-a7ec-f053bce4b7ee": {
     "id": "050c927b-abc9-4a3a-a7ec-f053bce4b7ee",
     "prev": "69e1870d-582a-4678-87c4-d31fc3a392b4",
     "regions": {
      "420e67a8-ca94-4ae7-8feb-0852c6c1fbed": {
       "attrs": {
        "height": 0.8,
        "width": 0.8,
        "x": 0.1,
        "y": 0.1
       },
       "content": {
        "cell": "18d636f1-165d-4485-bb49-0989a9227a45",
        "part": "whole"
       },
       "id": "420e67a8-ca94-4ae7-8feb-0852c6c1fbed"
      }
     }
    },
    "062f9e5d-8f6d-453c-a614-42dd3787d402": {
     "id": "062f9e5d-8f6d-453c-a614-42dd3787d402",
     "prev": "1e8c6a77-bcdc-496f-b294-dbc8b1fb9250",
     "regions": {
      "99ac975d-4006-4b6e-b9eb-dd8af9643065": {
       "attrs": {
        "height": 0.8,
        "width": 0.8,
        "x": 0.1,
        "y": 0.1
       },
       "content": {
        "cell": "84f85330-62f4-4358-96d5-438d6eb59f94",
        "part": "whole"
       },
       "id": "99ac975d-4006-4b6e-b9eb-dd8af9643065"
      }
     }
    },
    "0720dfbd-0a02-4ec8-a95d-edf85a44ad1d": {
     "id": "0720dfbd-0a02-4ec8-a95d-edf85a44ad1d",
     "prev": "050c927b-abc9-4a3a-a7ec-f053bce4b7ee",
     "regions": {
      "281928d7-1713-4c6e-bfc6-a5656928746d": {
       "attrs": {
        "height": 0.8,
        "width": 0.8,
        "x": 0.1,
        "y": 0.1
       },
       "content": {
        "cell": "d895fb47-a4b7-4a2e-8e6b-187b3c3f608c",
        "part": "whole"
       },
       "id": "281928d7-1713-4c6e-bfc6-a5656928746d"
      }
     }
    },
    "0952c2bd-ed14-41a7-acd0-deb48cf93ecb": {
     "id": "0952c2bd-ed14-41a7-acd0-deb48cf93ecb",
     "prev": "247b4d41-ac35-49c5-8097-76f0c6c3d001",
     "regions": {
      "aaa85668-c9fd-4135-b5c6-262353c34f6e": {
       "attrs": {
        "height": 0.8,
        "width": 0.8,
        "x": 0.1,
        "y": 0.1
       },
       "content": {
        "cell": "3a60f4ea-9ad3-46ea-be8d-88e951cfcb67",
        "part": "whole"
       },
       "id": "aaa85668-c9fd-4135-b5c6-262353c34f6e"
      }
     }
    },
    "0acb345f-ba5d-4851-86a0-ae9593ef4c10": {
     "id": "0acb345f-ba5d-4851-86a0-ae9593ef4c10",
     "prev": "50aa3f51-0acf-4937-839f-8f26b351c9fd",
     "regions": {
      "4a7a5256-3e11-4829-bd81-c3d1a7f3e267": {
       "attrs": {
        "height": 0.8,
        "width": 0.8,
        "x": 0.1,
        "y": 0.1
       },
       "content": {
        "cell": "98a7c803-53f0-4b4f-b395-2677928d5354",
        "part": "whole"
       },
       "id": "4a7a5256-3e11-4829-bd81-c3d1a7f3e267"
      }
     }
    },
    "0c9ca9ef-e75e-482d-9891-e8274ab4021b": {
     "id": "0c9ca9ef-e75e-482d-9891-e8274ab4021b",
     "prev": "ed199600-d77a-4e82-8b44-7ec45fc97ea3",
     "regions": {
      "b716e0a6-105c-4ecf-a931-fa4822548e9e": {
       "attrs": {
        "height": 0.8,
        "width": 0.8,
        "x": 0.1,
        "y": 0.1
       },
       "content": {
        "cell": "80445c53-3ddf-43e7-a795-28f9b82fc0e4",
        "part": "whole"
       },
       "id": "b716e0a6-105c-4ecf-a931-fa4822548e9e"
      }
     }
    },
    "0d2817d3-ffee-4c9e-af4f-a407f4a873f2": {
     "id": "0d2817d3-ffee-4c9e-af4f-a407f4a873f2",
     "prev": "9e1ec66a-51bd-4d31-92c3-f3eacc3ed1f9",
     "regions": {
      "aeb2fd30-3fe7-4364-80bc-d3337adddeec": {
       "attrs": {
        "height": 0.8,
        "width": 0.8,
        "x": 0.1,
        "y": 0.1
       },
       "content": {
        "cell": "7ae116c5-3903-448b-9b79-0145bf4f614d",
        "part": "whole"
       },
       "id": "aeb2fd30-3fe7-4364-80bc-d3337adddeec"
      }
     }
    },
    "0e7f7420-d768-48b6-8ae1-fc0516e3e7c8": {
     "id": "0e7f7420-d768-48b6-8ae1-fc0516e3e7c8",
     "prev": "93f5b8bf-3a09-4de0-970e-4797667aa9b8",
     "regions": {
      "46773730-2e3b-476a-871f-7fd59b79c43e": {
       "attrs": {
        "height": 0.8,
        "width": 0.8,
        "x": 0.1,
        "y": 0.1
       },
       "content": {
        "cell": "4291deb2-a7ef-4db3-a12d-945415282bf4",
        "part": "whole"
       },
       "id": "46773730-2e3b-476a-871f-7fd59b79c43e"
      }
     }
    },
    "0f8d4dc8-95b7-4df3-a553-0895989f5452": {
     "id": "0f8d4dc8-95b7-4df3-a553-0895989f5452",
     "prev": "9794cc87-ac9f-4b26-941c-b0cdb0cc01d5",
     "regions": {
      "bfcc4e7c-0367-409b-b7e7-e033e014cb1b": {
       "attrs": {
        "height": 0.8,
        "width": 0.8,
        "x": 0.1,
        "y": 0.1
       },
       "content": {
        "cell": "5cac5b4a-e4bd-4d34-aab0-87c0a253c10a",
        "part": "whole"
       },
       "id": "bfcc4e7c-0367-409b-b7e7-e033e014cb1b"
      }
     }
    },
    "11217648-069d-4332-a6c5-7083930ff0c9": {
     "id": "11217648-069d-4332-a6c5-7083930ff0c9",
     "prev": "6ae7ac90-77b1-4f0b-99d3-23a1fc5e7836",
     "regions": {
      "53565293-7ce3-4e2d-83d4-f1083524d389": {
       "attrs": {
        "height": 0.8,
        "width": 0.8,
        "x": 0.1,
        "y": 0.1
       },
       "content": {
        "cell": "04a1e5b3-2be6-49ad-a8d7-6c4e64a88004",
        "part": "whole"
       },
       "id": "53565293-7ce3-4e2d-83d4-f1083524d389"
      }
     }
    },
    "158a0bd9-f4db-42c5-9f51-4265360a76a8": {
     "id": "158a0bd9-f4db-42c5-9f51-4265360a76a8",
     "prev": "dee865b5-000a-4099-ad55-7cee25993175",
     "regions": {
      "6f006c8a-0108-40cc-89f5-54e0874c3e55": {
       "attrs": {
        "height": 0.8,
        "width": 0.8,
        "x": 0.1,
        "y": 0.1
       },
       "content": {
        "cell": "6a3af0e9-88fb-4b87-b1bf-00301374afde",
        "part": "whole"
       },
       "id": "6f006c8a-0108-40cc-89f5-54e0874c3e55"
      }
     }
    },
    "1b0e23e9-321e-4c15-9df5-99afb711d7db": {
     "id": "1b0e23e9-321e-4c15-9df5-99afb711d7db",
     "prev": "885bfbda-31de-4f0a-89c5-a90a07017c08",
     "regions": {
      "a69f4f5c-6826-400c-b3d1-96412f2392d8": {
       "attrs": {
        "height": 0.8,
        "width": 0.8,
        "x": 0.1,
        "y": 0.1
       },
       "content": {
        "cell": "cd1d50cb-ac71-45d4-bfea-b44cacf40c43",
        "part": "whole"
       },
       "id": "a69f4f5c-6826-400c-b3d1-96412f2392d8"
      }
     }
    },
    "1e8c6a77-bcdc-496f-b294-dbc8b1fb9250": {
     "id": "1e8c6a77-bcdc-496f-b294-dbc8b1fb9250",
     "prev": "e64bc843-1c39-45cf-8354-7c40dfbb4787",
     "regions": {
      "dd6a41d9-6343-41c3-8c7e-b74ebe61ad5f": {
       "attrs": {
        "height": 0.8,
        "width": 0.8,
        "x": 0.1,
        "y": 0.1
       },
       "content": {
        "cell": "6f0797e4-5f05-473a-96c9-9b0be5d7edae",
        "part": "whole"
       },
       "id": "dd6a41d9-6343-41c3-8c7e-b74ebe61ad5f"
      }
     }
    },
    "1fc49314-e75e-4113-a7ce-007c3d80126d": {
     "id": "1fc49314-e75e-4113-a7ce-007c3d80126d",
     "prev": null,
     "regions": {
      "8f8c8df7-d74d-41a1-89b3-994c788471bc": {
       "attrs": {
        "height": 0.8,
        "width": 0.8,
        "x": 0.1,
        "y": 0.1
       },
       "content": {
        "cell": "7f7e1219-49f3-44bf-a0f8-79f895efde46",
        "part": "whole"
       },
       "id": "8f8c8df7-d74d-41a1-89b3-994c788471bc"
      }
     }
    },
    "21b46d1a-ac24-4fb1-99a8-5b9b1e2de282": {
     "id": "21b46d1a-ac24-4fb1-99a8-5b9b1e2de282",
     "prev": "ce1f4a62-d4e6-4291-bfcd-00185cc3802b",
     "regions": {
      "93345960-904d-4615-90ed-eb87612f641a": {
       "attrs": {
        "height": 0.8,
        "width": 0.8,
        "x": 0.1,
        "y": 0.1
       },
       "content": {
        "cell": "d8045f4c-6ab6-425c-a4de-ec5e672046af",
        "part": "whole"
       },
       "id": "93345960-904d-4615-90ed-eb87612f641a"
      }
     }
    },
    "247b4d41-ac35-49c5-8097-76f0c6c3d001": {
     "id": "247b4d41-ac35-49c5-8097-76f0c6c3d001",
     "prev": "ab6afdaa-0dfe-4a35-8b13-fc6404224d75",
     "regions": {
      "e0a7dd7d-993e-4f97-8ba0-258a4fab3048": {
       "attrs": {
        "height": 0.8,
        "width": 0.8,
        "x": 0.1,
        "y": 0.1
       },
       "content": {
        "cell": "edf8a095-1be4-40ee-b7f9-6109c30e6c82",
        "part": "whole"
       },
       "id": "e0a7dd7d-993e-4f97-8ba0-258a4fab3048"
      }
     }
    },
    "2a55acee-d1d1-49c0-9e7c-9fa4de9a4f1a": {
     "id": "2a55acee-d1d1-49c0-9e7c-9fa4de9a4f1a",
     "prev": "0d2817d3-ffee-4c9e-af4f-a407f4a873f2",
     "regions": {
      "37d62c97-4705-4fba-a77a-f5aed282fd77": {
       "attrs": {
        "height": 0.8,
        "width": 0.8,
        "x": 0.1,
        "y": 0.1
       },
       "content": {
        "cell": "86757bd8-c655-48ea-b55e-67ba8370efd7",
        "part": "whole"
       },
       "id": "37d62c97-4705-4fba-a77a-f5aed282fd77"
      }
     }
    },
    "2a755841-eda9-461f-b75a-b784fa27b20e": {
     "id": "2a755841-eda9-461f-b75a-b784fa27b20e",
     "prev": "80dc9696-f613-47a0-b743-490b3f5ef84d",
     "regions": {
      "12b083ba-1792-4cf0-8aed-c6921c0c251b": {
       "attrs": {
        "height": 0.8,
        "width": 0.8,
        "x": 0.1,
        "y": 0.1
       },
       "content": {
        "cell": "38b4ced5-05e3-4795-bf77-4f511475898a",
        "part": "whole"
       },
       "id": "12b083ba-1792-4cf0-8aed-c6921c0c251b"
      }
     }
    },
    "2aec212f-6b7d-4ff1-80ee-e268bd99663f": {
     "id": "2aec212f-6b7d-4ff1-80ee-e268bd99663f",
     "prev": "cec60d8f-cc35-4a1b-9cf0-95dd93d93ea9",
     "regions": {
      "183cd288-68a6-4fb9-8485-d083369e13ba": {
       "attrs": {
        "height": 0.8,
        "width": 0.8,
        "x": 0.1,
        "y": 0.1
       },
       "content": {
        "cell": "f93e3a24-fc14-4908-8d5f-b6ff3a2b9adb",
        "part": "whole"
       },
       "id": "183cd288-68a6-4fb9-8485-d083369e13ba"
      }
     }
    },
    "2f6f8bd0-52c2-4709-adc1-939804ae638b": {
     "id": "2f6f8bd0-52c2-4709-adc1-939804ae638b",
     "prev": "3cc6f680-8f18-4d86-a56a-6e74ea2217c6",
     "regions": {
      "33db1910-6720-4912-848f-9390bbc537ee": {
       "attrs": {
        "height": 0.8,
        "width": 0.8,
        "x": 0.1,
        "y": 0.1
       },
       "content": {
        "cell": "2a0e54ba-3c6e-428b-9a07-c7e5d80f4ce0",
        "part": "whole"
       },
       "id": "33db1910-6720-4912-848f-9390bbc537ee"
      }
     }
    },
    "3025e525-21a4-449a-8437-38683905ace0": {
     "id": "3025e525-21a4-449a-8437-38683905ace0",
     "prev": "6cddc9a8-aac3-4424-887d-39bb44e013e0",
     "regions": {
      "632613e7-6742-42f8-823c-b9a16d3864fa": {
       "attrs": {
        "height": 0.8,
        "width": 0.8,
        "x": 0.1,
        "y": 0.1
       },
       "content": {
        "cell": "1550a2ce-74c7-4854-a375-757ca3e8c14c",
        "part": "whole"
       },
       "id": "632613e7-6742-42f8-823c-b9a16d3864fa"
      }
     }
    },
    "3151970f-b24b-4c33-80b4-e03004aa12e2": {
     "id": "3151970f-b24b-4c33-80b4-e03004aa12e2",
     "prev": "38260bd4-7ff0-47f6-ae34-920121510898",
     "regions": {
      "2c9de38e-0d5b-4df8-9e9e-1d6047c2eec5": {
       "attrs": {
        "height": 0.8,
        "width": 0.8,
        "x": 0.1,
        "y": 0.1
       },
       "content": {
        "cell": "4b23d384-1675-4dfe-81d6-08b6cb8f9db0",
        "part": "whole"
       },
       "id": "2c9de38e-0d5b-4df8-9e9e-1d6047c2eec5"
      }
     }
    },
    "328d87f9-6551-41e6-ba02-6a8c3e2d68a3": {
     "id": "328d87f9-6551-41e6-ba02-6a8c3e2d68a3",
     "prev": "158a0bd9-f4db-42c5-9f51-4265360a76a8",
     "regions": {
      "267007fa-a7af-4693-b8b1-ac07259e5657": {
       "attrs": {
        "height": 0.8,
        "width": 0.8,
        "x": 0.1,
        "y": 0.1
       },
       "content": {
        "cell": "96cec8da-3908-41d1-8922-0e9fcaa517cf",
        "part": "whole"
       },
       "id": "267007fa-a7af-4693-b8b1-ac07259e5657"
      }
     }
    },
    "35c11687-af62-4c1f-a509-c0dfa5e90b2f": {
     "id": "35c11687-af62-4c1f-a509-c0dfa5e90b2f",
     "prev": "5de12a0c-0341-40de-b569-bea314036aca",
     "regions": {
      "5b89ea78-18af-4a64-8860-e3092dd96b88": {
       "attrs": {
        "height": 0.8,
        "width": 0.8,
        "x": 0.1,
        "y": 0.1
       },
       "content": {
        "cell": "f5d7abac-4699-4147-8889-8495074ae76f",
        "part": "whole"
       },
       "id": "5b89ea78-18af-4a64-8860-e3092dd96b88"
      }
     }
    },
    "38260bd4-7ff0-47f6-ae34-920121510898": {
     "id": "38260bd4-7ff0-47f6-ae34-920121510898",
     "prev": "cb6dd451-846a-46be-b9c7-147cc2dd5e99",
     "regions": {
      "bd681ae0-e32b-4883-baa2-2cce3a959ced": {
       "attrs": {
        "height": 0.8,
        "width": 0.8,
        "x": 0.1,
        "y": 0.1
       },
       "content": {
        "cell": "f8da8d73-e717-442d-aa30-553f02b3ce7d",
        "part": "whole"
       },
       "id": "bd681ae0-e32b-4883-baa2-2cce3a959ced"
      }
     }
    },
    "3ade0653-f13f-4da2-801a-055ec22d193a": {
     "id": "3ade0653-f13f-4da2-801a-055ec22d193a",
     "prev": "9b59babe-da89-4cc5-8f42-840090732324",
     "regions": {
      "e7582c2a-f32c-4609-bc20-6609d744bc0a": {
       "attrs": {
        "height": 0.8,
        "width": 0.8,
        "x": 0.1,
        "y": 0.1
       },
       "content": {
        "cell": "66e279ee-4e1b-4153-8e59-04865bd87a5b",
        "part": "whole"
       },
       "id": "e7582c2a-f32c-4609-bc20-6609d744bc0a"
      }
     }
    },
    "3c3b4f4d-5314-45e0-b121-6f255875ab69": {
     "id": "3c3b4f4d-5314-45e0-b121-6f255875ab69",
     "prev": "8466cef0-e782-4c10-be94-020c8b384062",
     "regions": {
      "88692e4a-9e9a-4e09-a17a-bec192af3dc2": {
       "attrs": {
        "height": 0.8,
        "width": 0.8,
        "x": 0.1,
        "y": 0.1
       },
       "content": {
        "cell": "ad6eb245-8187-4d72-8133-7ca4f22d0e87",
        "part": "whole"
       },
       "id": "88692e4a-9e9a-4e09-a17a-bec192af3dc2"
      }
     }
    },
    "3cc6f680-8f18-4d86-a56a-6e74ea2217c6": {
     "id": "3cc6f680-8f18-4d86-a56a-6e74ea2217c6",
     "prev": "d0237f9f-325e-4878-8add-58ade8a5c617",
     "regions": {
      "07ed665e-6fa2-484c-9190-0fd0fed9ffe6": {
       "attrs": {
        "height": 0.8,
        "width": 0.8,
        "x": 0.1,
        "y": 0.1
       },
       "content": {
        "cell": "a26efe83-85cc-4a81-b4a9-3708cdfb765c",
        "part": "whole"
       },
       "id": "07ed665e-6fa2-484c-9190-0fd0fed9ffe6"
      }
     }
    },
    "3e4e88cb-4833-4b16-86fc-c4249f6909ba": {
     "id": "3e4e88cb-4833-4b16-86fc-c4249f6909ba",
     "prev": "328d87f9-6551-41e6-ba02-6a8c3e2d68a3",
     "regions": {
      "1fcc4394-469e-44f0-b9ec-cf2e0f9122a1": {
       "attrs": {
        "height": 0.8,
        "width": 0.8,
        "x": 0.1,
        "y": 0.1
       },
       "content": {
        "cell": "b949f65a-e8de-4898-a042-f1d06289ab9e",
        "part": "whole"
       },
       "id": "1fcc4394-469e-44f0-b9ec-cf2e0f9122a1"
      }
     }
    },
    "4174e037-453d-4cd3-a61d-1f51da3af56d": {
     "id": "4174e037-453d-4cd3-a61d-1f51da3af56d",
     "prev": "d94d56fe-370c-4158-9b8a-c238313df3d5",
     "regions": {
      "f73ab669-648b-4326-81b7-128860abd22d": {
       "attrs": {
        "height": 0.8,
        "width": 0.8,
        "x": 0.1,
        "y": 0.1
       },
       "content": {
        "cell": "2c14b175-3508-49bb-981d-f5cee171b112",
        "part": "whole"
       },
       "id": "f73ab669-648b-4326-81b7-128860abd22d"
      }
     }
    },
    "4788cfa2-9984-43b5-acbe-37f597f3e64a": {
     "id": "4788cfa2-9984-43b5-acbe-37f597f3e64a",
     "prev": "3c3b4f4d-5314-45e0-b121-6f255875ab69",
     "regions": {
      "23a9c129-dca8-4783-b743-8f20db10dd74": {
       "attrs": {
        "height": 0.8,
        "width": 0.8,
        "x": 0.1,
        "y": 0.1
       },
       "content": {
        "cell": "d51ea80c-13e2-4412-8120-acf0e144eb62",
        "part": "whole"
       },
       "id": "23a9c129-dca8-4783-b743-8f20db10dd74"
      }
     }
    },
    "479879c7-b847-41b4-ab19-82c6b53bf670": {
     "id": "479879c7-b847-41b4-ab19-82c6b53bf670",
     "prev": "76938b9f-8a6f-4b8e-8d4a-c03d7932d591",
     "regions": {
      "74836821-2a60-4522-8d8a-1457d6ac47ee": {
       "attrs": {
        "height": 0.8,
        "width": 0.8,
        "x": 0.1,
        "y": 0.1
       },
       "content": {
        "cell": "3757289d-c6ad-42e0-8f94-d653bb4d3b5b",
        "part": "whole"
       },
       "id": "74836821-2a60-4522-8d8a-1457d6ac47ee"
      }
     }
    },
    "4c6a7933-e16d-4b88-978a-add9b95303be": {
     "id": "4c6a7933-e16d-4b88-978a-add9b95303be",
     "prev": "bd95c31f-a9d5-4aab-afa1-30e0f5239741",
     "regions": {
      "21d29952-2b9d-4786-9532-7555af308159": {
       "attrs": {
        "height": 0.8,
        "width": 0.8,
        "x": 0.1,
        "y": 0.1
       },
       "content": {
        "cell": "4ba98d23-3a71-4a3c-b05a-9d0d0485e067",
        "part": "whole"
       },
       "id": "21d29952-2b9d-4786-9532-7555af308159"
      }
     }
    },
    "4cfb2b4c-2a8f-448a-a97e-4277232f66a5": {
     "id": "4cfb2b4c-2a8f-448a-a97e-4277232f66a5",
     "prev": "699e3090-bc27-48ea-a2f4-2108e819bee5",
     "regions": {
      "450be23a-8295-45fc-9264-e53cf3d9fb03": {
       "attrs": {
        "height": 0.8,
        "width": 0.8,
        "x": 0.1,
        "y": 0.1
       },
       "content": {
        "cell": "65bb57a6-242f-4724-82c2-160364ffd60a",
        "part": "whole"
       },
       "id": "450be23a-8295-45fc-9264-e53cf3d9fb03"
      }
     }
    },
    "50aa3f51-0acf-4937-839f-8f26b351c9fd": {
     "id": "50aa3f51-0acf-4937-839f-8f26b351c9fd",
     "prev": "90c15d17-1029-4774-a386-81842c9ddb6f",
     "regions": {
      "40d00068-b313-4d84-8078-c1aa582bc240": {
       "attrs": {
        "height": 0.8,
        "width": 0.8,
        "x": 0.1,
        "y": 0.1
       },
       "content": {
        "cell": "ff7bd962-271f-4d15-82a0-126e6eb3e3f8",
        "part": "whole"
       },
       "id": "40d00068-b313-4d84-8078-c1aa582bc240"
      }
     }
    },
    "5a6ba8a9-e5b9-4c64-b8fa-c7c70c67261a": {
     "id": "5a6ba8a9-e5b9-4c64-b8fa-c7c70c67261a",
     "prev": "5f7c425b-adea-42b2-91f3-466c89f02931",
     "regions": {
      "6c285164-297a-4765-a135-9049ecf6efdb": {
       "attrs": {
        "height": 0.8,
        "width": 0.8,
        "x": 0.1,
        "y": 0.1
       },
       "content": {
        "cell": "f78c6498-c276-4ebf-902e-d6f7c6f4302c",
        "part": "whole"
       },
       "id": "6c285164-297a-4765-a135-9049ecf6efdb"
      }
     }
    },
    "5c52f587-5a22-42e3-b8b2-17caff5275b8": {
     "id": "5c52f587-5a22-42e3-b8b2-17caff5275b8",
     "prev": "73116f6a-7d36-47a1-863b-bb8ebe70691e",
     "regions": {
      "c8fe27b2-7e89-4ce9-8cb8-381dc381a70f": {
       "attrs": {
        "height": 0.8,
        "width": 0.8,
        "x": 0.1,
        "y": 0.1
       },
       "content": {
        "cell": "a910d4dc-c624-47cc-923d-28f89e2d50dd",
        "part": "whole"
       },
       "id": "c8fe27b2-7e89-4ce9-8cb8-381dc381a70f"
      }
     }
    },
    "5ccadac3-c238-41c6-957d-a4465d842a5b": {
     "id": "5ccadac3-c238-41c6-957d-a4465d842a5b",
     "prev": "1b0e23e9-321e-4c15-9df5-99afb711d7db",
     "regions": {
      "87ed1213-5b35-4ad2-b1b3-623bd7ee0766": {
       "attrs": {
        "height": 0.8,
        "width": 0.8,
        "x": 0.1,
        "y": 0.1
       },
       "content": {
        "cell": "3044b768-d5f3-45c4-8222-bc759d475057",
        "part": "whole"
       },
       "id": "87ed1213-5b35-4ad2-b1b3-623bd7ee0766"
      }
     }
    },
    "5de12a0c-0341-40de-b569-bea314036aca": {
     "id": "5de12a0c-0341-40de-b569-bea314036aca",
     "prev": "abdc0034-c691-454b-96bf-6b1a844d11f7",
     "regions": {
      "ee30403c-50a5-44ec-a8c7-27e5dc1e90b1": {
       "attrs": {
        "height": 0.8,
        "width": 0.8,
        "x": 0.1,
        "y": 0.1
       },
       "content": {
        "cell": "0fc1ecf2-3936-48ed-a560-e418f9d61b5f",
        "part": "whole"
       },
       "id": "ee30403c-50a5-44ec-a8c7-27e5dc1e90b1"
      }
     }
    },
    "5f7c425b-adea-42b2-91f3-466c89f02931": {
     "id": "5f7c425b-adea-42b2-91f3-466c89f02931",
     "prev": "3151970f-b24b-4c33-80b4-e03004aa12e2",
     "regions": {
      "ddf53a61-fb20-4e9f-a7cf-1766a814594b": {
       "attrs": {
        "height": 0.8,
        "width": 0.8,
        "x": 0.1,
        "y": 0.1
       },
       "content": {
        "cell": "e0ac3b45-fa70-4a75-90bd-af7101eef137",
        "part": "whole"
       },
       "id": "ddf53a61-fb20-4e9f-a7cf-1766a814594b"
      }
     }
    },
    "612ce8ca-6fe5-42af-9818-2e91f5d66b37": {
     "id": "612ce8ca-6fe5-42af-9818-2e91f5d66b37",
     "prev": "dd9dcb54-5712-458e-bdff-cbba3121f47f",
     "regions": {
      "c87d06cc-6a58-4c0e-802d-5c8052c3de9b": {
       "attrs": {
        "height": 0.8,
        "width": 0.8,
        "x": 0.1,
        "y": 0.1
       },
       "content": {
        "cell": "8581f545-0af4-41b4-bba9-aa2a37dc274a",
        "part": "whole"
       },
       "id": "c87d06cc-6a58-4c0e-802d-5c8052c3de9b"
      }
     }
    },
    "6490c753-8592-4b40-9414-0cf73b4c6956": {
     "id": "6490c753-8592-4b40-9414-0cf73b4c6956",
     "prev": "ca45ee1c-e1b9-4e47-a648-6249d162aa1d",
     "regions": {
      "b7a850ef-f45e-4a07-8ffc-affe8fa22a03": {
       "attrs": {
        "height": 0.8,
        "width": 0.8,
        "x": 0.1,
        "y": 0.1
       },
       "content": {
        "cell": "7ec3539a-f362-4b4b-bee8-9fd0f0debd59",
        "part": "whole"
       },
       "id": "b7a850ef-f45e-4a07-8ffc-affe8fa22a03"
      }
     }
    },
    "699e3090-bc27-48ea-a2f4-2108e819bee5": {
     "id": "699e3090-bc27-48ea-a2f4-2108e819bee5",
     "prev": "0acb345f-ba5d-4851-86a0-ae9593ef4c10",
     "regions": {
      "0ac9c98d-07b5-4642-ac30-0d677b5c7003": {
       "attrs": {
        "height": 0.8,
        "width": 0.8,
        "x": 0.1,
        "y": 0.1
       },
       "content": {
        "cell": "20850877-edbb-4eb3-afb3-1027ba13b785",
        "part": "whole"
       },
       "id": "0ac9c98d-07b5-4642-ac30-0d677b5c7003"
      }
     }
    },
    "69e1870d-582a-4678-87c4-d31fc3a392b4": {
     "id": "69e1870d-582a-4678-87c4-d31fc3a392b4",
     "prev": "4c6a7933-e16d-4b88-978a-add9b95303be",
     "regions": {
      "8952e95b-4bd7-4b7f-95e2-120aa7f43187": {
       "attrs": {
        "height": 0.8,
        "width": 0.8,
        "x": 0.1,
        "y": 0.1
       },
       "content": {
        "cell": "d61f37f3-7955-4484-8f24-b88861c65d0e",
        "part": "whole"
       },
       "id": "8952e95b-4bd7-4b7f-95e2-120aa7f43187"
      }
     }
    },
    "6ae7ac90-77b1-4f0b-99d3-23a1fc5e7836": {
     "id": "6ae7ac90-77b1-4f0b-99d3-23a1fc5e7836",
     "prev": "ea4ca871-f0b4-4094-9840-770067003326",
     "regions": {
      "f2fe9aad-04d9-4cca-b390-67969ef11dbd": {
       "attrs": {
        "height": 0.8,
        "width": 0.8,
        "x": 0.1,
        "y": 0.1
       },
       "content": {
        "cell": "b8d5c3db-c424-4a3e-831c-30157bf145f7",
        "part": "whole"
       },
       "id": "f2fe9aad-04d9-4cca-b390-67969ef11dbd"
      }
     }
    },
    "6cddc9a8-aac3-4424-887d-39bb44e013e0": {
     "id": "6cddc9a8-aac3-4424-887d-39bb44e013e0",
     "prev": "ea662ad4-b3d3-44f8-9c48-cac06ffa5e57",
     "regions": {
      "8d399756-32fd-40eb-92f8-ad3cd3cfb759": {
       "attrs": {
        "height": 0.8,
        "width": 0.8,
        "x": 0.1,
        "y": 0.1
       },
       "content": {
        "cell": "e21c5050-a440-4774-8f7c-dbd7fac87370",
        "part": "whole"
       },
       "id": "8d399756-32fd-40eb-92f8-ad3cd3cfb759"
      }
     }
    },
    "6de176a0-ed63-40f5-acb8-819bab3fd032": {
     "id": "6de176a0-ed63-40f5-acb8-819bab3fd032",
     "prev": "21b46d1a-ac24-4fb1-99a8-5b9b1e2de282",
     "regions": {
      "1fc1235e-fa95-40ea-a5e6-ff7e630a9f9b": {
       "attrs": {
        "height": 0.8,
        "width": 0.8,
        "x": 0.1,
        "y": 0.1
       },
       "content": {
        "cell": "9db15dfa-b044-4b03-af05-9f9cab7f328a",
        "part": "whole"
       },
       "id": "1fc1235e-fa95-40ea-a5e6-ff7e630a9f9b"
      }
     }
    },
    "730a7e43-b410-4103-b4df-8b2d1080c8a6": {
     "id": "730a7e43-b410-4103-b4df-8b2d1080c8a6",
     "prev": "479879c7-b847-41b4-ab19-82c6b53bf670",
     "regions": {
      "dbb63fc6-591e-4104-b989-01795605d5cd": {
       "attrs": {
        "height": 0.8,
        "width": 0.8,
        "x": 0.1,
        "y": 0.1
       },
       "content": {
        "cell": "5250b3e1-7ebf-4c21-a18e-316a999fe524",
        "part": "whole"
       },
       "id": "dbb63fc6-591e-4104-b989-01795605d5cd"
      }
     }
    },
    "73116f6a-7d36-47a1-863b-bb8ebe70691e": {
     "id": "73116f6a-7d36-47a1-863b-bb8ebe70691e",
     "prev": "bd2a57fc-5f28-4e72-9342-8b175e3f15c0",
     "regions": {
      "e322690c-ee86-489f-89fc-bdc77a5ae7e2": {
       "attrs": {
        "height": 0.8,
        "width": 0.8,
        "x": 0.1,
        "y": 0.1
       },
       "content": {
        "cell": "ba842829-d1b5-4eb6-a217-5bb4d63f6153",
        "part": "whole"
       },
       "id": "e322690c-ee86-489f-89fc-bdc77a5ae7e2"
      }
     }
    },
    "76938b9f-8a6f-4b8e-8d4a-c03d7932d591": {
     "id": "76938b9f-8a6f-4b8e-8d4a-c03d7932d591",
     "prev": "2aec212f-6b7d-4ff1-80ee-e268bd99663f",
     "regions": {
      "237b0ead-b226-4776-9411-ba5f99218574": {
       "attrs": {
        "height": 0.8,
        "width": 0.8,
        "x": 0.1,
        "y": 0.1
       },
       "content": {
        "cell": "9316b8c5-628c-4518-b9c3-26c8b294ab31",
        "part": "whole"
       },
       "id": "237b0ead-b226-4776-9411-ba5f99218574"
      }
     }
    },
    "76a0bc9b-e1f5-4a9e-aaa1-2f324d59bc8f": {
     "id": "76a0bc9b-e1f5-4a9e-aaa1-2f324d59bc8f",
     "prev": "838ea27f-b10d-4635-b179-be8e0c224e25",
     "regions": {
      "1ae9150b-9c7c-4352-b9b5-04338c50ce39": {
       "attrs": {
        "height": 0.8,
        "width": 0.8,
        "x": 0.1,
        "y": 0.1
       },
       "content": {
        "cell": "7a956d01-e36e-4082-96b1-711ec8fcaf94",
        "part": "whole"
       },
       "id": "1ae9150b-9c7c-4352-b9b5-04338c50ce39"
      }
     }
    },
    "80dc9696-f613-47a0-b743-490b3f5ef84d": {
     "id": "80dc9696-f613-47a0-b743-490b3f5ef84d",
     "prev": "0720dfbd-0a02-4ec8-a95d-edf85a44ad1d",
     "regions": {
      "8aed29aa-33a7-4d63-8747-a7d837b9915e": {
       "attrs": {
        "height": 0.8,
        "width": 0.8,
        "x": 0.1,
        "y": 0.1
       },
       "content": {
        "cell": "2de0ca15-b145-48dc-8ce3-ab41f9e772df",
        "part": "whole"
       },
       "id": "8aed29aa-33a7-4d63-8747-a7d837b9915e"
      }
     }
    },
    "838ea27f-b10d-4635-b179-be8e0c224e25": {
     "id": "838ea27f-b10d-4635-b179-be8e0c224e25",
     "prev": "5ccadac3-c238-41c6-957d-a4465d842a5b",
     "regions": {
      "84d4c57d-ade3-4423-8965-394b0d285490": {
       "attrs": {
        "height": 0.8,
        "width": 0.8,
        "x": 0.1,
        "y": 0.1
       },
       "content": {
        "cell": "410000fc-2eb9-490f-a131-047c42810ab8",
        "part": "whole"
       },
       "id": "84d4c57d-ade3-4423-8965-394b0d285490"
      }
     }
    },
    "8466cef0-e782-4c10-be94-020c8b384062": {
     "id": "8466cef0-e782-4c10-be94-020c8b384062",
     "prev": "35c11687-af62-4c1f-a509-c0dfa5e90b2f",
     "regions": {
      "e489a3a8-3158-45b4-9c2c-45547e7a24d5": {
       "attrs": {
        "height": 0.8,
        "width": 0.8,
        "x": 0.1,
        "y": 0.1
       },
       "content": {
        "cell": "84b7b350-673b-4efe-b510-4b0ec8a4adac",
        "part": "whole"
       },
       "id": "e489a3a8-3158-45b4-9c2c-45547e7a24d5"
      }
     }
    },
    "885bfbda-31de-4f0a-89c5-a90a07017c08": {
     "id": "885bfbda-31de-4f0a-89c5-a90a07017c08",
     "prev": "ca1fbfaa-d384-43ef-8b30-f5bd09164ef6",
     "regions": {
      "d7b94ee8-a070-4506-a753-ca962e84a9f0": {
       "attrs": {
        "height": 0.8,
        "width": 0.8,
        "x": 0.1,
        "y": 0.1
       },
       "content": {
        "cell": "cb699128-2e78-4716-9dea-a8cbb56485e8",
        "part": "whole"
       },
       "id": "d7b94ee8-a070-4506-a753-ca962e84a9f0"
      }
     }
    },
    "8b078ce5-0245-4a92-898c-92df1d2a2f69": {
     "id": "8b078ce5-0245-4a92-898c-92df1d2a2f69",
     "prev": "612ce8ca-6fe5-42af-9818-2e91f5d66b37",
     "regions": {
      "f51bf862-8137-41f2-ac3b-8f235f66a68c": {
       "attrs": {
        "height": 0.8,
        "width": 0.8,
        "x": 0.1,
        "y": 0.1
       },
       "content": {
        "cell": "e6eb109d-5777-410a-9084-71865ab3eb97",
        "part": "whole"
       },
       "id": "f51bf862-8137-41f2-ac3b-8f235f66a68c"
      }
     }
    },
    "8b51849c-4127-4ec3-8bc6-fed4e154116d": {
     "id": "8b51849c-4127-4ec3-8bc6-fed4e154116d",
     "prev": "4174e037-453d-4cd3-a61d-1f51da3af56d",
     "regions": {
      "05da79d3-81b2-4192-a8d0-444ef1b94c28": {
       "attrs": {
        "height": 0.8,
        "width": 0.8,
        "x": 0.1,
        "y": 0.1
       },
       "content": {
        "cell": "6e8aeea5-c06e-4e98-ac21-4eb63bfd716a",
        "part": "whole"
       },
       "id": "05da79d3-81b2-4192-a8d0-444ef1b94c28"
      }
     }
    },
    "8b79aaed-a506-4752-aff5-2301faf30d8e": {
     "id": "8b79aaed-a506-4752-aff5-2301faf30d8e",
     "prev": "d2065ff9-a716-4fbd-b07b-91343967c6a1",
     "regions": {
      "3f25dcf9-bf4f-4729-b900-7a8f56282789": {
       "attrs": {
        "height": 0.8,
        "width": 0.8,
        "x": 0.1,
        "y": 0.1
       },
       "content": {
        "cell": "d7c5685e-a05a-4dab-a657-a17d3de9d0c9",
        "part": "whole"
       },
       "id": "3f25dcf9-bf4f-4729-b900-7a8f56282789"
      }
     }
    },
    "90c15d17-1029-4774-a386-81842c9ddb6f": {
     "id": "90c15d17-1029-4774-a386-81842c9ddb6f",
     "prev": "730a7e43-b410-4103-b4df-8b2d1080c8a6",
     "regions": {
      "cba09548-b27f-4ab0-8163-a2d749ce2501": {
       "attrs": {
        "height": 0.8,
        "width": 0.8,
        "x": 0.1,
        "y": 0.1
       },
       "content": {
        "cell": "9246a1f2-56dd-4ae1-92c1-e35ad0dd3bf4",
        "part": "whole"
       },
       "id": "cba09548-b27f-4ab0-8163-a2d749ce2501"
      }
     }
    },
    "915f2ec7-778e-4e23-817e-960485e65aad": {
     "id": "915f2ec7-778e-4e23-817e-960485e65aad",
     "prev": "049feda9-9afd-4b7b-8600-435f6a3ee88c",
     "regions": {
      "8ec18737-c92c-4ffe-bc91-2c81fd786d73": {
       "attrs": {
        "height": 0.8,
        "width": 0.8,
        "x": 0.1,
        "y": 0.1
       },
       "content": {
        "cell": "bfdd404f-11d1-447d-9b8c-ccbe1356a446",
        "part": "whole"
       },
       "id": "8ec18737-c92c-4ffe-bc91-2c81fd786d73"
      }
     }
    },
    "9223f09c-54b5-4ce5-8b2d-a44ece9b813c": {
     "id": "9223f09c-54b5-4ce5-8b2d-a44ece9b813c",
     "prev": "cda51bb0-549b-4968-98d1-b4241934ca90",
     "regions": {
      "9863d540-568a-4f81-8531-2b2cb1aa6869": {
       "attrs": {
        "height": 0.8,
        "width": 0.8,
        "x": 0.1,
        "y": 0.1
       },
       "content": {
        "cell": "e8d5e469-3797-4977-ab45-723e8a96e069",
        "part": "whole"
       },
       "id": "9863d540-568a-4f81-8531-2b2cb1aa6869"
      }
     }
    },
    "93f5b8bf-3a09-4de0-970e-4797667aa9b8": {
     "id": "93f5b8bf-3a09-4de0-970e-4797667aa9b8",
     "prev": "eba23b89-97e4-4d7e-be18-3e19d562d4d5",
     "regions": {
      "2ef35631-5a73-4324-84d6-4542d3a5cca9": {
       "attrs": {
        "height": 0.8,
        "width": 0.8,
        "x": 0.1,
        "y": 0.1
       },
       "content": {
        "cell": "a4da0ca9-c76b-4772-8c4f-826a862b959a",
        "part": "whole"
       },
       "id": "2ef35631-5a73-4324-84d6-4542d3a5cca9"
      }
     }
    },
    "94cdc2dc-ca04-45d1-acb7-64abe297e2a1": {
     "id": "94cdc2dc-ca04-45d1-acb7-64abe297e2a1",
     "prev": "0f8d4dc8-95b7-4df3-a553-0895989f5452",
     "regions": {
      "72cd46e6-649e-4402-8fcd-7fb1942e1efb": {
       "attrs": {
        "height": 0.8,
        "width": 0.8,
        "x": 0.1,
        "y": 0.1
       },
       "content": {
        "cell": "959c18c4-7dbb-41fa-ab71-bb12ff04448b",
        "part": "whole"
       },
       "id": "72cd46e6-649e-4402-8fcd-7fb1942e1efb"
      }
     }
    },
    "9794cc87-ac9f-4b26-941c-b0cdb0cc01d5": {
     "id": "9794cc87-ac9f-4b26-941c-b0cdb0cc01d5",
     "prev": "042f48ea-343c-4f6f-bf59-b41dec9b2012",
     "regions": {
      "0a072a3d-b306-48ba-b48f-450ef433e8d9": {
       "attrs": {
        "height": 0.8,
        "width": 0.8,
        "x": 0.1,
        "y": 0.1
       },
       "content": {
        "cell": "5b98f9e0-d3d1-440b-9f1e-4e004379d7df",
        "part": "whole"
       },
       "id": "0a072a3d-b306-48ba-b48f-450ef433e8d9"
      }
     }
    },
    "9b59babe-da89-4cc5-8f42-840090732324": {
     "id": "9b59babe-da89-4cc5-8f42-840090732324",
     "prev": "11217648-069d-4332-a6c5-7083930ff0c9",
     "regions": {
      "0b691e63-0ff8-49ac-bedd-f8b282bb6561": {
       "attrs": {
        "height": 0.8,
        "width": 0.8,
        "x": 0.1,
        "y": 0.1
       },
       "content": {
        "cell": "b12d72d5-363c-4239-9301-f149d0fb9284",
        "part": "whole"
       },
       "id": "0b691e63-0ff8-49ac-bedd-f8b282bb6561"
      }
     }
    },
    "9d3caf73-46e8-450c-a377-f25700d4fd7d": {
     "id": "9d3caf73-46e8-450c-a377-f25700d4fd7d",
     "prev": "915f2ec7-778e-4e23-817e-960485e65aad",
     "regions": {
      "ecce4424-dfc0-42f4-bf32-5afa345eab73": {
       "attrs": {
        "height": 0.8,
        "width": 0.8,
        "x": 0.1,
        "y": 0.1
       },
       "content": {
        "cell": "50253839-bed5-42db-9525-da3c6408e562",
        "part": "whole"
       },
       "id": "ecce4424-dfc0-42f4-bf32-5afa345eab73"
      }
     }
    },
    "9e1ec66a-51bd-4d31-92c3-f3eacc3ed1f9": {
     "id": "9e1ec66a-51bd-4d31-92c3-f3eacc3ed1f9",
     "prev": "6de176a0-ed63-40f5-acb8-819bab3fd032",
     "regions": {
      "1aa66508-94d6-426d-9c9f-ac336099e073": {
       "attrs": {
        "height": 0.8,
        "width": 0.8,
        "x": 0.1,
        "y": 0.1
       },
       "content": {
        "cell": "886928c9-dd47-4783-813a-040420ac6caa",
        "part": "whole"
       },
       "id": "1aa66508-94d6-426d-9c9f-ac336099e073"
      }
     }
    },
    "a18a9483-5150-48c0-afb3-f65c87a824ec": {
     "id": "a18a9483-5150-48c0-afb3-f65c87a824ec",
     "prev": "76a0bc9b-e1f5-4a9e-aaa1-2f324d59bc8f",
     "regions": {
      "8768a422-8979-4b44-ac3c-e12382fd913c": {
       "attrs": {
        "height": 0.8,
        "width": 0.8,
        "x": 0.1,
        "y": 0.1
       },
       "content": {
        "cell": "73ca12cd-cdb7-4119-9dbc-249834841667",
        "part": "whole"
       },
       "id": "8768a422-8979-4b44-ac3c-e12382fd913c"
      }
     }
    },
    "a1eb98d5-89e9-448f-862e-b3c50dec961a": {
     "id": "a1eb98d5-89e9-448f-862e-b3c50dec961a",
     "prev": "dda2f779-4290-46b7-bf16-0663bc47264f",
     "regions": {
      "cbe45d00-6ca1-4947-bc4f-d800570e6638": {
       "attrs": {
        "height": 0.8,
        "width": 0.8,
        "x": 0.1,
        "y": 0.1
       },
       "content": {
        "cell": "550e0a66-7c68-41ee-a5d1-0a952db5be4c",
        "part": "whole"
       },
       "id": "cbe45d00-6ca1-4947-bc4f-d800570e6638"
      }
     }
    },
    "a38bca0f-8ea1-40b2-a57d-dbd84baeb8aa": {
     "id": "a38bca0f-8ea1-40b2-a57d-dbd84baeb8aa",
     "prev": "af8d06ab-9c12-42d4-ac03-1afbd7f316ac",
     "regions": {
      "b4e1c0e6-fdfb-4642-bd8d-f5d949ffe12b": {
       "attrs": {
        "height": 0.8,
        "width": 0.8,
        "x": 0.1,
        "y": 0.1
       },
       "content": {
        "cell": "f333f795-6ff3-4eba-a394-5f9a55f6ebcd",
        "part": "whole"
       },
       "id": "b4e1c0e6-fdfb-4642-bd8d-f5d949ffe12b"
      }
     }
    },
    "a5d71cb9-f308-4543-9f63-9f06cc9ca44d": {
     "id": "a5d71cb9-f308-4543-9f63-9f06cc9ca44d",
     "prev": "c1d74783-a728-4613-b8ca-9e1bdc465863",
     "regions": {
      "368ea001-35dd-4fb9-868e-5b54413deb73": {
       "attrs": {
        "height": 0.8,
        "width": 0.8,
        "x": 0.1,
        "y": 0.1
       },
       "content": {
        "cell": "aa60eeb9-cd5d-4d6b-be48-6623c04b480b",
        "part": "whole"
       },
       "id": "368ea001-35dd-4fb9-868e-5b54413deb73"
      }
     }
    },
    "a7029e0d-1167-4897-87b3-1d2982e2ec4b": {
     "id": "a7029e0d-1167-4897-87b3-1d2982e2ec4b",
     "prev": "0952c2bd-ed14-41a7-acd0-deb48cf93ecb",
     "regions": {
      "81683314-ddbe-4321-9470-0fd0f533905a": {
       "attrs": {
        "height": 0.8,
        "width": 0.8,
        "x": 0.1,
        "y": 0.1
       },
       "content": {
        "cell": "22f3aec9-3b23-4036-aafc-44de651cc6a5",
        "part": "whole"
       },
       "id": "81683314-ddbe-4321-9470-0fd0f533905a"
      }
     }
    },
    "ab6afdaa-0dfe-4a35-8b13-fc6404224d75": {
     "id": "ab6afdaa-0dfe-4a35-8b13-fc6404224d75",
     "prev": "d5b807d5-3341-47bf-873b-45edf0a9ae0a",
     "regions": {
      "069293ee-570b-4805-b729-37f90390b42e": {
       "attrs": {
        "height": 0.8,
        "width": 0.8,
        "x": 0.1,
        "y": 0.1
       },
       "content": {
        "cell": "012b7b0b-3b02-4c53-a730-873a5d45be2d",
        "part": "whole"
       },
       "id": "069293ee-570b-4805-b729-37f90390b42e"
      }
     }
    },
    "abdc0034-c691-454b-96bf-6b1a844d11f7": {
     "id": "abdc0034-c691-454b-96bf-6b1a844d11f7",
     "prev": "a1eb98d5-89e9-448f-862e-b3c50dec961a",
     "regions": {
      "25935f41-03e1-40d9-8a08-08d3b54bbcda": {
       "attrs": {
        "height": 0.8,
        "width": 0.8,
        "x": 0.1,
        "y": 0.1
       },
       "content": {
        "cell": "a48f5b48-8178-4e79-a333-9942c45e1306",
        "part": "whole"
       },
       "id": "25935f41-03e1-40d9-8a08-08d3b54bbcda"
      }
     }
    },
    "ad72b0b4-db91-4210-8544-70a7089afe43": {
     "id": "ad72b0b4-db91-4210-8544-70a7089afe43",
     "prev": "3ade0653-f13f-4da2-801a-055ec22d193a",
     "regions": {
      "560bcbdd-4438-49cb-80a2-bbf01d4a6dbf": {
       "attrs": {
        "height": 0.8,
        "width": 0.8,
        "x": 0.1,
        "y": 0.1
       },
       "content": {
        "cell": "6e4eabcd-84bb-4a92-b75a-0f430c75d10e",
        "part": "whole"
       },
       "id": "560bcbdd-4438-49cb-80a2-bbf01d4a6dbf"
      }
     }
    },
    "af8d06ab-9c12-42d4-ac03-1afbd7f316ac": {
     "id": "af8d06ab-9c12-42d4-ac03-1afbd7f316ac",
     "prev": "4788cfa2-9984-43b5-acbe-37f597f3e64a",
     "regions": {
      "db75fb21-519c-4409-8150-891ff21b59ed": {
       "attrs": {
        "height": 0.8,
        "width": 0.8,
        "x": 0.1,
        "y": 0.1
       },
       "content": {
        "cell": "9a2b7d01-c310-4d09-8533-6fa257b434b0",
        "part": "whole"
       },
       "id": "db75fb21-519c-4409-8150-891ff21b59ed"
      }
     }
    },
    "bd2a57fc-5f28-4e72-9342-8b175e3f15c0": {
     "id": "bd2a57fc-5f28-4e72-9342-8b175e3f15c0",
     "prev": "2a755841-eda9-461f-b75a-b784fa27b20e",
     "regions": {
      "ba62f716-be37-4bfa-91bc-2e50176f4dd3": {
       "attrs": {
        "height": 0.8,
        "width": 0.8,
        "x": 0.1,
        "y": 0.1
       },
       "content": {
        "cell": "d21a11fe-70a3-487e-8b15-3514fbc4a863",
        "part": "whole"
       },
       "id": "ba62f716-be37-4bfa-91bc-2e50176f4dd3"
      }
     }
    },
    "bd95c31f-a9d5-4aab-afa1-30e0f5239741": {
     "id": "bd95c31f-a9d5-4aab-afa1-30e0f5239741",
     "prev": "2a55acee-d1d1-49c0-9e7c-9fa4de9a4f1a",
     "regions": {
      "7372caa5-150f-4bae-950b-61cd230dea15": {
       "attrs": {
        "height": 0.8,
        "width": 0.8,
        "x": 0.1,
        "y": 0.1
       },
       "content": {
        "cell": "9dbbe034-b1eb-4b50-bfab-2bff04a41966",
        "part": "whole"
       },
       "id": "7372caa5-150f-4bae-950b-61cd230dea15"
      }
     }
    },
    "c1d74783-a728-4613-b8ca-9e1bdc465863": {
     "id": "c1d74783-a728-4613-b8ca-9e1bdc465863",
     "prev": "3025e525-21a4-449a-8437-38683905ace0",
     "regions": {
      "72a90c75-386d-4d74-8d46-d424d85f2eee": {
       "attrs": {
        "height": 0.8,
        "width": 0.8,
        "x": 0.1,
        "y": 0.1
       },
       "content": {
        "cell": "bb704c0e-7e85-488e-9235-4b57d4025e22",
        "part": "whole"
       },
       "id": "72a90c75-386d-4d74-8d46-d424d85f2eee"
      }
     }
    },
    "ca1fbfaa-d384-43ef-8b30-f5bd09164ef6": {
     "id": "ca1fbfaa-d384-43ef-8b30-f5bd09164ef6",
     "prev": "a38bca0f-8ea1-40b2-a57d-dbd84baeb8aa",
     "regions": {
      "11ee793a-f5a7-44e4-a1da-f347f7c5f1de": {
       "attrs": {
        "height": 0.8,
        "width": 0.8,
        "x": 0.1,
        "y": 0.1
       },
       "content": {
        "cell": "ea2b6de1-9fea-4022-8fbb-63b4a6a27374",
        "part": "whole"
       },
       "id": "11ee793a-f5a7-44e4-a1da-f347f7c5f1de"
      }
     }
    },
    "ca45ee1c-e1b9-4e47-a648-6249d162aa1d": {
     "id": "ca45ee1c-e1b9-4e47-a648-6249d162aa1d",
     "prev": "8b51849c-4127-4ec3-8bc6-fed4e154116d",
     "regions": {
      "3e7b7d4c-48bc-4aac-9f5e-5e3da839b8ac": {
       "attrs": {
        "height": 0.8,
        "width": 0.8,
        "x": 0.1,
        "y": 0.1
       },
       "content": {
        "cell": "cda50d45-14ee-4b71-a02c-a9aef59d989e",
        "part": "whole"
       },
       "id": "3e7b7d4c-48bc-4aac-9f5e-5e3da839b8ac"
      }
     }
    },
    "cb6dd451-846a-46be-b9c7-147cc2dd5e99": {
     "id": "cb6dd451-846a-46be-b9c7-147cc2dd5e99",
     "prev": "94cdc2dc-ca04-45d1-acb7-64abe297e2a1",
     "regions": {
      "f52de8f8-3b37-4351-89d6-c5c7ddaf323f": {
       "attrs": {
        "height": 0.8,
        "width": 0.8,
        "x": 0.1,
        "y": 0.1
       },
       "content": {
        "cell": "d47d0895-4fce-4f36-b3ec-15478314ec96",
        "part": "whole"
       },
       "id": "f52de8f8-3b37-4351-89d6-c5c7ddaf323f"
      }
     }
    },
    "cda51bb0-549b-4968-98d1-b4241934ca90": {
     "id": "cda51bb0-549b-4968-98d1-b4241934ca90",
     "prev": "8b79aaed-a506-4752-aff5-2301faf30d8e",
     "regions": {
      "6107ef42-ce56-4dc7-8f81-078edface8d7": {
       "attrs": {
        "height": 0.8,
        "width": 0.8,
        "x": 0.1,
        "y": 0.1
       },
       "content": {
        "cell": "866b9fdb-0a7a-4437-8e04-b4898f33d094",
        "part": "whole"
       },
       "id": "6107ef42-ce56-4dc7-8f81-078edface8d7"
      }
     }
    },
    "ce1f4a62-d4e6-4291-bfcd-00185cc3802b": {
     "id": "ce1f4a62-d4e6-4291-bfcd-00185cc3802b",
     "prev": "0c9ca9ef-e75e-482d-9891-e8274ab4021b",
     "regions": {
      "d0c96424-f13d-465e-b27b-c44c49129b85": {
       "attrs": {
        "height": 0.8,
        "width": 0.8,
        "x": 0.1,
        "y": 0.1
       },
       "content": {
        "cell": "1e2feef6-8b99-455f-9252-20d1797eb88c",
        "part": "whole"
       },
       "id": "d0c96424-f13d-465e-b27b-c44c49129b85"
      }
     }
    },
    "cec60d8f-cc35-4a1b-9cf0-95dd93d93ea9": {
     "id": "cec60d8f-cc35-4a1b-9cf0-95dd93d93ea9",
     "prev": "9d3caf73-46e8-450c-a377-f25700d4fd7d",
     "regions": {
      "34950a4a-3ff1-452f-8d87-10c748eb3838": {
       "attrs": {
        "height": 0.8,
        "width": 0.8,
        "x": 0.1,
        "y": 0.1
       },
       "content": {
        "cell": "b694c888-4264-4c53-a37e-c8b3ba4da0e3",
        "part": "whole"
       },
       "id": "34950a4a-3ff1-452f-8d87-10c748eb3838"
      }
     }
    },
    "d0237f9f-325e-4878-8add-58ade8a5c617": {
     "id": "d0237f9f-325e-4878-8add-58ade8a5c617",
     "prev": "a7029e0d-1167-4897-87b3-1d2982e2ec4b",
     "regions": {
      "99214e86-6f8d-4012-a20e-a4bc52f1cc45": {
       "attrs": {
        "height": 0.8,
        "width": 0.8,
        "x": 0.1,
        "y": 0.1
       },
       "content": {
        "cell": "6c62fcbe-1b5d-4cfe-bcb9-b57735f3e166",
        "part": "whole"
       },
       "id": "99214e86-6f8d-4012-a20e-a4bc52f1cc45"
      }
     }
    },
    "d2065ff9-a716-4fbd-b07b-91343967c6a1": {
     "id": "d2065ff9-a716-4fbd-b07b-91343967c6a1",
     "prev": "2f6f8bd0-52c2-4709-adc1-939804ae638b",
     "regions": {
      "535657b3-87ca-4cd0-b35c-246a8e9de453": {
       "attrs": {
        "height": 0.8,
        "width": 0.8,
        "x": 0.1,
        "y": 0.1
       },
       "content": {
        "cell": "1b35c300-b241-4f23-a1d7-8ebfc731e0a6",
        "part": "whole"
       },
       "id": "535657b3-87ca-4cd0-b35c-246a8e9de453"
      }
     }
    },
    "d253e82f-1f46-41b8-a53f-1b1eb3f72add": {
     "id": "d253e82f-1f46-41b8-a53f-1b1eb3f72add",
     "prev": "a5d71cb9-f308-4543-9f63-9f06cc9ca44d",
     "regions": {
      "a5dfd817-4484-4ae5-8e90-e5a1b2fb1b1a": {
       "attrs": {
        "height": 0.8,
        "width": 0.8,
        "x": 0.1,
        "y": 0.1
       },
       "content": {
        "cell": "752222da-ece7-4fdb-ad0e-ca97ef348f18",
        "part": "whole"
       },
       "id": "a5dfd817-4484-4ae5-8e90-e5a1b2fb1b1a"
      }
     }
    },
    "d5b807d5-3341-47bf-873b-45edf0a9ae0a": {
     "id": "d5b807d5-3341-47bf-873b-45edf0a9ae0a",
     "prev": "ad72b0b4-db91-4210-8544-70a7089afe43",
     "regions": {
      "abef9b61-d608-40b6-a6eb-8075ea9ff3f6": {
       "attrs": {
        "height": 0.8,
        "width": 0.8,
        "x": 0.1,
        "y": 0.1
       },
       "content": {
        "cell": "8fe262de-40d5-40a3-a7ae-91a4d445d0cc",
        "part": "whole"
       },
       "id": "abef9b61-d608-40b6-a6eb-8075ea9ff3f6"
      }
     }
    },
    "d94d56fe-370c-4158-9b8a-c238313df3d5": {
     "id": "d94d56fe-370c-4158-9b8a-c238313df3d5",
     "prev": "e4ad3f9c-f6be-4967-83d2-d212c719de34",
     "regions": {
      "3d22d76f-f82e-49e2-92fc-f3c75ebb4628": {
       "attrs": {
        "height": 0.8,
        "width": 0.8,
        "x": 0.1,
        "y": 0.1
       },
       "content": {
        "cell": "8bfe922d-4358-41d1-93cc-605f7865bf25",
        "part": "whole"
       },
       "id": "3d22d76f-f82e-49e2-92fc-f3c75ebb4628"
      }
     }
    },
    "dd9dcb54-5712-458e-bdff-cbba3121f47f": {
     "id": "dd9dcb54-5712-458e-bdff-cbba3121f47f",
     "prev": "fa696783-6cf7-4f3b-bedb-5151b11d3dce",
     "regions": {
      "aa22f46b-4d28-4753-9f28-04065d05d428": {
       "attrs": {
        "height": 0.8,
        "width": 0.8,
        "x": 0.1,
        "y": 0.1
       },
       "content": {
        "cell": "47328494-bdb3-4add-b112-08a5a80072a3",
        "part": "whole"
       },
       "id": "aa22f46b-4d28-4753-9f28-04065d05d428"
      }
     }
    },
    "dda2f779-4290-46b7-bf16-0663bc47264f": {
     "id": "dda2f779-4290-46b7-bf16-0663bc47264f",
     "prev": "6490c753-8592-4b40-9414-0cf73b4c6956",
     "regions": {
      "a4fb8b1d-a1cc-4aa9-9e9b-f6f851a41d49": {
       "attrs": {
        "height": 0.8,
        "width": 0.8,
        "x": 0.1,
        "y": 0.1
       },
       "content": {
        "cell": "0796f323-d7dd-470e-926f-d95a6dfca37d",
        "part": "whole"
       },
       "id": "a4fb8b1d-a1cc-4aa9-9e9b-f6f851a41d49"
      }
     }
    },
    "dee865b5-000a-4099-ad55-7cee25993175": {
     "id": "dee865b5-000a-4099-ad55-7cee25993175",
     "prev": "5a6ba8a9-e5b9-4c64-b8fa-c7c70c67261a",
     "regions": {
      "2d2ba975-3bd8-4a2c-a08a-2aa11da128d2": {
       "attrs": {
        "height": 0.8,
        "width": 0.8,
        "x": 0.1,
        "y": 0.1
       },
       "content": {
        "cell": "f4c13d31-a247-45d9-b5f6-bcf4622a5d0d",
        "part": "whole"
       },
       "id": "2d2ba975-3bd8-4a2c-a08a-2aa11da128d2"
      }
     }
    },
    "e4ad3f9c-f6be-4967-83d2-d212c719de34": {
     "id": "e4ad3f9c-f6be-4967-83d2-d212c719de34",
     "prev": "9223f09c-54b5-4ce5-8b2d-a44ece9b813c",
     "regions": {
      "5a80f97b-b387-4d29-8479-d5848e254be6": {
       "attrs": {
        "height": 0.8,
        "width": 0.8,
        "x": 0.1,
        "y": 0.1
       },
       "content": {
        "cell": "0b932bf2-a406-487f-b8de-4bfa81612e29",
        "part": "whole"
       },
       "id": "5a80f97b-b387-4d29-8479-d5848e254be6"
      }
     }
    },
    "e64bc843-1c39-45cf-8354-7c40dfbb4787": {
     "id": "e64bc843-1c39-45cf-8354-7c40dfbb4787",
     "prev": "1fc49314-e75e-4113-a7ce-007c3d80126d",
     "regions": {
      "5f83e6b5-ffeb-47c4-b818-68f32a164756": {
       "attrs": {
        "height": 0.8,
        "width": 0.8,
        "x": 0.1,
        "y": 0.1
       },
       "content": {
        "cell": "8cf6f9a6-782c-4dce-9e81-6f1b055ed5d0",
        "part": "whole"
       },
       "id": "5f83e6b5-ffeb-47c4-b818-68f32a164756"
      }
     }
    },
    "ea4ca871-f0b4-4094-9840-770067003326": {
     "id": "ea4ca871-f0b4-4094-9840-770067003326",
     "prev": "4cfb2b4c-2a8f-448a-a97e-4277232f66a5",
     "regions": {
      "e0ef58bb-a014-4d99-82be-33dfb6531add": {
       "attrs": {
        "height": 0.8,
        "width": 0.8,
        "x": 0.1,
        "y": 0.1
       },
       "content": {
        "cell": "067908a5-bdfd-4824-8ddf-5503ef1ee625",
        "part": "whole"
       },
       "id": "e0ef58bb-a014-4d99-82be-33dfb6531add"
      }
     }
    },
    "ea662ad4-b3d3-44f8-9c48-cac06ffa5e57": {
     "id": "ea662ad4-b3d3-44f8-9c48-cac06ffa5e57",
     "prev": "f596424e-5626-4a70-bdb9-81979ba36e7d",
     "regions": {
      "996f6ea1-0ca8-405a-b77e-349e8cc886f9": {
       "attrs": {
        "height": 0.8,
        "width": 0.8,
        "x": 0.1,
        "y": 0.1
       },
       "content": {
        "cell": "7f0007e1-9d87-4287-b4e2-0c8ca4917dc8",
        "part": "whole"
       },
       "id": "996f6ea1-0ca8-405a-b77e-349e8cc886f9"
      }
     }
    },
    "eba23b89-97e4-4d7e-be18-3e19d562d4d5": {
     "id": "eba23b89-97e4-4d7e-be18-3e19d562d4d5",
     "prev": "d253e82f-1f46-41b8-a53f-1b1eb3f72add",
     "regions": {
      "e82afbf2-37f5-483a-a1ba-bdf2704a582e": {
       "attrs": {
        "height": 0.8,
        "width": 0.8,
        "x": 0.1,
        "y": 0.1
       },
       "content": {
        "cell": "c77b0c71-36ab-4c10-a300-9e759bea71d5",
        "part": "whole"
       },
       "id": "e82afbf2-37f5-483a-a1ba-bdf2704a582e"
      }
     }
    },
    "ed199600-d77a-4e82-8b44-7ec45fc97ea3": {
     "id": "ed199600-d77a-4e82-8b44-7ec45fc97ea3",
     "prev": "f6efec9f-1e5f-4f67-902a-a8c135f1c423",
     "regions": {
      "cee8eff9-a321-442c-9de8-a860133711a0": {
       "attrs": {
        "height": 0.8,
        "width": 0.8,
        "x": 0.1,
        "y": 0.1
       },
       "content": {
        "cell": "2e4cf385-4690-4ee2-a2d6-2ea7a272ffe4",
        "part": "whole"
       },
       "id": "cee8eff9-a321-442c-9de8-a860133711a0"
      }
     }
    },
    "f596424e-5626-4a70-bdb9-81979ba36e7d": {
     "id": "f596424e-5626-4a70-bdb9-81979ba36e7d",
     "prev": "a18a9483-5150-48c0-afb3-f65c87a824ec",
     "regions": {
      "dad7be23-484d-45c3-bbbb-282de9f8aec2": {
       "attrs": {
        "height": 0.8,
        "width": 0.8,
        "x": 0.1,
        "y": 0.1
       },
       "content": {
        "cell": "3e329299-9156-4b45-a9c3-0f0b7b6e2c4e",
        "part": "whole"
       },
       "id": "dad7be23-484d-45c3-bbbb-282de9f8aec2"
      }
     }
    },
    "f6efec9f-1e5f-4f67-902a-a8c135f1c423": {
     "id": "f6efec9f-1e5f-4f67-902a-a8c135f1c423",
     "prev": "3e4e88cb-4833-4b16-86fc-c4249f6909ba",
     "regions": {
      "ad342239-c6f9-4f83-a28c-846a4a01a1b8": {
       "attrs": {
        "height": 0.8,
        "width": 0.8,
        "x": 0.1,
        "y": 0.1
       },
       "content": {
        "cell": "17ed637c-0ce2-4340-9897-3ec282d5bca8",
        "part": "whole"
       },
       "id": "ad342239-c6f9-4f83-a28c-846a4a01a1b8"
      }
     }
    },
    "fa696783-6cf7-4f3b-bedb-5151b11d3dce": {
     "id": "fa696783-6cf7-4f3b-bedb-5151b11d3dce",
     "prev": "062f9e5d-8f6d-453c-a614-42dd3787d402",
     "regions": {
      "0e6b6cf6-0590-4250-8e42-23d5e3644864": {
       "attrs": {
        "height": 0.8,
        "width": 0.8,
        "x": 0.1,
        "y": 0.1
       },
       "content": {
        "cell": "1929d985-b619-46c4-9201-a4dc202976e2",
        "part": "whole"
       },
       "id": "0e6b6cf6-0590-4250-8e42-23d5e3644864"
      }
     }
    }
   },
   "themes": {}
  },
  "toc": {
   "colors": {
    "hover_highlight": "#DAA520",
    "navigate_num": "#000000",
    "navigate_text": "#333333",
    "running_highlight": "#FF0000",
    "selected_highlight": "#FFD700",
    "sidebar_border": "#EEEEEE",
    "wrapper_background": "#FFFFFF"
   },
   "moveMenuLeft": true,
   "nav_menu": {
    "height": "513px",
    "width": "253px"
   },
   "navigate_menu": true,
   "number_sections": true,
   "sideBar": true,
   "threshold": 4,
   "toc_cell": true,
   "toc_position": {
    "height": "801px",
    "left": "0px",
    "right": "1368.52px",
    "top": "91px",
    "width": "236px"
   },
   "toc_section_display": "block",
   "toc_window_display": true,
   "widenNotebook": false
  },
  "toc-autonumbering": true,
  "varInspector": {
   "cols": {
    "lenName": 16,
    "lenType": 16,
    "lenVar": 40
   },
   "kernels_config": {
    "python": {
     "delete_cmd_postfix": "",
     "delete_cmd_prefix": "del ",
     "library": "var_list.py",
     "varRefreshCmd": "print(var_dic_list())"
    },
    "r": {
     "delete_cmd_postfix": ") ",
     "delete_cmd_prefix": "rm(",
     "library": "var_list.r",
     "varRefreshCmd": "cat(var_dic_list()) "
    }
   },
   "types_to_exclude": [
    "module",
    "function",
    "builtin_function_or_method",
    "instance",
    "_Feature"
   ],
   "window_display": false
  },
  "widgets": {
   "application/vnd.jupyter.widget-state+json": {
    "state": {},
    "version_major": 1,
    "version_minor": 0
   }
  }
 },
 "nbformat": 4,
 "nbformat_minor": 4
}
