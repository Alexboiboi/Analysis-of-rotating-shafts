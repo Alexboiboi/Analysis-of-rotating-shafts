{
 "cells": [
  {
   "cell_type": "markdown",
   "metadata": {
    "extensions": {
     "jupyter_dashboards": {
      "version": 1,
      "views": {
       "grid_default": {
        "col": 0,
        "height": 4,
        "hidden": false,
        "row": 127,
        "width": 12
       },
       "report_default": {
        "hidden": false
       }
      }
     }
    },
    "hide_input": true,
    "nbpresent": {
     "id": "8cf6f9a6-782c-4dce-9e81-6f1b055ed5d0"
    },
    "slideshow": {
     "slide_type": "skip"
    }
   },
   "source": [
    "## Important information\n",
    "<font color=\"red\"> <b> ⚠ This documment is written as a Jupyter notebook and the code used to produce these analyses may be hidden for ease of readability. The notebook's interactivity as an exported html file is limited. For full widgets-interactivity it needs to run with a python kernel (e.g. jupyter notebook, jupyterlab apps) <br>\n",
    "    To make the code visible click here:\n",
    " </b> </font>"
   ]
  },
  {
   "cell_type": "code",
   "execution_count": null,
   "metadata": {
    "extensions": {
     "jupyter_dashboards": {
      "version": 1,
      "views": {
       "grid_default": {
        "col": 0,
        "height": 4,
        "hidden": false,
        "row": 127,
        "width": 12
       },
       "report_default": {
        "hidden": false
       }
      }
     }
    },
    "hide_input": true,
    "nbpresent": {
     "id": "8cf6f9a6-782c-4dce-9e81-6f1b055ed5d0"
    },
    "slideshow": {
     "slide_type": "skip"
    }
   },
   "outputs": [],
   "source": [
    "%%HTML\n",
    "<script>\n",
    "code_show=true; \n",
    "function code_toggle() {\n",
    "if (code_show){\n",
    "$('div.input').hide();\n",
    "} else {\n",
    "$('div.input').show();\n",
    "}\n",
    "code_show = !code_show\n",
    "} \n",
    "$( document ).ready(code_toggle);\n",
    "</script>\n",
    "<form action=\"javascript:code_toggle()\"><input type=\"submit\" value=\"Hide/show code\"></form>"
   ]
  },
  {
   "cell_type": "markdown",
   "metadata": {},
   "source": [
    "# Run data preprocessing"
   ]
  },
  {
   "cell_type": "code",
   "execution_count": null,
   "metadata": {},
   "outputs": [],
   "source": [
    "%%capture\n",
    "%run 03_Analysis_in_the_order_domain.ipynb"
   ]
  },
  {
   "cell_type": "markdown",
   "metadata": {
    "hide_input": true,
    "nbpresent": {
     "id": "84b7b350-673b-4efe-b510-4b0ec8a4adac"
    }
   },
   "source": [
    "# Confidence intervals (on encoder difference)\n",
    "\n",
    "In this section, the goal is to determine the confidence intervals of the calculated natural frequency by using an Gaussian curve-fitting on the projected data points from the spectrogram analysis on the Frequency-Amplitude plane."
   ]
  },
  {
   "cell_type": "markdown",
   "metadata": {
    "nbpresent": {
     "id": "ad6eb245-8187-4d72-8133-7ca4f22d0e87"
    }
   },
   "source": [
    "## Method 1: Distribution of the maxima\n",
    "The simplest method to evaluate the natural frequency value is by computing the maximum for each experiment series separately and conduct a statistical study on the obtained values. Because the number of samples is small and the standard deviation is unknown the parameters for the confidence interval are calculated using the probability density function of the [Student t distribution](https://en.wikipedia.org/wiki/Student%27s_t-distribution 'Wiki page'):\n",
    "\n",
    "$$ t_{(x,\\nu)} = \\dfrac{\\Gamma \\left( \\frac{\\nu+1}{2} +1\\right)}{\\sqrt{\\nu \\pi}\\Gamma \\left( \\frac{\\nu}{2}\\right)} \\left( 1 + \\frac{x^2}{\\nu} \\right)^{-\\frac{\\nu+1}{2}} $$\n",
    "\n",
    "With a confidence value of 95%, a number of samples $n$ and a standard deviation $\\sigma$ the frequency $f$:\n",
    "\n",
    "$$f_n = \\overline{f_{rpm}}_n \\pm t_{(0.05,n-1)} \\dfrac{S_n}{\\sqrt{\\sigma}}  $$"
   ]
  },
  {
   "cell_type": "code",
   "execution_count": null,
   "metadata": {
    "code_folding": [
     0
    ],
    "init_cell": true,
    "nbpresent": {
     "id": "9a2b7d01-c310-4d09-8533-6fa257b434b0"
    }
   },
   "outputs": [],
   "source": [
    "def distribFit1(Expe, isfiltered=True):\n",
    "    cut_time = Expe.cut_time\n",
    "    xdata = []\n",
    "    ydata = []\n",
    "    indexdata = []\n",
    "    fstart = Expe.f*0.75\n",
    "    fend = Expe.f*1.25\n",
    "    Nstart = int(fstart*cut_time)\n",
    "    Nend = int(fend*cut_time)\n",
    "    N = Nend-Nstart\n",
    "    maxF = []\n",
    "    for i in range(Expe.numoffiles):\n",
    "        if isfiltered:\n",
    "            indexofmax = Nstart + np.argmax(Expe[i].fft_amp_filt_1minus2[Nstart:Nend])\n",
    "            maxF.append(Expe[i].fft_freq_filt_1minus2[indexofmax])\n",
    "        else:\n",
    "            indexofmax = Nstart + np.argmax(Expe[i].fft_amp_1minus2[Nstart:Nend])\n",
    "            maxF.append(Expe[i].fft_freq_1minus2[indexofmax])\n",
    "            \n",
    "    nof = Expe.numoffiles\n",
    "    mu = np.mean(maxF)\n",
    "    sigma = np.std(maxF)\n",
    "    alpha = t.ppf(0.95, nof-1) * sigma/(np.sqrt(nof))\n",
    "    \n",
    "    fig = make_subplots(rows=2, cols=1, row_heights=[0.4,0.8], vertical_spacing=0.01,\n",
    "                        specs=[[{\"type\": \"table\"}],[{\"type\":\"scatter\"}]])\n",
    "    \n",
    "    table1 = {'Expectation µ = f [Hz]': f\"{mu:.2f}\" ,\n",
    "              'Standard deviation σ [Hz]': f\"{sigma:.2f}\",\n",
    "              'Confidence α [%]' : '5',\n",
    "              'Confidence interval [Hz]' : f'{mu:.2f} ± {alpha:.2f}'                           \n",
    "             }\n",
    "    df1 = pd.DataFrame(table1, index = ['Value'])\n",
    "    \n",
    "    fig.add_trace(go.Scatter(\n",
    "        showlegend=False,\n",
    "        x = Expe.speed_list,\n",
    "        y = maxF,\n",
    "        text = Expe.f_multiples.round(1),\n",
    "        textposition=\"top center\",\n",
    "        mode = 'markers+text',\n",
    "        marker_color = Expe.f_multiples,\n",
    "        marker_colorscale = 'bluered',\n",
    "        marker_colorbar = dict(thickness=20, title='closeness 𝛿f')\n",
    "        ),2,1\n",
    "    )\n",
    "    fig.add_trace(go.Table(header=dict(values=list(table1.keys())),\n",
    "                 cells=dict(values=list(table1.values()))),\n",
    "                 1,1)\n",
    "    fig.update_layout(height = 350, title = f\"Frequencies corresponding to the maximum local amplitudes on {'' if isfiltered else 'un'}filtered data<br>\" + Expe.shaft_desc, \n",
    "                  xaxis1=dict(title='Driven angular velocity'),\n",
    "                  yaxis1=dict(title='Frequency [Hz]')\n",
    "                  )\n",
    "    fig.show()\n",
    "    display(df1)\n",
    "    #save_plot_button(fig)"
   ]
  },
  {
   "cell_type": "markdown",
   "metadata": {
    "editable": false,
    "nbpresent": {
     "id": "f333f795-6ff3-4eba-a394-5f9a55f6ebcd"
    }
   },
   "source": [
    "### Healthy shaft"
   ]
  },
  {
   "cell_type": "code",
   "execution_count": null,
   "metadata": {},
   "outputs": [],
   "source": [
    "distribFit1(HeS, isfiltered=False)"
   ]
  },
  {
   "cell_type": "code",
   "execution_count": null,
   "metadata": {
    "nbpresent": {
     "id": "ea2b6de1-9fea-4022-8fbb-63b4a6a27374"
    }
   },
   "outputs": [],
   "source": [
    "distribFit1(HeS, isfiltered=True)"
   ]
  },
  {
   "cell_type": "markdown",
   "metadata": {
    "nbpresent": {
     "id": "cb699128-2e78-4716-9dea-a8cbb56485e8"
    }
   },
   "source": [
    "### Cracked shaft_multiples"
   ]
  },
  {
   "cell_type": "code",
   "execution_count": null,
   "metadata": {},
   "outputs": [],
   "source": [
    "distribFit1(CrS, isfiltered=False)"
   ]
  },
  {
   "cell_type": "code",
   "execution_count": null,
   "metadata": {
    "nbpresent": {
     "id": "ea2b6de1-9fea-4022-8fbb-63b4a6a27374"
    }
   },
   "outputs": [],
   "source": [
    "distribFit1(CrS, isfiltered=True)"
   ]
  },
  {
   "cell_type": "markdown",
   "metadata": {
    "editable": false,
    "nbpresent": {
     "id": "3044b768-d5f3-45c4-8222-bc759d475057"
    }
   },
   "source": [
    "## Method 2: Curve fitting with fixed amplitude on filtered FFT\n",
    "This method is based on the [curve_fit](https://docs.scipy.org/doc/scipy/reference/generated/scipy.optimize.curve_fit.html) function of the [scipy](https://www.scipy.org/) module. The assumption is that the peaks in the frequency spectrograms can be assimilated to a gaussian distribution:\n",
    "\n",
    "$$A(f,\\mu,\\sigma, C) =  C\\cdot e^{-\\dfrac{(f-\\mu)^2}{2\\sigma^2}}$$\n",
    "\n",
    "The terms to be determined in the curve fitting are the amplitude $C$, the expectation term $\\mu$ and the standard deviation $\\sigma$\n",
    "In this case the datasets for all different driven angular velocities are combined and the parameters are calculated for the joined dataset."
   ]
  },
  {
   "cell_type": "code",
   "execution_count": null,
   "metadata": {
    "code_folding": [
     0
    ],
    "init_cell": true,
    "nbpresent": {
     "id": "410000fc-2eb9-490f-a131-047c42810ab8"
    }
   },
   "outputs": [],
   "source": [
    "def distribFit2(Expe):\n",
    "    cut_time = Expe.cut_time\n",
    "    xdata = []\n",
    "    ydata = []\n",
    "    fstart = 0.5\n",
    "    fend = Expe.f*2\n",
    "    Nstart = int(fstart*cut_time)\n",
    "    Nend = int(fend*cut_time)\n",
    "\n",
    "    for i in range(Expe.numoffiles):\n",
    "        xdata.append(Expe[i].fft_freq_filt_1minus2[Nstart:Nend])\n",
    "        ydata.append(Expe[i].fft_amp_filt_1minus2[Nstart:Nend])\n",
    "    xdata = np.array(xdata).flatten()\n",
    "    ydata = np.array(ydata).flatten()\n",
    "    \n",
    "    def func(f, C, mu, sigma):\n",
    "        return C * np.exp(-(f-mu)**2/(2*sigma**2))\n",
    "    bounds = ([0., Expe.f-5, 1.],[0.02, Expe.f+5, 2.])\n",
    "    #Fit for the parameters C, mu, sigma of the function func\n",
    "    popt, pcov = curve_fit(func, xdata, ydata, bounds=bounds)\n",
    "    \n",
    "    C, mu, sigma = popt\n",
    "    \n",
    "    trace1 = go.Scatter(\n",
    "        x = xdata,\n",
    "        y = ydata,\n",
    "        mode = 'markers',\n",
    "        marker = dict(size = 3),\n",
    "        name = 'data points'\n",
    "    )\n",
    "    #xdata = xdata[0:Nend]\n",
    "    trace2 = go.Scatter(\n",
    "        x = xdata[Nstart+1:Nend-1],\n",
    "        y = func(xdata, *popt)[Nstart+1:Nend-1],\n",
    "        mode = 'lines',\n",
    "        marker = dict(line= dict(width=1), color  = 'orange'),\n",
    "        name = 'curve fit'\n",
    "    )\n",
    "    maxF = 3*np.max(func(xdata, *popt))\n",
    "    text = f\"Expectation µ = f = {mu:.2f}Hz<br>\" + \\\n",
    "       f\"Standard deviation σ = {sigma:.2f}Hz<br>\" + \\\n",
    "       f\"Amplitude C = {C:.2f}\"\n",
    "    layout = dict(title = 'Gaussian curve fitting on filtered FFT (single peak single amplitude) -grouped-<br>' + Expe.shaft_desc, \n",
    "                  xaxis=dict(title='Freq [Hz]'),\n",
    "                  yaxis=dict(title='|Y(freq)|', range = [0,maxF]),\n",
    "                  height=400,\n",
    "                  annotations = [\n",
    "                      dict(x=1, y=1, ax=0, ay=0, xref='paper', yref='paper', \n",
    "                            text=text, align='right', bgcolor=\"#ff7f0e\",\n",
    "                            showarrow = False)\n",
    "                  ]\n",
    "                  )\n",
    "\n",
    "    data = [trace1, trace2]\n",
    "    fig = go.Figure(data=data, layout=layout)\n",
    "    fig.show()\n",
    "    save_plot_button(fig)\n",
    "    "
   ]
  },
  {
   "cell_type": "markdown",
   "metadata": {
    "editable": false,
    "nbpresent": {
     "id": "7a956d01-e36e-4082-96b1-711ec8fcaf94"
    }
   },
   "source": [
    "### Healthy shaft"
   ]
  },
  {
   "cell_type": "code",
   "execution_count": null,
   "metadata": {
    "editable": false,
    "nbpresent": {
     "id": "73ca12cd-cdb7-4119-9dbc-249834841667"
    }
   },
   "outputs": [],
   "source": [
    "distribFit2(HeS)"
   ]
  },
  {
   "cell_type": "markdown",
   "metadata": {
    "editable": false,
    "nbpresent": {
     "id": "3e329299-9156-4b45-a9c3-0f0b7b6e2c4e"
    }
   },
   "source": [
    "### Cracked shaft"
   ]
  },
  {
   "cell_type": "code",
   "execution_count": null,
   "metadata": {
    "editable": false,
    "nbpresent": {
     "id": "7f0007e1-9d87-4287-b4e2-0c8ca4917dc8"
    }
   },
   "outputs": [],
   "source": [
    "distribFit2(CrS)"
   ]
  },
  {
   "cell_type": "markdown",
   "metadata": {
    "editable": false,
    "nbpresent": {
     "id": "e21c5050-a440-4774-8f7c-dbd7fac87370"
    }
   },
   "source": [
    "## Method 3: Least square optimization with adapted amplitudes on filtered FFT\n",
    "For this method, we also try to fit a function to a model like in the previous section, but find the parameters with a least square optimization with the function [least_squares](https://docs.scipy.org/doc/scipy/reference/tutorial/optimize.html) of the [scipy](https://www.scipy.org/) module. Since the amplitudes of the FFT around the frequency zone to be fitted is variable from one dataset to another, the amplitudes are parametrized individually."
   ]
  },
  {
   "cell_type": "markdown",
   "metadata": {
    "editable": false,
    "nbpresent": {
     "id": "1550a2ce-74c7-4854-a375-757ca3e8c14c"
    }
   },
   "source": [
    "### Single peak\n",
    "- model:\n",
    "\n",
    "$$A(f,\\mu,\\sigma, C_{rpm}) =  C_{rpm} \\cdot e^{-\\dfrac{(f-\\mu)^2}{2\\sigma^2}}$$\n",
    "\n",
    "\n",
    "- function to minimize:\n",
    "\n",
    "$$ \\sum{\\left( FFT - A(f,\\mu,\\sigma, C_{rpm}) \\right)^2 } $$\n",
    "\n",
    "The terms to be determined in the optimization are the amplitudes $C_{rpm}$ with $rpm$ ranging from {{HeS.speed_list[0] + ' to ' + HeS.speed_list[-1]}}, the expectation term $\\mu$ and the standard deviation $\\sigma$"
   ]
  },
  {
   "cell_type": "code",
   "execution_count": null,
   "metadata": {
    "code_folding": [
     0
    ],
    "hide_input": true,
    "init_cell": true,
    "nbpresent": {
     "id": "bb704c0e-7e85-488e-9235-4b57d4025e22"
    }
   },
   "outputs": [],
   "source": [
    "def distribFit3_sliders(Expe):\n",
    "    nof = Expe.numoffiles\n",
    "    cut_time = Expe.cut_time\n",
    "    xdata = []\n",
    "    ydata = []\n",
    "    indexdata = []\n",
    "    fstart = 0.5\n",
    "    fend = Expe.f*2\n",
    "    Nstart = int(fstart*cut_time)\n",
    "    Nend = int(fend*cut_time)\n",
    "    N = Nend-Nstart\n",
    "    for i in range(Expe.numoffiles):\n",
    "        xdata.append(Expe[i].fft_freq_filt_1minus2[Nstart:Nend])\n",
    "        ydata.append(Expe[i].fft_amp_filt_1minus2[Nstart:Nend])\n",
    "        indexdata.append(np.ones((Nend-Nstart,), dtype=np.int)*i)\n",
    "    \n",
    "    x = np.array(xdata).flatten()\n",
    "    y = np.array(ydata).flatten()\n",
    "    k = np.array(indexdata).flatten()\n",
    "    u = np.column_stack((k,x))\n",
    "    \n",
    "    # define model function\n",
    "    def model(x, u):\n",
    "        k = u[:,0].astype(int)\n",
    "        mu = x[0]\n",
    "        sigma = x[1]\n",
    "        C = x[k+2]\n",
    "        return C * np.exp(-(u[:,1]-mu)**2/(2*sigma**2))\n",
    "    \n",
    "    # define function to optimize\n",
    "    def fun(x, u, y):\n",
    "        return model(x, u) - y\n",
    "    # define guesses for the simulation\n",
    "    x0 = [Expe.f, 2] + [0.02 for i in range(Expe.numoffiles)]\n",
    "    \n",
    "    # solve the least square optimization\n",
    "    res = least_squares(fun,x0, args=(u, y), verbose=1)\n",
    "    \n",
    "    # show results\n",
    "    mu = res.x[0]\n",
    "    sigma = res.x[1]\n",
    "    C = res.x[2:]\n",
    "    \n",
    "    pd.set_option('display.max_columns', 10)\n",
    "    table1 = {'Expectation $\\mu = f $ [Hz]': mu , 'Standard deviation $\\sigma$ [Hz]': sigma}\n",
    "    table2 = {'Amplitudes $C_{rpm}$' : C}\n",
    "    df1 = pd.DataFrame(table1, index = ['Value']).round(2)\n",
    "    df2 = pd.DataFrame(table2,index = HeS.speed_list).T.round(4);\n",
    "    display(df1,df2)\n",
    "    \n",
    "    # plot the data\n",
    "    trace0 = [] ; trace1 = []\n",
    "    for i in range(Expe.numoffiles):\n",
    "        E=Expe[i]\n",
    "        trace0.append(go.Scatter(\n",
    "            visible = False,\n",
    "            x = x[i*N:(i+1)*N],\n",
    "            y = y[i*N:(i+1)*N],\n",
    "            mode = 'markers',\n",
    "            marker =  dict(size= 3),\n",
    "            name = E.speed_rpm_str + ' data points '\n",
    "        ))\n",
    "        trace1.append(go.Scatter(\n",
    "            visible = False,\n",
    "            x = x[i*N:(i+1)*N],\n",
    "            y = model(res.x, u)[i*N:(i+1)*N],\n",
    "            mode = 'lines',\n",
    "            marker= dict(line= dict(width=1)),\n",
    "            name =  E.speed_rpm_str + ' curve fit'\n",
    "            ))\n",
    "\n",
    "    data = trace0 + trace1\n",
    "\n",
    "    data[0]['visible'] = True\n",
    "    data[nof]['visible'] = True\n",
    "\n",
    "    steps = []\n",
    "    for i in range(nof):\n",
    "        step = dict(\n",
    "            method = 'restyle',\n",
    "            args = ['visible', [False] * len(data)],\n",
    "            label=Expe[i].speed_rpm_str\n",
    "        )\n",
    "        step['args'][1][i] = True # Toggle i'th trace to \"visible\"\n",
    "        step['args'][1][i+nof] = True # Toggle i'th trace to \"visible\"\n",
    "        steps.append(step)\n",
    "    \n",
    "    sliders = [dict(\n",
    "        active = 0,\n",
    "        currentvalue = dict(prefix = \"Driven angular velocity: \"),\n",
    "        steps = steps,\n",
    "        pad = {\"t\": 80}\n",
    "    )]\n",
    "    \n",
    "    updatemenus = [\n",
    "        dict(buttons= [\n",
    "            dict(\n",
    "                args = ['visible', [True] * len(data)],\n",
    "                label='See all traces',\n",
    "                method='restyle'\n",
    "                )],\n",
    "            direction = 'left',\n",
    "            pad = {'r': 10, 't': 10},\n",
    "            showactive = False,\n",
    "            type = 'buttons',\n",
    "            x = 0.1,\n",
    "            xanchor = 'left',\n",
    "            y = 1,\n",
    "            yanchor = 'top' \n",
    "        )\n",
    "    ]\n",
    "    maxF = np.max(model(res.x, u))\n",
    "    layout = dict(hovermode = 'closest',\n",
    "                  updatemenus = updatemenus,\n",
    "                  sliders = sliders, \n",
    "                  title = 'Gaussian curve-fitting on the projected data points from the spectrogram analysis on the Frequency-Amplitude plane <br>' + Expe.shaft_desc, \n",
    "                  xaxis=dict(title='Freq [Hz]'),\n",
    "                  yaxis=dict(title='|Y(freq)|', range = [0,1.5*maxF])\n",
    "                  )\n",
    "\n",
    "    fig = go.Figure(data=data, layout=layout)\n",
    "    fig.show()\n",
    "    \n",
    "    save_plot_button(fig)\n",
    "    "
   ]
  },
  {
   "cell_type": "code",
   "execution_count": null,
   "metadata": {
    "code_folding": [
     0
    ],
    "hide_input": true,
    "init_cell": true,
    "nbpresent": {
     "id": "bb704c0e-7e85-488e-9235-4b57d4025e22"
    }
   },
   "outputs": [],
   "source": [
    "def distribFit3_single(Expe):\n",
    "    nof = Expe.numoffiles\n",
    "    cut_time = Expe.cut_time\n",
    "    xdata = []\n",
    "    ydata = []\n",
    "    indexdata = []\n",
    "    fstart = 0.5\n",
    "    fend = Expe.f*2\n",
    "    Nstart = int(fstart*cut_time)\n",
    "    Nend = int(fend*cut_time)\n",
    "    N = Nend-Nstart\n",
    "    for i in range(Expe.numoffiles):\n",
    "        xdata.append(Expe[i].fft_freq_filt_1minus2[Nstart:Nend])\n",
    "        ydata.append(Expe[i].fft_amp_filt_1minus2[Nstart:Nend])\n",
    "        indexdata.append(np.ones((Nend-Nstart,), dtype=np.int)*i)\n",
    "    \n",
    "    x = np.array(xdata).flatten()\n",
    "    y = np.array(ydata).flatten()\n",
    "    k = np.array(indexdata).flatten()\n",
    "    u = np.column_stack((k,x))\n",
    "    \n",
    "    # define model function\n",
    "    def model(x, u):\n",
    "        k = u[:,0].astype(int)\n",
    "        mu = x[0]\n",
    "        sigma = x[1]\n",
    "        C = x[k+2]\n",
    "        return C * np.exp(-(u[:,1]-mu)**2/(2*sigma**2))\n",
    "    \n",
    "    # define function to optimize\n",
    "    def fun(x, u, y):\n",
    "        return model(x, u) - y\n",
    "    # define guesses for the simulation\n",
    "    x0 = [Expe.f, 2] + [0.02 for i in range(Expe.numoffiles)]\n",
    "    \n",
    "    # solve the least square optimization\n",
    "    res = least_squares(fun,x0, args=(u, y), verbose=1)\n",
    "    \n",
    "    # show results\n",
    "    mu = res.x[0]\n",
    "    sigma = res.x[1]\n",
    "    C = res.x[2:]\n",
    "    \n",
    "    # plot the data\n",
    "    trace0 = [] ; trace1 = []\n",
    "    for i in range(Expe.numoffiles):\n",
    "        E=Expe[i]\n",
    "        trace0.append(go.Scatter(\n",
    "            x = x[i*N:(i+1)*N],\n",
    "            y = y[i*N:(i+1)*N],\n",
    "            mode = 'markers',\n",
    "            marker =  dict(size= 3),\n",
    "            name = E.speed_rpm_str + ' data points '\n",
    "        ))\n",
    "        trace1.append(go.Scatter(\n",
    "            x = x[i*N:(i+1)*N],\n",
    "            y = model(res.x, u)[i*N:(i+1)*N],\n",
    "            mode = 'lines',\n",
    "            marker= dict(line= dict(width=1)),\n",
    "            name =  E.speed_rpm_str + ' curve fit'\n",
    "            ))\n",
    "\n",
    "    data = trace0 + trace1\n",
    "\n",
    "    maxF = np.max(model(res.x, u))\n",
    "    text = f\"Expectation µ = f = {mu:.2f}Hz<br>\" + \\\n",
    "       f\"Standard deviation σ = {sigma:.2f}Hz\"\n",
    "    layout = dict(title = 'Least square optimization on filtered FFT (single peak) -grouped-<br>' + Expe.shaft_desc, \n",
    "                  xaxis=dict(title='Freq [Hz]'),\n",
    "                  yaxis=dict(title='|Y(freq)|', range = [0,maxF]),\n",
    "                  height=400,\n",
    "                  annotations = [\n",
    "                      dict(x=1, y=1, ax=0, ay=0, xref='paper', yref='paper', \n",
    "                            text=text, align='right', bgcolor=\"#ff7f0e\",\n",
    "                            showarrow = False)\n",
    "                  ]\n",
    "                 )\n",
    "\n",
    "    fig = go.Figure(data=data, layout=layout)\n",
    "    fig.show()\n",
    "    \n",
    "    save_plot_button(fig)"
   ]
  },
  {
   "cell_type": "code",
   "execution_count": null,
   "metadata": {},
   "outputs": [],
   "source": [
    "def distribFit3(Expe, yrange=None, log = False):\n",
    "    fig = make_subplots(rows=5, cols=6, subplot_titles=(Expe.speed_list),\n",
    "                        horizontal_spacing = 0.01, vertical_spacing=0.05,\n",
    "                        shared_yaxes=True, x_title='Freq [Hz]', y_title='|Y(freq)|')\n",
    "    \n",
    "    nof = Expe.numoffiles\n",
    "    cut_time = Expe.cut_time\n",
    "    xdata = []\n",
    "    ydata = []\n",
    "    indexdata = []\n",
    "    fstart = 0.5\n",
    "    fend = Expe.f*2\n",
    "    Nstart = int(fstart*cut_time)\n",
    "    Nend = int(fend*cut_time)\n",
    "    N = Nend-Nstart\n",
    "    for i in range(Expe.numoffiles):\n",
    "        xdata.append(Expe[i].fft_freq_filt_1minus2[Nstart:Nend])\n",
    "        ydata.append(Expe[i].fft_amp_filt_1minus2[Nstart:Nend])\n",
    "        indexdata.append(np.ones((Nend-Nstart,), dtype=np.int)*i)\n",
    "    \n",
    "    x = np.array(xdata).flatten()\n",
    "    y = np.array(ydata).flatten()\n",
    "    k = np.array(indexdata).flatten()\n",
    "    u = np.column_stack((k,x))\n",
    "    \n",
    "    # define model function\n",
    "    def model(x, u):\n",
    "        k = u[:,0].astype(int)\n",
    "        mu = x[0]\n",
    "        sigma = x[1]\n",
    "        C = x[k+2]\n",
    "        return C * np.exp(-(u[:,1]-mu)**2/(2*sigma**2))\n",
    "    \n",
    "    # define function to optimize\n",
    "    def fun(x, u, y):\n",
    "        return model(x, u) - y\n",
    "    # define guesses for the simulation\n",
    "    x0 = [Expe.f, 2] + [0.02 for i in range(Expe.numoffiles)]\n",
    "    \n",
    "    # solve the least square optimization\n",
    "    res = least_squares(fun,x0, args=(u, y), verbose=1)\n",
    "    \n",
    "    # show results\n",
    "    mu = res.x[0]\n",
    "    sigma = res.x[1]\n",
    "    C = res.x[2:]\n",
    "    \n",
    "    k=0\n",
    "    for i in range(1,6):\n",
    "        for j in range(1,7):\n",
    "            E = Expe[k]\n",
    "            NF = int(E.t1a[-1]*60)\n",
    "            fig.add_trace(go.Scatter(x = x[k*N:(k+1)*N],\n",
    "                                     y = y[k*N:(k+1)*N],\n",
    "                                     mode = 'markers',\n",
    "                                     marker =  dict(size= 1, color = 'blue'),\n",
    "                                     name = 'data points',\n",
    "                                     legendgroup=\"data\",\n",
    "                                     showlegend = True if k==0 else False\n",
    "                                    ),\n",
    "                          row=i, col=j\n",
    "                         )\n",
    "            fig.add_trace(go.Scatter(x = x[k*N:(k+1)*N],\n",
    "                                     y = model(res.x, u)[k*N:(k+1)*N],\n",
    "                                     mode = 'lines',\n",
    "                                     name =  'curve fit',\n",
    "                                     line = dict( color = 'red', width = 1),\n",
    "                                     legendgroup=\"fit\",\n",
    "                                     showlegend = True if k==0 else False\n",
    "                                    ),\n",
    "                          row=i, col=j\n",
    "                         )\n",
    "            \n",
    "            \n",
    "            k+=1\n",
    "\n",
    "    for a in fig.layout.annotations:\n",
    "        a.font.size = 12\n",
    "    if log == False and yrange!=None:\n",
    "        for i in range(1,31):\n",
    "            fig.layout[f'yaxis{i}'].range = (0,yrange)\n",
    "    fig.update_layout(title_text = 'Least square optimization on filtered FFT (single peak) -matrix-<br>' + Expe.shaft_desc,\n",
    "                      height=800, width=1000, font_size=10, legend_orientation=\"h\")\n",
    "    fig.show()\n",
    "    \n",
    "    save_plot_button(fig)"
   ]
  },
  {
   "cell_type": "markdown",
   "metadata": {
    "editable": false,
    "nbpresent": {
     "id": "aa60eeb9-cd5d-4d6b-be48-6623c04b480b"
    }
   },
   "source": [
    "#### Healthy shaft"
   ]
  },
  {
   "cell_type": "code",
   "execution_count": null,
   "metadata": {},
   "outputs": [],
   "source": [
    "distribFit3_single(HeS)"
   ]
  },
  {
   "cell_type": "code",
   "execution_count": null,
   "metadata": {
    "hide_input": true,
    "nbpresent": {
     "id": "752222da-ece7-4fdb-ad0e-ca97ef348f18"
    }
   },
   "outputs": [],
   "source": [
    "distribFit3(HeS, yrange=0.04)"
   ]
  },
  {
   "cell_type": "markdown",
   "metadata": {
    "editable": false,
    "nbpresent": {
     "id": "c77b0c71-36ab-4c10-a300-9e759bea71d5"
    }
   },
   "source": [
    "#### Cracked shaft"
   ]
  },
  {
   "cell_type": "code",
   "execution_count": null,
   "metadata": {},
   "outputs": [],
   "source": [
    "distribFit3_single(CrS)"
   ]
  },
  {
   "cell_type": "code",
   "execution_count": null,
   "metadata": {
    "editable": false,
    "hide_input": true,
    "nbpresent": {
     "id": "a4da0ca9-c76b-4772-8c4f-826a862b959a"
    }
   },
   "outputs": [],
   "source": [
    "distribFit3(CrS)"
   ]
  },
  {
   "cell_type": "markdown",
   "metadata": {
    "editable": false,
    "nbpresent": {
     "id": "4291deb2-a7ef-4db3-a12d-945415282bf4"
    }
   },
   "source": [
    "### Single peak, single wedge slope\n",
    "In the FFT spectrum we can see that the noisy data at low amplitudes tend to increase linearly at higher frequencies. Therefore we can adapt our model and add this further parameter to it. In this case a single slope value is parametrized for all the datasets.\n",
    "\n",
    "- model:\n",
    "\n",
    "$$A(f,\\mu,\\sigma, C_{rpm}) =  C_{rpm} \\cdot e^{-\\dfrac{(f-\\mu)^2}{2\\sigma^2}} + c\\cdot f $$\n",
    "\n",
    "\n",
    "- function to minimize:\n",
    "\n",
    "$$ \\sum{\\left( FFT - A(f,\\mu,\\sigma, C_{rpm},c) \\right)^2 } $$\n",
    "\n",
    "The terms to be determined in the optimization are the amplitudes $C_{rpm}$ with $rpm$ ranging from {{HeS.speed_list[0] + ' to ' + HeS.speed_list[-1]}}, the expectation term $\\mu$, the standard deviation $\\sigma$ and the wedge slope $c$"
   ]
  },
  {
   "cell_type": "code",
   "execution_count": null,
   "metadata": {
    "code_folding": [
     0
    ],
    "init_cell": true,
    "nbpresent": {
     "id": "c3fc0921-30ff-4cc1-b09c-be003f514942"
    }
   },
   "outputs": [],
   "source": [
    "def distribFit31_sliders(Expe):\n",
    "    nof = Expe.numoffiles\n",
    "    cut_time = Expe.cut_time\n",
    "    xdata = []\n",
    "    ydata = []\n",
    "    indexdata = []\n",
    "    fstart = 0.5\n",
    "    fend = Expe.f*2\n",
    "    Nstart = int(fstart*cut_time)\n",
    "    Nend = int(fend*cut_time)\n",
    "    N = Nend-Nstart\n",
    "    for i in range(Expe.numoffiles):\n",
    "        xdata.append(Expe[i].fft_freq_filt_1minus2[Nstart:Nend])\n",
    "        ydata.append(Expe[i].fft_amp_filt_1minus2[Nstart:Nend])\n",
    "        indexdata.append(np.ones((Nend-Nstart,), dtype=np.int)*i)\n",
    "    \n",
    "    x = np.array(xdata).flatten()\n",
    "    y = np.array(ydata).flatten()\n",
    "    k = np.array(indexdata).flatten()\n",
    "    u = np.column_stack((k,x))\n",
    "    \n",
    "    # define model function\n",
    "    def model(x, u):\n",
    "        k = u[:,0].astype(int)\n",
    "        mu = x[0]\n",
    "        sigma = x[1]\n",
    "        c = x[2]\n",
    "        C = x[k+3]\n",
    "        return C * np.exp(-(u[:,1]-mu)**2/(2*sigma**2)) + c*u[:,1]\n",
    "    \n",
    "    # define function to optimize\n",
    "    def fun(x, u, y):\n",
    "        return model(x, u) - y\n",
    "    \n",
    "    # define guesses for the simulation\n",
    "    x0 = [Expe.f, 2, 0.0001] + [0.02 for i in range(nof)]\n",
    "    \n",
    "    # solve the least square optimization\n",
    "    res = least_squares(fun,x0, args=(u, y), verbose=1)\n",
    "    \n",
    "    # show results\n",
    "    mu = res.x[0]\n",
    "    sigma = res.x[1]\n",
    "    c = res.x[2]\n",
    "    C = res.x[3:]\n",
    "    \n",
    "    pd.set_option('display.max_columns', 10)\n",
    "    table1 = {'Expectation $\\mu = f $ [Hz]': mu , \n",
    "              'Standard deviation $\\sigma$ [Hz]': sigma,\n",
    "              'Wedge slope $c \\cdot 10^3$': c*1000}\n",
    "    table2 = {'Amplitudes $C_{rpm}$' : C}\n",
    "    df1 = pd.DataFrame(table1, index = ['Value']).round(2)\n",
    "    df2 = pd.DataFrame(table2,index = HeS.speed_list).T.round(4);\n",
    "    display(df1,df2)\n",
    "    \n",
    "    # plot the data\n",
    "    trace0 = [] ; trace1 = []\n",
    "    for i in range(Expe.numoffiles):\n",
    "        E=Expe[i]\n",
    "        trace0.append(go.Scatter(\n",
    "            visible = False,\n",
    "            x = x[i*N:(i+1)*N],\n",
    "            y = y[i*N:(i+1)*N],\n",
    "            mode = 'markers',\n",
    "            marker =  dict(size= 3),\n",
    "            name = E.speed_rpm_str + ' data points '\n",
    "        ))\n",
    "        trace1.append(go.Scatter(\n",
    "            visible = False,\n",
    "            x = x[i*N:(i+1)*N],\n",
    "            y = model(res.x, u)[i*N:(i+1)*N],\n",
    "            mode = 'lines',\n",
    "            marker= dict(line= dict(width=1)),\n",
    "            name =  E.speed_rpm_str + ' curve fit'\n",
    "            ))\n",
    "\n",
    "    data = trace0 + trace1\n",
    "\n",
    "    data[0]['visible'] = True\n",
    "    data[nof]['visible'] = True\n",
    "\n",
    "    steps = []\n",
    "    for i in range(nof):\n",
    "        step = dict(\n",
    "            method = 'restyle',\n",
    "            args = ['visible', [False] * len(data)],\n",
    "            label=Expe[i].speed_rpm_str\n",
    "        )\n",
    "        step['args'][1][i] = True # Toggle i'th trace to \"visible\"\n",
    "        step['args'][1][i+nof] = True # Toggle i'th trace to \"visible\"\n",
    "        steps.append(step)\n",
    "    \n",
    "    sliders = [dict(\n",
    "        active = 0,\n",
    "        currentvalue = dict(prefix = \"Driven angular velocity: \"),\n",
    "        steps = steps,\n",
    "        pad = {\"t\": 80}\n",
    "    )]\n",
    "    \n",
    "    updatemenus = [\n",
    "        dict(buttons= [\n",
    "            dict(\n",
    "                args = ['visible', [True] * len(data)],\n",
    "                label='See all traces',\n",
    "                method='restyle'\n",
    "                )],\n",
    "            direction = 'left',\n",
    "            pad = {'r': 10, 't': 10},\n",
    "            showactive = False,\n",
    "            type = 'buttons',\n",
    "            x = 0.1,\n",
    "            xanchor = 'left',\n",
    "            y = 1,\n",
    "            yanchor = 'top' \n",
    "        )\n",
    "    ]\n",
    "    maxF = np.max(model(res.x, u))\n",
    "    layout = dict(hovermode = 'closest',\n",
    "                  updatemenus = updatemenus,\n",
    "                  sliders = sliders, \n",
    "                  title = 'Gaussian curve-fitting on the projected data points from the spectrogram analysis on the Frequency-Amplitude plane <br>' + Expe.shaft_desc, \n",
    "                  xaxis=dict(title='Freq [Hz]'),\n",
    "                  yaxis=dict(title='|Y(freq)|', range = [0,1.5*maxF])\n",
    "                  )\n",
    "\n",
    "    fig = go.Figure(data=data, layout=layout)\n",
    "    fig.show()\n",
    "    \n",
    "    save_plot_button(fig)\n",
    "    "
   ]
  },
  {
   "cell_type": "code",
   "execution_count": null,
   "metadata": {},
   "outputs": [],
   "source": [
    "def distribFit31_single(Expe):\n",
    "    nof = Expe.numoffiles\n",
    "    cut_time = Expe.cut_time\n",
    "    xdata = []\n",
    "    ydata = []\n",
    "    indexdata = []\n",
    "    fstart = 0.5\n",
    "    fend = Expe.f*2\n",
    "    Nstart = int(fstart*cut_time)\n",
    "    Nend = int(fend*cut_time)\n",
    "    N = Nend-Nstart\n",
    "    for i in range(Expe.numoffiles):\n",
    "        xdata.append(Expe[i].fft_freq_filt_1minus2[Nstart:Nend])\n",
    "        ydata.append(Expe[i].fft_amp_filt_1minus2[Nstart:Nend])\n",
    "        indexdata.append(np.ones((Nend-Nstart,), dtype=np.int)*i)\n",
    "    \n",
    "    x = np.array(xdata).flatten()\n",
    "    y = np.array(ydata).flatten()\n",
    "    k = np.array(indexdata).flatten()\n",
    "    u = np.column_stack((k,x))\n",
    "    \n",
    "    # define model function\n",
    "    def model(x, u):\n",
    "        k = u[:,0].astype(int)\n",
    "        mu = x[0]\n",
    "        sigma = x[1]\n",
    "        c = x[2]\n",
    "        C = x[k+3]\n",
    "        return C * np.exp(-(u[:,1]-mu)**2/(2*sigma**2)) + c*u[:,1]\n",
    "    \n",
    "    # define function to optimize\n",
    "    def fun(x, u, y):\n",
    "        return model(x, u) - y\n",
    "    \n",
    "    # define guesses for the simulation\n",
    "    x0 = [Expe.f, 2, 0.0001] + [0.02 for i in range(nof)]\n",
    "    \n",
    "    # solve the least square optimization\n",
    "    res = least_squares(fun,x0, args=(u, y), verbose=1)\n",
    "    \n",
    "    # show results\n",
    "    mu = res.x[0]\n",
    "    sigma = res.x[1]\n",
    "    c = res.x[2]\n",
    "    C = res.x[3:]\n",
    "    \n",
    "    # plot the data\n",
    "    trace0 = [] ; trace1 = []\n",
    "    for i in range(Expe.numoffiles):\n",
    "        E=Expe[i]\n",
    "        trace0.append(go.Scatter(\n",
    "            x = x[i*N:(i+1)*N],\n",
    "            y = y[i*N:(i+1)*N],\n",
    "            mode = 'markers',\n",
    "            marker =  dict(size= 3),\n",
    "            name = E.speed_rpm_str + ' data points '\n",
    "        ))\n",
    "        trace1.append(go.Scatter(\n",
    "            x = x[i*N:(i+1)*N],\n",
    "            y = model(res.x, u)[i*N:(i+1)*N],\n",
    "            mode = 'lines',\n",
    "            marker= dict(line= dict(width=1)),\n",
    "            name =  E.speed_rpm_str + ' curve fit'\n",
    "            ))\n",
    "\n",
    "    data = trace0 + trace1\n",
    "\n",
    "    maxF = np.max(model(res.x, u))\n",
    "    text = f\"Expectation µ = f = {mu:.2f}Hz<br>\" + \\\n",
    "       f\"Standard deviation σ = {sigma:.2f}Hz\"\n",
    "    layout = dict(title = 'Least square optimization on filtered FFT (single peak single wedge) -grouped-<br>' + Expe.shaft_desc, \n",
    "                  xaxis=dict(title='Freq [Hz]'),\n",
    "                  yaxis=dict(title='|Y(freq)|', range = [0,maxF]),\n",
    "                  height=400,\n",
    "                  annotations = [\n",
    "                      dict(x=1, y=1, ax=0, ay=0, xref='paper', yref='paper', \n",
    "                            text=text, align='right', bgcolor=\"#ff7f0e\",\n",
    "                            showarrow = False)\n",
    "                  ]\n",
    "                 )\n",
    "\n",
    "    fig = go.Figure(data=data, layout=layout)\n",
    "    fig.show()\n",
    "    \n",
    "    save_plot_button(fig)"
   ]
  },
  {
   "cell_type": "code",
   "execution_count": null,
   "metadata": {},
   "outputs": [],
   "source": [
    "def distribFit31(Expe, yrange=None, log = False):\n",
    "    fig = make_subplots(rows=5, cols=6, subplot_titles=(Expe.speed_list),\n",
    "                        horizontal_spacing = 0.01, vertical_spacing=0.05,\n",
    "                        shared_yaxes=True, x_title='Freq [Hz]', y_title='|Y(freq)|')\n",
    "    \n",
    "    nof = Expe.numoffiles\n",
    "    cut_time = Expe.cut_time\n",
    "    xdata = []\n",
    "    ydata = []\n",
    "    indexdata = []\n",
    "    fstart = 0.5\n",
    "    fend = Expe.f*2\n",
    "    Nstart = int(fstart*cut_time)\n",
    "    Nend = int(fend*cut_time)\n",
    "    N = Nend-Nstart\n",
    "    for i in range(Expe.numoffiles):\n",
    "        xdata.append(Expe[i].fft_freq_filt_1minus2[Nstart:Nend])\n",
    "        ydata.append(Expe[i].fft_amp_filt_1minus2[Nstart:Nend])\n",
    "        indexdata.append(np.ones((Nend-Nstart,), dtype=np.int)*i)\n",
    "    \n",
    "    x = np.array(xdata).flatten()\n",
    "    y = np.array(ydata).flatten()\n",
    "    k = np.array(indexdata).flatten()\n",
    "    u = np.column_stack((k,x))\n",
    "    \n",
    "    # define model function\n",
    "    def model(x, u):\n",
    "        k = u[:,0].astype(int)\n",
    "        mu = x[0]\n",
    "        sigma = x[1]\n",
    "        c = x[2]\n",
    "        C = x[k+3]\n",
    "        return C * np.exp(-(u[:,1]-mu)**2/(2*sigma**2)) + c*u[:,1]\n",
    "    \n",
    "    # define function to optimize\n",
    "    def fun(x, u, y):\n",
    "        return model(x, u) - y\n",
    "    \n",
    "    # define guesses for the simulation\n",
    "    x0 = [Expe.f, 2, 0.0001] + [0.02 for i in range(nof)]\n",
    "    \n",
    "    # solve the least square optimization\n",
    "    res = least_squares(fun,x0, args=(u, y), verbose=1)\n",
    "    \n",
    "    # show results\n",
    "    mu = res.x[0]\n",
    "    sigma = res.x[1]\n",
    "    c = res.x[2]\n",
    "    C = res.x[3:]\n",
    "    \n",
    "    k=0\n",
    "    for i in range(1,6):\n",
    "        for j in range(1,7):\n",
    "            E = Expe[k]\n",
    "            NF = int(E.t1a[-1]*60)\n",
    "            fig.add_trace(go.Scatter(x = x[k*N:(k+1)*N],\n",
    "                                     y = y[k*N:(k+1)*N],\n",
    "                                     mode = 'markers',\n",
    "                                     marker =  dict(size= 1, color = 'blue'),\n",
    "                                     name = 'data points',\n",
    "                                     legendgroup=\"data\",\n",
    "                                     showlegend = True if k==0 else False\n",
    "                                    ),\n",
    "                          row=i, col=j\n",
    "                         )\n",
    "            fig.add_trace(go.Scatter(x = x[k*N:(k+1)*N],\n",
    "                                     y = model(res.x, u)[k*N:(k+1)*N],\n",
    "                                     mode = 'lines',\n",
    "                                     name =  'curve fit',\n",
    "                                     line = dict( color = 'red', width = 1),\n",
    "                                     legendgroup=\"fit\",\n",
    "                                     showlegend = True if k==0 else False\n",
    "                                    ),\n",
    "                          row=i, col=j\n",
    "                         )\n",
    "            \n",
    "            \n",
    "            k+=1\n",
    "\n",
    "    for a in fig.layout.annotations:\n",
    "        a.font.size = 12\n",
    "    if log == False and yrange!=None:\n",
    "        for i in range(1,31):\n",
    "            fig.layout[f'yaxis{i}'].range = (0,yrange)\n",
    "    fig.update_layout(title_text = 'Least square optimization on filtered FFT (single peak single wedge)<br>' + Expe.shaft_desc,\n",
    "                      height=800, width=1000, font_size=10, legend_orientation=\"h\")\n",
    "    fig.show()\n",
    "    \n",
    "    save_plot_button(fig)"
   ]
  },
  {
   "cell_type": "markdown",
   "metadata": {
    "editable": false,
    "nbpresent": {
     "id": "5b98f9e0-d3d1-440b-9f1e-4e004379d7df"
    }
   },
   "source": [
    "#### Healthy shaft"
   ]
  },
  {
   "cell_type": "code",
   "execution_count": null,
   "metadata": {},
   "outputs": [],
   "source": [
    "distribFit31_single(HeS)"
   ]
  },
  {
   "cell_type": "code",
   "execution_count": null,
   "metadata": {
    "editable": false,
    "hide_input": true,
    "nbpresent": {
     "id": "5cac5b4a-e4bd-4d34-aab0-87c0a253c10a"
    }
   },
   "outputs": [],
   "source": [
    "distribFit31(HeS)"
   ]
  },
  {
   "cell_type": "markdown",
   "metadata": {
    "editable": false,
    "nbpresent": {
     "id": "959c18c4-7dbb-41fa-ab71-bb12ff04448b"
    }
   },
   "source": [
    "#### Cracked shaft"
   ]
  },
  {
   "cell_type": "code",
   "execution_count": null,
   "metadata": {},
   "outputs": [],
   "source": [
    "distribFit31_single(CrS)"
   ]
  },
  {
   "cell_type": "code",
   "execution_count": null,
   "metadata": {
    "editable": false,
    "hide_input": true,
    "nbpresent": {
     "id": "d47d0895-4fce-4f36-b3ec-15478314ec96"
    }
   },
   "outputs": [],
   "source": [
    "distribFit31(CrS)"
   ]
  },
  {
   "cell_type": "markdown",
   "metadata": {
    "editable": false,
    "nbpresent": {
     "id": "f8da8d73-e717-442d-aa30-553f02b3ce7d"
    }
   },
   "source": [
    "### Single peak, multiple wedge slopes\n",
    "In the FFT spectrum we can see that the noisy data at low amplitudes tend to increase linearly at higher frequencies. Therefore we can adapt our model and add this further parameter to it. In this case a slope value is parametrized for each series of  the datasets.\n",
    "\n",
    "- model:\n",
    "\n",
    "$$A(f,\\mu,\\sigma, C_{rpm}) =  C_{rpm} \\cdot e^{-\\dfrac{(f-\\mu)^2}{2\\sigma^2}} + c_{rpm}\\cdot f $$\n",
    "\n",
    "\n",
    "- function to minimize:\n",
    "\n",
    "$$ \\sum{\\left( FFT - A(f,\\mu,\\sigma, C_{rpm},c_{rpm}) \\right)^2 } $$\n",
    "\n",
    "The terms to be determined in the optimization are the amplitudes $C_{rpm}$ and the wedge slopes $c_{rpm}$ with $rpm$ ranging from {{HeS.speed_list[0] + ' to ' + HeS.speed_list[-1]}}, the expectation term $\\mu$, the standard deviation $\\sigma$."
   ]
  },
  {
   "cell_type": "code",
   "execution_count": null,
   "metadata": {
    "code_folding": [
     0
    ],
    "init_cell": true,
    "nbpresent": {
     "id": "4b23d384-1675-4dfe-81d6-08b6cb8f9db0"
    }
   },
   "outputs": [],
   "source": [
    "def distribFit32_sliders(Expe):\n",
    "    nof = Expe.numoffiles\n",
    "    cut_time = Expe.cut_time\n",
    "    xdata = []\n",
    "    ydata = []\n",
    "    indexdata = []\n",
    "    fstart = 0.5\n",
    "    fend = Expe.f*2\n",
    "    Nstart = int(fstart*cut_time)\n",
    "    Nend = int(fend*cut_time)\n",
    "    N = Nend-Nstart\n",
    "    for i in range(Expe.numoffiles):\n",
    "        xdata.append(Expe[i].fft_freq_filt_1minus2[Nstart:Nend])\n",
    "        ydata.append(Expe[i].fft_amp_filt_1minus2[Nstart:Nend])\n",
    "        indexdata.append(np.ones((Nend-Nstart,), dtype=np.int)*i)\n",
    "    \n",
    "    x = np.array(xdata).flatten()\n",
    "    y = np.array(ydata).flatten()\n",
    "    k = np.array(indexdata).flatten()\n",
    "    u = np.column_stack((k,x))\n",
    "    \n",
    "    # define model function\n",
    "    def model(x, u):\n",
    "        k = u[:,0].astype(int)\n",
    "        mu = x[0]\n",
    "        sigma = x[1]\n",
    "        c = x[k+2]\n",
    "        C = x[k+nof+2]\n",
    "        return C * np.exp(-(u[:,1]-mu)**2/(2*sigma**2)) + c*u[:,1]\n",
    "    \n",
    "    # define function to optimize\n",
    "    def fun(x, u, y):\n",
    "        return model(x, u) - y\n",
    "    \n",
    "    # define guesses for the simulation\n",
    "    x0 = [Expe.f, 2] + [0.0001 for i in range(nof)] + [0.02 for i in range(nof)]\n",
    "    \n",
    "    # solve the least square optimization\n",
    "    res = least_squares(fun,x0, args=(u, y), verbose=1)\n",
    "    \n",
    "    # show results\n",
    "    mu = res.x[0]\n",
    "    sigma = res.x[1]\n",
    "    c = res.x[2:2+nof]\n",
    "    C = res.x[2+nof:2+2*nof]\n",
    "    \n",
    "    pd.set_option('display.max_columns', 10)\n",
    "    table1 = {'Expectation $\\mu = f $ [Hz]': mu , \n",
    "              'Standard deviation $\\sigma$ [Hz]': sigma,}\n",
    "    table2 = {'Amplitudes $C_{rpm}$' : C,\n",
    "              'Wedge slope $c \\cdot 10^3$': c*1000}\n",
    "    df1 = pd.DataFrame(table1, index = ['Value']).round(2)\n",
    "    df2 = pd.DataFrame(table2,index = HeS.speed_list).T.round(4);\n",
    "    display(df1,df2)\n",
    "    \n",
    "    # plot the data\n",
    "    trace0 = [] ; trace1 = []\n",
    "    for i in range(Expe.numoffiles):\n",
    "        E=Expe[i]\n",
    "        trace0.append(go.Scatter(\n",
    "            visible = False,\n",
    "            x = x[i*N:(i+1)*N],\n",
    "            y = y[i*N:(i+1)*N],\n",
    "            mode = 'markers',\n",
    "            marker =  dict(size= 3),\n",
    "            name = E.speed_rpm_str + ' data points '\n",
    "        ))\n",
    "        trace1.append(go.Scatter(\n",
    "            visible = False,\n",
    "            x = x[i*N:(i+1)*N],\n",
    "            y = model(res.x, u)[i*N:(i+1)*N],\n",
    "            mode = 'lines',\n",
    "            marker= dict(line= dict(width=1)),\n",
    "            name =  E.speed_rpm_str + ' curve fit'\n",
    "            ))\n",
    "\n",
    "    data = trace0 + trace1\n",
    "\n",
    "    data[0]['visible'] = True\n",
    "    data[nof]['visible'] = True\n",
    "\n",
    "    steps = []\n",
    "    for i in range(nof):\n",
    "        step = dict(\n",
    "            method = 'restyle',\n",
    "            args = ['visible', [False] * len(data)],\n",
    "            label=Expe[i].speed_rpm_str\n",
    "        )\n",
    "        step['args'][1][i] = True # Toggle i'th trace to \"visible\"\n",
    "        step['args'][1][i+nof] = True # Toggle i'th trace to \"visible\"\n",
    "        steps.append(step)\n",
    "    \n",
    "    sliders = [dict(\n",
    "        active = 0,\n",
    "        currentvalue = dict(prefix = \"Driven angular velocity: \"),\n",
    "        steps = steps,\n",
    "        pad = {\"t\": 80}\n",
    "    )]\n",
    "    \n",
    "    updatemenus = [\n",
    "        dict(buttons= [\n",
    "            dict(\n",
    "                args = ['visible', [True] * len(data)],\n",
    "                label='See all traces',\n",
    "                method='restyle'\n",
    "                )],\n",
    "            direction = 'left',\n",
    "            pad = {'r': 10, 't': 10},\n",
    "            showactive = False,\n",
    "            type = 'buttons',\n",
    "            x = 0.1,\n",
    "            xanchor = 'left',\n",
    "            y = 1,\n",
    "            yanchor = 'top' \n",
    "        )\n",
    "    ]\n",
    "    maxF = np.max(model(res.x, u))\n",
    "    layout = dict(hovermode = 'closest',\n",
    "                  updatemenus = updatemenus,\n",
    "                  sliders = sliders, \n",
    "                  title = 'Gaussian curve-fitting on the projected data points from the spectrogram analysis on the Frequency-Amplitude plane <br>' + Expe.shaft_desc, \n",
    "                  xaxis=dict(title='Freq [Hz]'),\n",
    "                  yaxis=dict(title='|Y(freq)|', range = [0,1.5*maxF])\n",
    "                  )\n",
    "\n",
    "    fig = go.Figure(data=data, layout=layout)\n",
    "    fig.show()\n",
    "    \n",
    "    save_plot_button(fig)\n",
    "    "
   ]
  },
  {
   "cell_type": "code",
   "execution_count": null,
   "metadata": {},
   "outputs": [],
   "source": [
    "def distribFit32_single(Expe):\n",
    "    nof = Expe.numoffiles\n",
    "    cut_time = Expe.cut_time\n",
    "    xdata = []\n",
    "    ydata = []\n",
    "    indexdata = []\n",
    "    fstart = 0.5\n",
    "    fend = Expe.f*2\n",
    "    Nstart = int(fstart*cut_time)\n",
    "    Nend = int(fend*cut_time)\n",
    "    N = Nend-Nstart\n",
    "    for i in range(Expe.numoffiles):\n",
    "        xdata.append(Expe[i].fft_freq_filt_1minus2[Nstart:Nend])\n",
    "        ydata.append(Expe[i].fft_amp_filt_1minus2[Nstart:Nend])\n",
    "        indexdata.append(np.ones((Nend-Nstart,), dtype=np.int)*i)\n",
    "    \n",
    "    x = np.array(xdata).flatten()\n",
    "    y = np.array(ydata).flatten()\n",
    "    k = np.array(indexdata).flatten()\n",
    "    u = np.column_stack((k,x))\n",
    "    \n",
    "    # define model function\n",
    "    def model(x, u):\n",
    "        k = u[:,0].astype(int)\n",
    "        mu = x[0]\n",
    "        sigma = x[1]\n",
    "        c = x[k+2]\n",
    "        C = x[k+nof+2]\n",
    "        return C * np.exp(-(u[:,1]-mu)**2/(2*sigma**2)) + c*u[:,1]\n",
    "    \n",
    "    # define function to optimize\n",
    "    def fun(x, u, y):\n",
    "        return model(x, u) - y\n",
    "    \n",
    "    # define guesses for the simulation\n",
    "    x0 = [Expe.f, 2] + [0.0001 for i in range(nof)] + [0.02 for i in range(nof)]\n",
    "    \n",
    "    # solve the least square optimization\n",
    "    res = least_squares(fun,x0, args=(u, y), verbose=1)\n",
    "    \n",
    "    # show results\n",
    "    mu = res.x[0]\n",
    "    sigma = res.x[1]\n",
    "    c = res.x[2:2+nof]\n",
    "    C = res.x[2+nof:2+2*nof]\n",
    "    \n",
    "    # plot the data\n",
    "    trace0 = [] ; trace1 = []\n",
    "    for i in range(Expe.numoffiles):\n",
    "        E=Expe[i]\n",
    "        trace0.append(go.Scatter(\n",
    "            x = x[i*N:(i+1)*N],\n",
    "            y = y[i*N:(i+1)*N],\n",
    "            mode = 'markers',\n",
    "            marker =  dict(size= 3),\n",
    "            name = E.speed_rpm_str + ' data points '\n",
    "        ))\n",
    "        trace1.append(go.Scatter(\n",
    "            x = x[i*N:(i+1)*N],\n",
    "            y = model(res.x, u)[i*N:(i+1)*N],\n",
    "            mode = 'lines',\n",
    "            marker= dict(line= dict(width=1)),\n",
    "            name =  E.speed_rpm_str + ' curve fit'\n",
    "            ))\n",
    "\n",
    "    data = trace0 + trace1\n",
    "\n",
    "    maxF = np.max(model(res.x, u))\n",
    "    text = f\"Expectation µ = f = {mu:.2f}Hz<br>\" + \\\n",
    "       f\"Standard deviation σ = {sigma:.2f}Hz\"\n",
    "    layout = dict(title = 'Least square optimization on filtered FFT (single peak multiple wedges) -grouped-<br>' + Expe.shaft_desc, \n",
    "                  xaxis=dict(title='Freq [Hz]'),\n",
    "                  yaxis=dict(title='|Y(freq)|', range = [0,maxF]),\n",
    "                  height=400,\n",
    "                  annotations = [\n",
    "                      dict(x=1, y=1, ax=0, ay=0, xref='paper', yref='paper', \n",
    "                            text=text, align='right', bgcolor=\"#ff7f0e\",\n",
    "                            showarrow = False)\n",
    "                  ]\n",
    "                 )\n",
    "\n",
    "    fig = go.Figure(data=data, layout=layout)\n",
    "    fig.show()\n",
    "    \n",
    "    save_plot_button(fig)"
   ]
  },
  {
   "cell_type": "code",
   "execution_count": null,
   "metadata": {},
   "outputs": [],
   "source": [
    "def distribFit32(Expe, yrange=None, log = False):\n",
    "    fig = make_subplots(rows=5, cols=6, subplot_titles=(Expe.speed_list),\n",
    "                        horizontal_spacing = 0.01, vertical_spacing=0.05,\n",
    "                        shared_yaxes=True, x_title='Freq [Hz]', y_title='|Y(freq)|')\n",
    "    \n",
    "    nof = Expe.numoffiles\n",
    "    cut_time = Expe.cut_time\n",
    "    xdata = []\n",
    "    ydata = []\n",
    "    indexdata = []\n",
    "    fstart = 0.5\n",
    "    fend = Expe.f*2\n",
    "    Nstart = int(fstart*cut_time)\n",
    "    Nend = int(fend*cut_time)\n",
    "    N = Nend-Nstart\n",
    "    for i in range(Expe.numoffiles):\n",
    "        xdata.append(Expe[i].fft_freq_filt_1minus2[Nstart:Nend])\n",
    "        ydata.append(Expe[i].fft_amp_filt_1minus2[Nstart:Nend])\n",
    "        indexdata.append(np.ones((Nend-Nstart,), dtype=np.int)*i)\n",
    "    \n",
    "    x = np.array(xdata).flatten()\n",
    "    y = np.array(ydata).flatten()\n",
    "    k = np.array(indexdata).flatten()\n",
    "    u = np.column_stack((k,x))\n",
    "    \n",
    "    # define model function\n",
    "    def model(x, u):\n",
    "        k = u[:,0].astype(int)\n",
    "        mu = x[0]\n",
    "        sigma = x[1]\n",
    "        c = x[k+2]\n",
    "        C = x[k+nof+2]\n",
    "        return C * np.exp(-(u[:,1]-mu)**2/(2*sigma**2)) + c*u[:,1]\n",
    "    \n",
    "    # define function to optimize\n",
    "    def fun(x, u, y):\n",
    "        return model(x, u) - y\n",
    "    \n",
    "    # define guesses for the simulation\n",
    "    x0 = [Expe.f, 2] + [0.0001 for i in range(nof)] + [0.02 for i in range(nof)]\n",
    "    \n",
    "    # solve the least square optimization\n",
    "    res = least_squares(fun,x0, args=(u, y), verbose=1)\n",
    "    \n",
    "    # show results\n",
    "    mu = res.x[0]\n",
    "    sigma = res.x[1]\n",
    "    c = res.x[2:2+nof]\n",
    "    C = res.x[2+nof:2+2*nof]\n",
    "    \n",
    "    k=0\n",
    "    for i in range(1,6):\n",
    "        for j in range(1,7):\n",
    "            E = Expe[k]\n",
    "            NF = int(E.t1a[-1]*60)\n",
    "            fig.add_trace(go.Scatter(x = x[k*N:(k+1)*N],\n",
    "                                     y = y[k*N:(k+1)*N],\n",
    "                                     mode = 'markers',\n",
    "                                     marker =  dict(size= 1, color = 'blue'),\n",
    "                                     name = 'data points',\n",
    "                                     legendgroup=\"data\",\n",
    "                                     showlegend = True if k==0 else False\n",
    "                                    ),\n",
    "                          row=i, col=j\n",
    "                         )\n",
    "            fig.add_trace(go.Scatter(x = x[k*N:(k+1)*N],\n",
    "                                     y = model(res.x, u)[k*N:(k+1)*N],\n",
    "                                     mode = 'lines',\n",
    "                                     name =  'curve fit',\n",
    "                                     line = dict( color = 'red', width = 1),\n",
    "                                     legendgroup=\"fit\",\n",
    "                                     showlegend = True if k==0 else False\n",
    "                                    ),\n",
    "                          row=i, col=j\n",
    "                         )\n",
    "            \n",
    "            \n",
    "            k+=1\n",
    "\n",
    "    for a in fig.layout.annotations:\n",
    "        a.font.size = 12\n",
    "    if log == False and yrange!=None:\n",
    "        for i in range(1,31):\n",
    "            fig.layout[f'yaxis{i}'].range = (0,yrange)\n",
    "    fig.update_layout(title_text = 'Least square optimization on filtered FFT (single peak multiple wedges)<br>' + Expe.shaft_desc,\n",
    "                      height=800, width=1000, font_size=10, legend_orientation=\"h\")\n",
    "    fig.show()\n",
    "    \n",
    "    save_plot_button(fig)"
   ]
  },
  {
   "cell_type": "markdown",
   "metadata": {
    "editable": false,
    "nbpresent": {
     "id": "5b98f9e0-d3d1-440b-9f1e-4e004379d7df"
    }
   },
   "source": [
    "#### Healthy shaft"
   ]
  },
  {
   "cell_type": "code",
   "execution_count": null,
   "metadata": {},
   "outputs": [],
   "source": [
    "distribFit32_single(HeS)"
   ]
  },
  {
   "cell_type": "code",
   "execution_count": null,
   "metadata": {
    "hide_input": true,
    "nbpresent": {
     "id": "5cac5b4a-e4bd-4d34-aab0-87c0a253c10a"
    }
   },
   "outputs": [],
   "source": [
    "distribFit32(HeS)"
   ]
  },
  {
   "cell_type": "markdown",
   "metadata": {
    "editable": false,
    "nbpresent": {
     "id": "959c18c4-7dbb-41fa-ab71-bb12ff04448b"
    }
   },
   "source": [
    "#### Cracked shaft"
   ]
  },
  {
   "cell_type": "code",
   "execution_count": null,
   "metadata": {},
   "outputs": [],
   "source": [
    "distribFit32_single(CrS)"
   ]
  },
  {
   "cell_type": "code",
   "execution_count": null,
   "metadata": {
    "hide_input": true,
    "nbpresent": {
     "id": "d47d0895-4fce-4f36-b3ec-15478314ec96"
    }
   },
   "outputs": [],
   "source": [
    "distribFit32(CrS)"
   ]
  },
  {
   "cell_type": "markdown",
   "metadata": {
    "editable": false,
    "nbpresent": {
     "id": "96cec8da-3908-41d1-8922-0e9fcaa517cf"
    }
   },
   "source": [
    "## Method 4: Least square optimization with adapted amplitudes on unfiltered FFT\n",
    "Similarly to the previous method, we also try to fit a function to a model and find the parameters with a least square optimization with the function [least_squares](https://docs.scipy.org/doc/scipy/reference/tutorial/optimize.html) of the [scipy](https://www.scipy.org/) module. This time the optimization is intended to be on the unfiltered signal where the orders are present and as seen in the 3D-spectrograms represent most of the signal. Since the amplitudes $C1(rpm)$ of the FFT around the frequency zone to be fitted and the amplitudes $C2(rpm)$ of the orders are variable from one dataset to another, they are parametrized individually. The parameters $\\mu_1$, $\\sigma1$, and $\\sigma2$ on the other hand are set to be in common for all the sets. \n",
    "\n",
    "Additionally the frequency domain has be carefully chosen so that only the first order for each experiment series appears per dataset, along with the peak of the natural frequency to be found."
   ]
  },
  {
   "cell_type": "markdown",
   "metadata": {
    "editable": false,
    "nbpresent": {
     "id": "b949f65a-e8de-4898-a042-f1d06289ab9e"
    }
   },
   "source": [
    "### Multiple peaks\n",
    "- Model:\n",
    "$$A(f, rpm, \\mu_1,\\sigma_1, \\sigma_2, C_{1_{rpm}}, C_{2_{rpm}}) =  C_{1_{rpm}} \\cdot e^{-\\dfrac{(f-\\mu_1)^2}{2\\sigma_1^2}} + C_{2_{rpm}} \\cdot e^{-\\dfrac{(f-k\\cdot \\frac{rpm}{60})^2}{2\\sigma_2^2}}$$ \n",
    "\n",
    "where $k$ represent the order to be fitted and $rpm$ the driven angular velocity in rounds per minutes\n",
    "\n",
    "\n",
    "- Function to minimize:\n",
    "\n",
    "$$ \\sum_{rpm,f}{ \\left( FFT(f, rpm) - A(f, rpm, \\mu_1,\\sigma_1, \\sigma_2, C_{1_{rpm}}, C_{2_{rpm}}) \\right)^2 }  $$\n",
    "\n",
    "The terms to be determined in the optimization are the amplitudes $C_{rpm}$ with $rpm$ ranging from {{HeS.speed_list[0] + ' to ' + HeS.speed_list[-1]}}, the expectation term $\\mu$ and the standard deviation $\\sigma$"
   ]
  },
  {
   "cell_type": "code",
   "execution_count": null,
   "metadata": {
    "code_folding": [
     0
    ],
    "init_cell": true,
    "nbpresent": {
     "id": "17ed637c-0ce2-4340-9897-3ec282d5bca8"
    }
   },
   "outputs": [],
   "source": [
    "def distribFit4_sliders(Expe):\n",
    "    nof = Expe.numoffiles\n",
    "    cut_time = Expe.cut_time\n",
    "    xdata = []\n",
    "    ydata = []\n",
    "    indexdata = []\n",
    "    fstart = 0.5\n",
    "    fend = Expe.f*1.5\n",
    "    Nstart = int(fstart*cut_time)\n",
    "    Nend = int(fend*cut_time)\n",
    "    N = Nend-Nstart\n",
    "    for i in range(nof):\n",
    "        xdata.append(Expe[i].fft_freq_1minus2_cut[Nstart:Nend])\n",
    "        ydata.append(Expe[i].fft_amp_1minus2_cut[Nstart:Nend])\n",
    "        indexdata.append(np.ones((Nend-Nstart,), dtype=np.int)*(i))\n",
    "\n",
    "    x = np.array(xdata).flatten()\n",
    "    y = np.array(ydata).flatten()\n",
    "    k = np.array(indexdata).flatten()\n",
    "    u = np.column_stack((k,x))\n",
    "    k = u[:,0].astype(int)\n",
    "    X = u[:,1]\n",
    "    mu2v = np.array([Expe[i].speed_rpm_num/60 for i in range(nof)])\n",
    "    # define model function\n",
    "    def model(x):\n",
    "        mu1 = x[0]\n",
    "        sigma1 = x[1]\n",
    "        sigma2 = x[2]\n",
    "        C1 = x[k+3]\n",
    "        C2 = x[k+nof+3]\n",
    "        mu2 = mu2v[k]\n",
    "        return np.abs(C1) * np.exp(-(X-mu1)**2/(2*sigma1**2)) + np.abs(C2) * np.exp(-(X-mu2)**2/(2*sigma2**2))\n",
    "\n",
    "    # define function to optimize\n",
    "    def func(x):\n",
    "        return model(x) - y\n",
    "               \n",
    "    def funcscal(x):\n",
    "        return np.sum(np.power((model(x) - y), 2))\n",
    "    \n",
    "    \n",
    "    # define guesses for the simulation\n",
    "    mu1 = [Expe.f]\n",
    "    sigma1 = [5]\n",
    "    sigma2 = [1]\n",
    "    C1 = [0.05 for i in range(nof)]\n",
    "    C2 = [Expe[i].speed_rpm_num*0.0002 for i in range(nof)]\n",
    "\n",
    "    x0 = mu1 + sigma1 + sigma2 + C1 + C2\n",
    "    a= 0.2\n",
    "    b= 5\n",
    "    a1= 0.8\n",
    "    b1= 1.2\n",
    "    bmu1 = [(mu1[0]*0.9, mu1[0]*1.1)]\n",
    "    bsigma1 = [(0, sigma1[0]*b1)]\n",
    "    bsigma2 = [(0, sigma2[0]*b1)]\n",
    "    bC1 = [(0, C1[i]*b) for i in range(nof)]\n",
    "    bC2 = [(0, C2[i]*b) for i in range(nof)]\n",
    "\n",
    "    bounds = bmu1 + bsigma1 + bsigma2  + bC1 + bC2\n",
    "    \n",
    "    # solve the least square optimization\n",
    "    #res = least_squares(func,x0)\n",
    "    res = minimize(funcscal,x0, method='Nelder-Mead',tol=1e-6)\n",
    "    # res = differential_evolution(funcscal, bounds)\n",
    "    \n",
    "    # show results\n",
    "    mu1 = res.x[0]\n",
    "    sigma1 = res.x[1]\n",
    "    sigma2 = res.x[2]\n",
    "    C1 = res.x[3:nof+3]\n",
    "    C2 = res.x[nof+3:2*nof+3]\n",
    "    \n",
    "    # plot the results in a table\n",
    "    pd.set_option('display.max_columns', 30)\n",
    "    table1 = {'Expectation $\\mu_1 = f $ [Hz]': mu1,\n",
    "              'Standard deviation $\\sigma1$ [Hz]': sigma1,\n",
    "              'Standard deviation $\\sigma2$ [Hz]': sigma2}\n",
    "    table2 = {'Expectation $\\mu_2 = f $ [Hz]': mu2v,\n",
    "              'Amplitudes $C_{1_{rpm}}$' : C1,\n",
    "              'Amplitudes $C_{2_{rpm}}$' : C2}\n",
    "\n",
    "    df1 = pd.DataFrame(table1, index = ['Value']).round(2)\n",
    "    df2 = pd.DataFrame(table2,index = Expe.speed_list).T.round(4);\n",
    "    display(df1,df2)\n",
    "\n",
    "    #plot the results\n",
    "    trace0 = [] ; trace1 = [] ; trace2 = []\n",
    "\n",
    "    for i in range(Expe.numoffiles):\n",
    "        E=Expe[i]\n",
    "        trace0.append(go.Scatter(\n",
    "            visible = False,\n",
    "            x = X[i*N:(i+1)*N],\n",
    "            y = y[i*N:(i+1)*N],\n",
    "            mode = 'markers',\n",
    "            marker =  dict(size= 3),\n",
    "            name = E.speed_rpm_str + ' data points'\n",
    "        ))\n",
    "        trace1.append(go.Scatter(\n",
    "            visible = False,\n",
    "            x = X[i*N:(i+1)*N],\n",
    "            y = model(res.x)[i*N:(i+1)*N],\n",
    "            mode = 'lines',\n",
    "            marker= dict(line= dict(width=1)),\n",
    "            name =  E.speed_rpm_str + ' curve fit'\n",
    "        ))\n",
    "        trace2.append(go.Scatter(\n",
    "            visible = False,\n",
    "            x = X[i*N:(i+1)*N],\n",
    "            y = y[i*N:(i+1)*N] - model(res.x)[i*N:(i+1)*N],\n",
    "            mode = 'markers',\n",
    "            marker =  dict(size= 3),\n",
    "            name = E.speed_rpm_str + ' residuals'\n",
    "        ))\n",
    "\n",
    "    data = trace0 + trace1 + trace2\n",
    "\n",
    "    data[0]['visible'] = True\n",
    "    data[nof]['visible'] = True\n",
    "\n",
    "    steps = []\n",
    "    for i in range(nof):\n",
    "        step = dict(\n",
    "            method = 'restyle',\n",
    "            args = ['visible', [False] * len(data)],\n",
    "            label=Expe[i].speed_rpm_str\n",
    "        )\n",
    "        step['args'][1][i] = True # Toggle i'th trace to \"visible\"\n",
    "        step['args'][1][i+nof] = True # Toggle i'th trace to \"visible\"\n",
    "        steps.append(step)\n",
    "\n",
    "    sliders = [dict(\n",
    "        active = 0,\n",
    "        currentvalue = dict(prefix = \"Driven angular velocity: \"),\n",
    "        steps = steps,\n",
    "        pad = {\"t\": 80}\n",
    "    )]\n",
    "\n",
    "    updatemenus = [\n",
    "        dict(buttons= [\n",
    "            dict(\n",
    "                args = ['visible', [True] * (len(data)-nof) + [False] * nof],\n",
    "                label='See all traces',\n",
    "                method='restyle'\n",
    "                ),\n",
    "            dict(\n",
    "                args = ['visible', [False] * (len(data)-nof) + [True] * nof],\n",
    "                label='Residuals',\n",
    "                method='restyle'\n",
    "                )],\n",
    "            direction = 'left',\n",
    "            pad = {'r': 10, 't': 10},\n",
    "            showactive = False,\n",
    "            type = 'buttons',\n",
    "            x = 0.1,\n",
    "            xanchor = 'left',\n",
    "            y = 1,\n",
    "            yanchor = 'top' \n",
    "        )\n",
    "    ]\n",
    "    maxF = np.max(model(res.x))\n",
    "    maxresiduals = np.max(y - model(res.x))\n",
    "    minresiduals = np.min(y - model(res.x))\n",
    "    layout = dict(hovermode = 'closest',\n",
    "                  updatemenus = updatemenus,\n",
    "                  sliders = sliders, \n",
    "                  title = 'Gaussian curve-fitting on the projected data points from the spectrogram analysis on the Frequency-Amplitude plane <br>' + Expe.shaft_desc, \n",
    "                  xaxis=dict(title='Freq [Hz]'),\n",
    "                  yaxis=dict(title='|Y(freq)|', range = [0,maxF])\n",
    "                  )\n",
    "\n",
    "    fig = go.Figure(data=data, layout=layout)\n",
    "    fig.show()\n",
    "    \n",
    "    save_plot_button(fig)"
   ]
  },
  {
   "cell_type": "code",
   "execution_count": null,
   "metadata": {},
   "outputs": [],
   "source": [
    "def distribFit4(Expe, yrange=None, log = False):\n",
    "    fig = make_subplots(rows=5, cols=6, subplot_titles=(Expe.speed_list),\n",
    "                        horizontal_spacing = 0.01, vertical_spacing=0.05,\n",
    "                        shared_yaxes=True, x_title='Freq [Hz]', y_title='|Y(freq)|')\n",
    "    \n",
    "    nof = Expe.numoffiles\n",
    "    cut_time = Expe.cut_time\n",
    "    xdata = []\n",
    "    ydata = []\n",
    "    indexdata = []\n",
    "    fstart = 0.5\n",
    "    fend = Expe.f*2\n",
    "    Nstart = int(fstart*cut_time)\n",
    "    Nend = int(fend*cut_time)\n",
    "    N = Nend-Nstart\n",
    "    for i in range(nof):\n",
    "        xdata.append(Expe[i].fft_freq_1minus2_cut[Nstart:Nend])\n",
    "        ydata.append(Expe[i].fft_amp_1minus2_cut[Nstart:Nend])\n",
    "        indexdata.append(np.ones((Nend-Nstart,), dtype=np.int)*(i))\n",
    "    \n",
    "    x = np.array(xdata).flatten()\n",
    "    y = np.array(ydata).flatten()\n",
    "    k = np.array(indexdata).flatten()\n",
    "    u = np.column_stack((k,x))\n",
    "    k = u[:,0].astype(int)\n",
    "    X = u[:,1]\n",
    "    mu2v = np.array([Expe[i].speed_rpm_num/60 for i in range(nof)])\n",
    "    \n",
    "    # define model function\n",
    "    def model(x):\n",
    "        mu1 = x[0]\n",
    "        sigma1 = x[1]\n",
    "        sigma2 = x[2]\n",
    "        C1 = x[k+3]\n",
    "        C2 = x[k+nof+3]\n",
    "        mu2 = mu2v[k]\n",
    "        return np.abs(C1) * np.exp(-(X-mu1)**2/(2*sigma1**2)) + np.abs(C2) * np.exp(-(X-mu2)**2/(2*sigma2**2))\n",
    "\n",
    "    # define function to optimize\n",
    "    def func(x):\n",
    "        return model(x) - y\n",
    "               \n",
    "    def funcscal(x):\n",
    "        return np.sum(np.power((model(x) - y), 2))\n",
    "    \n",
    "    \n",
    "    # define guesses for the simulation\n",
    "    mu1 = [Expe.f]\n",
    "    sigma1 = [5]\n",
    "    sigma2 = [1]\n",
    "    C1 = [0.05 for i in range(nof)]\n",
    "    C2 = [Expe[i].speed_rpm_num*0.0002 for i in range(nof)]\n",
    "\n",
    "    x0 = mu1 + sigma1 + sigma2 + C1 + C2\n",
    "    a= 0.2\n",
    "    b= 5\n",
    "    a1= 0.8\n",
    "    b1= 1.2\n",
    "    bmu1 = [(mu1[0]*0.9, mu1[0]*1.1)]\n",
    "    bsigma1 = [(0, sigma1[0]*b1)]\n",
    "    bsigma2 = [(0, sigma2[0]*b1)]\n",
    "    bC1 = [(0, C1[i]*b) for i in range(nof)]\n",
    "    bC2 = [(0, C2[i]*b) for i in range(nof)]\n",
    "\n",
    "    bounds = bmu1 + bsigma1 + bsigma2  + bC1 + bC2\n",
    "    \n",
    "    # solve the least square optimization\n",
    "    #res = least_squares(func,x0)\n",
    "    res = minimize(funcscal,x0, method='Nelder-Mead',tol=1e-6)\n",
    "    # res = differential_evolution(funcscal, bounds)\n",
    "    \n",
    "    # show results\n",
    "    mu1 = res.x[0]\n",
    "    sigma1 = res.x[1]\n",
    "    sigma2 = res.x[2]\n",
    "    C1 = res.x[3:nof+3]\n",
    "    C2 = res.x[nof+3:2*nof+3]\n",
    "    \n",
    "    k=0\n",
    "    for i in range(1,6):\n",
    "        for j in range(1,7):\n",
    "            E = Expe[k]\n",
    "            NF = int(E.t1a[-1]*60)\n",
    "            fig.add_trace(go.Scatter(x = x[k*N:(k+1)*N],\n",
    "                                     y = y[k*N:(k+1)*N],\n",
    "                                     mode = 'markers',\n",
    "                                     marker =  dict(size= 1, color = 'blue'),\n",
    "                                     name = 'data points',\n",
    "                                     legendgroup=\"data\",\n",
    "                                     showlegend = True if k==0 else False\n",
    "                                    ),\n",
    "                          row=i, col=j\n",
    "                         )\n",
    "            fig.add_trace(go.Scatter(x = x[k*N:(k+1)*N],\n",
    "                                     y = model(res.x)[i*N:(i+1)*N],\n",
    "                                     mode = 'lines',\n",
    "                                     name =  'curve fit',\n",
    "                                     line = dict( color = 'red', width = 1),\n",
    "                                     legendgroup=\"fit\",\n",
    "                                     showlegend = True if k==0 else False\n",
    "                                    ),\n",
    "                          row=i, col=j\n",
    "                         )\n",
    "            \n",
    "            \n",
    "            k+=1\n",
    "\n",
    "    for a in fig.layout.annotations:\n",
    "        a.font.size = 12\n",
    "    if log == False and yrange!=None:\n",
    "        for i in range(1,31):\n",
    "            fig.layout[f'yaxis{i}'].range = (0,yrange)\n",
    "    fig.update_layout(title_text = 'Least square optimization on unfiltered FFT (multiple peaks) -matrix<br>' + Expe.shaft_desc,\n",
    "                      height=800, width=1000, font_size=10, legend_orientation=\"h\")\n",
    "    fig.show()\n",
    "    \n",
    "    save_plot_button(fig)"
   ]
  },
  {
   "cell_type": "markdown",
   "metadata": {
    "editable": false,
    "nbpresent": {
     "id": "2e4cf385-4690-4ee2-a2d6-2ea7a272ffe4"
    }
   },
   "source": [
    "#### Healthy shaft"
   ]
  },
  {
   "cell_type": "code",
   "execution_count": null,
   "metadata": {},
   "outputs": [],
   "source": [
    "distribFit4_sliders(HeS)"
   ]
  },
  {
   "cell_type": "code",
   "execution_count": null,
   "metadata": {
    "hide_input": true,
    "nbpresent": {
     "id": "80445c53-3ddf-43e7-a795-28f9b82fc0e4"
    }
   },
   "outputs": [],
   "source": [
    "distribFit4(HeS)"
   ]
  },
  {
   "cell_type": "code",
   "execution_count": null,
   "metadata": {},
   "outputs": [],
   "source": [
    "distribFit4(CrS)"
   ]
  },
  {
   "cell_type": "markdown",
   "metadata": {
    "editable": false,
    "nbpresent": {
     "id": "1e2feef6-8b99-455f-9252-20d1797eb88c"
    }
   },
   "source": [
    "#### Cracked shaft"
   ]
  },
  {
   "cell_type": "code",
   "execution_count": null,
   "metadata": {
    "hide_input": true,
    "nbpresent": {
     "id": "d8045f4c-6ab6-425c-a4de-ec5e672046af"
    }
   },
   "outputs": [],
   "source": [
    "distribFit4_sliders(CrS)"
   ]
  },
  {
   "cell_type": "markdown",
   "metadata": {
    "editable": false,
    "nbpresent": {
     "id": "9db15dfa-b044-4b03-af05-9f9cab7f328a"
    }
   },
   "source": [
    "### Multiple peaks, single wedge slope\n",
    "In the FFT spectrum we can see that the noisy data at low amplitudes tend to increase linearly at higher frequencies. Therefore we can adapt our model and add this further parameter to it. In this case a single slope value is parametrized for all the datasets.\n",
    "\n",
    "- Model:\n",
    "$$A(f, rpm, \\mu_1,\\sigma_1, \\sigma_2, C_{1_{rpm}}, C_{2_{rpm}}) =  C_{1_{rpm}} \\cdot e^{-\\dfrac{(f-\\mu_1)^2}{2\\sigma_1^2}} + C_{2_{rpm}} \\cdot e^{-\\dfrac{(f-k\\cdot \\frac{rpm}{60})^2}{2\\sigma_2^2}} + c\\cdot f$$ \n",
    "\n",
    "where $k$ represent the order to be fitted and $rpm$ the driven angular velocity in rounds per minutes\n",
    "\n",
    "\n",
    "- Function to minimize:\n",
    "\n",
    "$$ \\sum_{rpm,f}{ \\left( FFT(f, rpm) - A(f, rpm, \\mu_1,\\sigma_1, \\sigma_2, C_{1_{rpm}}, C_{2_{rpm}},c) \\right)^2 }  $$\n",
    "\n",
    "The terms to be determined in the optimization are the amplitudes $C_{rpm}$ with $rpm$ ranging from {{HeS.speed_list[0] + ' to ' + HeS.speed_list[-1]}}, the expectation term $\\mu$, the standard deviation $\\sigma$ and the wedge slope $c$.\n"
   ]
  },
  {
   "cell_type": "code",
   "execution_count": null,
   "metadata": {
    "code_folding": [
     0
    ],
    "init_cell": true,
    "nbpresent": {
     "id": "886928c9-dd47-4783-813a-040420ac6caa"
    }
   },
   "outputs": [],
   "source": [
    "def distribFit41(Expe):\n",
    "    nof = Expe.numoffiles\n",
    "    cut_time = Expe.cut_time\n",
    "    xdata = []\n",
    "    ydata = []\n",
    "    indexdata = []\n",
    "    fstart = 0.5\n",
    "    fend = Expe.f*1.5\n",
    "    Nstart = int(fstart*cut_time)\n",
    "    Nend = int(fend*cut_time)\n",
    "    N = Nend-Nstart\n",
    "    for i in range(nof):\n",
    "        xdata.append(Expe[i].fft_freq_1minus2_cut[Nstart:Nend])\n",
    "        ydata.append(Expe[i].fft_amp_1minus2_cut[Nstart:Nend])\n",
    "        indexdata.append(np.ones((Nend-Nstart,), dtype=np.int)*(i))\n",
    "\n",
    "    x = np.array(xdata).flatten()\n",
    "    y = np.array(ydata).flatten()\n",
    "    k = np.array(indexdata).flatten()\n",
    "    u = np.column_stack((k,x))\n",
    "    k = u[:,0].astype(int)\n",
    "    X = u[:,1]\n",
    "    mu2v = np.array([Expe[i].speed_rpm_num/60 for i in range(nof)])\n",
    "    # define model function\n",
    "    def model(x):\n",
    "        mu1 = x[0]\n",
    "        sigma1 = x[1]\n",
    "        sigma2 = x[2]\n",
    "        c = x[3]\n",
    "        C1 = x[k+4]\n",
    "        C2 = x[k+nof+4]\n",
    "        mu2 = mu2v[k]\n",
    "        return np.abs(C1) * np.exp(-(X-mu1)**2/(2*sigma1**2)) + np.abs(C2) * np.exp(-(X-mu2)**2/(2*sigma2**2)) + c*X\n",
    "\n",
    "    # define function to optimize\n",
    "    def func(x):\n",
    "        return model(x) - y\n",
    "               \n",
    "    def funcscal(x):\n",
    "        return np.sum(np.power((model(x) - y), 2))\n",
    "    \n",
    "    \n",
    "    # define guesses for the simulation\n",
    "    mu1 = [Expe.f]\n",
    "    sigma1 = [5]\n",
    "    sigma2 = [1]\n",
    "    c = [0.0001]\n",
    "    C1 = [0.05 for i in range(nof)]\n",
    "    C2 = [Expe[i].speed_rpm_num*0.0002 for i in range(nof)]\n",
    "    x0 = mu1 + sigma1 + sigma2 + c + C1 + C2\n",
    "    \n",
    "    # solve the least square optimization\n",
    "    # res = least_squares(func,x0)\n",
    "    res = minimize(funcscal,x0, method='Nelder-Mead',tol=1e-6)\n",
    "    \n",
    "    # show results\n",
    "    mu1 = res.x[0]\n",
    "    sigma1 = res.x[1]\n",
    "    sigma2 = res.x[2]\n",
    "    c = res.x[3]\n",
    "    C1 = res.x[4:nof+4]\n",
    "    C2 = res.x[nof+4:2*nof+4]\n",
    "    \n",
    "    # plot the results in a table\n",
    "    pd.set_option('display.max_columns', 30)\n",
    "    table1 = {'Expectation $\\mu_1 = f $ [Hz]': mu1,\n",
    "              'Standard deviation $\\sigma1$ [Hz]': sigma1,\n",
    "              'Standard deviation $\\sigma2$ [Hz]': sigma2,\n",
    "              'Wedge slope $c \\cdot 10^3$': c*1000}\n",
    "    table2 = {'Expectation $\\mu_2 $ [Hz]': mu2v,\n",
    "              'Amplitudes $C_{1_{rpm}}$' : C1,\n",
    "              'Amplitudes $C_{2_{rpm}}$' : C2}\n",
    "\n",
    "    df1 = pd.DataFrame(table1, index = ['Value']).round(2)\n",
    "    df2 = pd.DataFrame(table2,index = Expe.speed_list).T.round(4);\n",
    "    display(df1,df2)\n",
    "\n",
    "    #plot the results\n",
    "    maxF = np.max(model(res.x))\n",
    "    maxresiduals = np.max(y - model(res.x))\n",
    "    minresiduals = np.min(y - model(res.x))\n",
    "    \n",
    "    trace0 = [] ; trace1 = [] ; trace2 = []\n",
    "\n",
    "    for i in range(Expe.numoffiles):\n",
    "        E=Expe[i]\n",
    "        trace0.append(go.Scatter(\n",
    "            visible = False,\n",
    "            x = X[i*N:(i+1)*N],\n",
    "            y = y[i*N:(i+1)*N],\n",
    "            mode = 'markers',\n",
    "            marker =  dict(size= 3),\n",
    "            name = E.speed_rpm_str + ' data points'\n",
    "        ))\n",
    "        trace1.append(go.Scatter(\n",
    "            visible = False,\n",
    "            x = X[i*N:(i+1)*N],\n",
    "            y = model(res.x)[i*N:(i+1)*N],\n",
    "            mode = 'lines',\n",
    "            marker= dict(line= dict(width=1)),\n",
    "            name =  E.speed_rpm_str + ' curve fit'\n",
    "        ))\n",
    "        trace2.append(go.Scatter(\n",
    "            visible = False,\n",
    "            x = X[i*N:(i+1)*N],\n",
    "            y = y[i*N:(i+1)*N] - model(res.x)[i*N:(i+1)*N],\n",
    "            mode = 'markers',\n",
    "            marker =  dict(size= 3),\n",
    "            name = E.speed_rpm_str + ' residuals'\n",
    "        ))\n",
    "\n",
    "    data = trace0 + trace1 + trace2\n",
    "\n",
    "    data[0]['visible'] = True\n",
    "    data[nof]['visible'] = True\n",
    "\n",
    "    steps = []\n",
    "    for i in range(nof):\n",
    "        step = dict(\n",
    "            method = 'restyle',\n",
    "            args = ['visible', [False] * len(data)],\n",
    "            label=Expe[i].speed_rpm_str\n",
    "        )\n",
    "        step['args'][1][i] = True # Toggle i'th trace to \"visible\"\n",
    "        step['args'][1][i+nof] = True # Toggle i'th trace to \"visible\"\n",
    "        steps.append(step)\n",
    "\n",
    "    sliders = [dict(\n",
    "        active = 0,\n",
    "        currentvalue = dict(prefix = \"Driven angular velocity: \"),\n",
    "        steps = steps,\n",
    "        pad = {\"t\": 80}\n",
    "    )]\n",
    "\n",
    "    updatemenus = [\n",
    "        dict(buttons= [\n",
    "            dict(\n",
    "                args = ['visible', [True] * (len(data)-nof) + [False] * nof],\n",
    "                label='See all traces',\n",
    "                method='restyle'\n",
    "                ),\n",
    "            dict(\n",
    "                args = ['visible', [False] * (len(data)-nof) + [True] * nof],\n",
    "                label='Residuals',\n",
    "                method='restyle'\n",
    "                ),\n",
    "            dict(\n",
    "                args = ['yaxis.range', [minresiduals,maxresiduals]],\n",
    "                label='range',\n",
    "                method='relayout'\n",
    "                )],\n",
    "            direction = 'left',\n",
    "            pad = {'r': 10, 't': 10},\n",
    "            showactive = False,\n",
    "            type = 'buttons',\n",
    "            x = 0.1,\n",
    "            xanchor = 'left',\n",
    "            y = 1,\n",
    "            yanchor = 'top' \n",
    "        )\n",
    "    ]\n",
    "    \n",
    "    layout = dict(hovermode = 'closest',\n",
    "                  updatemenus = updatemenus,\n",
    "                  sliders = sliders, \n",
    "                  title = 'Gaussian curve-fitting on the projected data points from the spectrogram analysis on the Frequency-Amplitude plane <br>' + Expe.shaft_desc, \n",
    "                  xaxis=dict(title='Freq [Hz]'),\n",
    "                  yaxis=dict(title='|Y(freq)|', range = [0,maxF])\n",
    "                  )\n",
    "\n",
    "    fig = go.Figure(data=data, layout=layout)\n",
    "    fig.show()\n",
    "    \n",
    "    save_plot_button(fig)"
   ]
  },
  {
   "cell_type": "markdown",
   "metadata": {
    "editable": false,
    "nbpresent": {
     "id": "7ae116c5-3903-448b-9b79-0145bf4f614d"
    }
   },
   "source": [
    "#### Healthy shaft"
   ]
  },
  {
   "cell_type": "code",
   "execution_count": null,
   "metadata": {
    "editable": false,
    "hide_input": true,
    "nbpresent": {
     "id": "86757bd8-c655-48ea-b55e-67ba8370efd7"
    }
   },
   "outputs": [],
   "source": [
    "distribFit41(HeS)"
   ]
  },
  {
   "cell_type": "markdown",
   "metadata": {
    "editable": false,
    "nbpresent": {
     "id": "9dbbe034-b1eb-4b50-bfab-2bff04a41966"
    }
   },
   "source": [
    "#### Cracked shaft"
   ]
  },
  {
   "cell_type": "code",
   "execution_count": null,
   "metadata": {
    "editable": false,
    "hide_input": true,
    "nbpresent": {
     "id": "4ba98d23-3a71-4a3c-b05a-9d0d0485e067"
    }
   },
   "outputs": [],
   "source": [
    "distribFit41(CrS)"
   ]
  },
  {
   "cell_type": "markdown",
   "metadata": {
    "editable": false,
    "nbpresent": {
     "id": "d61f37f3-7955-4484-8f24-b88861c65d0e"
    }
   },
   "source": [
    "### Multiple peaks, multiple wedge slopes\n",
    "In the FFT spectrum we can see that the noisy data at low amplitudes tend to increase linearly at higher frequencies. Therefore we can adapt our model and add this further parameter to it. In this case a slope value is parametrized for each series of  the datasets.\n",
    "\n",
    "- Model:\n",
    "$$A(f, rpm, \\mu_1,\\sigma_1, \\sigma_2, C_{1_{rpm}}, C_{2_{rpm}}) =  C_{1_{rpm}} \\cdot e^{-\\dfrac{(f-\\mu_1)^2}{2\\sigma_1^2}} + C_{2_{rpm}} \\cdot e^{-\\dfrac{(f-k\\cdot \\frac{rpm}{60})^2}{2\\sigma_2^2}} + c_{rpm}\\cdot f$$ \n",
    "\n",
    "where $k$ represent the order to be fitted and $rpm$ the driven angular velocity in rounds per minutes\n",
    "\n",
    "\n",
    "- Function to minimize:\n",
    "\n",
    "$$ \\sum_{rpm,f}{ \\left( FFT(f, rpm) - A(f, rpm, \\mu_1,\\sigma_1, \\sigma_2, C_{1_{rpm}}, C_{2_{rpm}},c_{rpm}) \\right)^2 }  $$\n",
    "\n",
    "The terms to be determined in the optimization are the amplitudes $C_{rpm}$ and the wedge slopes c_{rpm} with $rpm$ ranging from {{HeS.speed_list[0] + ' to ' + HeS.speed_list[-1]}}, the expectation term $\\mu$, the standard deviation $\\sigma$.\n"
   ]
  },
  {
   "cell_type": "code",
   "execution_count": null,
   "metadata": {
    "code_folding": [
     0
    ],
    "init_cell": true,
    "nbpresent": {
     "id": "18d636f1-165d-4485-bb49-0989a9227a45"
    }
   },
   "outputs": [],
   "source": [
    "def distribFit42(Expe):\n",
    "    nof = Expe.numoffiles\n",
    "    cut_time = Expe.cut_time\n",
    "    xdata = []\n",
    "    ydata = []\n",
    "    indexdata = []\n",
    "    fstart = 0.5\n",
    "    fend = Expe.f*1.5\n",
    "    Nstart = int(fstart*cut_time)\n",
    "    Nend = int(fend*cut_time)\n",
    "    N = Nend-Nstart\n",
    "    for i in range(nof):\n",
    "        xdata.append(Expe[i].fft_freq_1minus2_cut[Nstart:Nend])\n",
    "        ydata.append(Expe[i].fft_amp_1minus2_cut[Nstart:Nend])\n",
    "        indexdata.append(np.ones((Nend-Nstart,), dtype=np.int)*(i))\n",
    "\n",
    "    x = np.array(xdata).flatten()\n",
    "    y = np.array(ydata).flatten()\n",
    "    k = np.array(indexdata).flatten()\n",
    "    u = np.column_stack((k,x))\n",
    "    k = u[:,0].astype(int)\n",
    "    X = u[:,1]\n",
    "    mu2v = np.array([Expe[i].speed_rpm_num/60 for i in range(nof)])\n",
    "    # define model function\n",
    "    def model(x):\n",
    "        mu1 = x[0]\n",
    "        sigma1 = x[1]\n",
    "        sigma2 = x[2]\n",
    "        C1 = x[k+3]\n",
    "        C2 = x[k+nof+3]        \n",
    "        c = x[k+2*nof+3]\n",
    "        mu2 = mu2v[k]\n",
    "        return np.abs(C1) * np.exp(-(X-mu1)**2/(2*sigma1**2)) + np.abs(C2) * np.exp(-(X-mu2)**2/(2*sigma2**2)) + c*X\n",
    "\n",
    "    # define function to optimize\n",
    "    def func(x):\n",
    "        return model(x) - y\n",
    "               \n",
    "    def funcscal(x):\n",
    "        return np.sum(np.power((model(x) - y), 2))\n",
    "    \n",
    "    \n",
    "    # define guesses for the simulation\n",
    "    mu1 = [Expe.f]\n",
    "    sigma1 = [5]\n",
    "    sigma2 = [1]\n",
    "    C1 = [0.05 for i in range(nof)]\n",
    "    C2 = [Expe[i].speed_rpm_num*0.0002 for i in range(nof)]\n",
    "    c = [0.0001 for i in range(nof)]\n",
    "    x0 = mu1 + sigma1 + sigma2 + C1 + C2 + c\n",
    "    \n",
    "    # solve the least square optimization\n",
    "    # res = least_squares(func,x0)\n",
    "    res = minimize(funcscal,x0, method='Nelder-Mead',tol=1e-6)\n",
    "    \n",
    "    # show results\n",
    "    mu1 = res.x[0]\n",
    "    sigma1 = res.x[1]\n",
    "    sigma2 = res.x[2]\n",
    "    C1 = res.x[3:nof+3]\n",
    "    C2 = res.x[nof+3:2*nof+3]\n",
    "    c = res.x[2*nof+3:3*nof+3]\n",
    "\n",
    "    # plot the results in a table\n",
    "    pd.set_option('display.max_columns', 30)\n",
    "    table1 = {'Expectation $\\mu_1 = f $ [Hz]': mu1,\n",
    "              'Standard deviation $\\sigma1$ [Hz]': sigma1,\n",
    "              'Standard deviation $\\sigma2$ [Hz]': sigma2}\n",
    "    table2 = {'Expectation $\\mu_2$ [Hz]': mu2v,\n",
    "              'Amplitudes $C_{1_{rpm}}$' : C1,\n",
    "              'Amplitudes $C_{2_{rpm}}$' : C2,\n",
    "              'Wedge slope $c\\cdot 10^3$': c*1000}\n",
    "\n",
    "    df1 = pd.DataFrame(table1, index = ['Value']).round(2)\n",
    "    df2 = pd.DataFrame(table2,index = Expe.speed_list).T.round(4);\n",
    "    display(df1,df2)\n",
    "\n",
    "    #plot the results\n",
    "    maxF = np.max(model(res.x))\n",
    "    maxresiduals = np.max(y - model(res.x))\n",
    "    minresiduals = np.min(y - model(res.x))\n",
    "    \n",
    "    trace0 = [] ; trace1 = [] ; trace2 = []\n",
    "\n",
    "    for i in range(Expe.numoffiles):\n",
    "        E=Expe[i]\n",
    "        trace0.append(go.Scatter(\n",
    "            visible = False,\n",
    "            x = X[i*N:(i+1)*N],\n",
    "            y = y[i*N:(i+1)*N],\n",
    "            mode = 'markers',\n",
    "            marker =  dict(size= 5),\n",
    "            name = E.speed_rpm_str + ' data points'\n",
    "        ))\n",
    "        trace1.append(go.Scatter(\n",
    "            visible = False,\n",
    "            x = X[i*N:(i+1)*N],\n",
    "            y = model(res.x)[i*N:(i+1)*N],\n",
    "            mode = 'lines',\n",
    "            marker= dict(line= dict(width=1)),\n",
    "            name =  E.speed_rpm_str + ' curve fit'\n",
    "        ))\n",
    "        trace2.append(go.Scatter(\n",
    "            visible = False,\n",
    "            x = X[i*N:(i+1)*N],\n",
    "            y = y[i*N:(i+1)*N] - model(res.x)[i*N:(i+1)*N],\n",
    "            mode = 'markers',\n",
    "            marker =  dict(size= 5),\n",
    "            name = E.speed_rpm_str + ' residuals'\n",
    "        ))\n",
    "\n",
    "    data = trace0 + trace1 + trace2\n",
    "\n",
    "    data[0]['visible'] = True\n",
    "    data[nof]['visible'] = True\n",
    "\n",
    "    steps = []\n",
    "    for i in range(nof):\n",
    "        step = dict(\n",
    "            method = 'restyle',\n",
    "            args = ['visible', [False] * len(data)],\n",
    "            label=Expe[i].speed_rpm_str\n",
    "        )\n",
    "        step['args'][1][i] = True # Toggle i'th trace to \"visible\"\n",
    "        step['args'][1][i+nof] = True # Toggle i'th trace to \"visible\"\n",
    "        steps.append(step)\n",
    "\n",
    "    sliders = [dict(\n",
    "        active = 0,\n",
    "        currentvalue = dict(prefix = \"Driven angular velocity: \"),\n",
    "        steps = steps,\n",
    "        pad = {\"t\": 80}\n",
    "    )]\n",
    "\n",
    "    updatemenus = [\n",
    "        dict(buttons= [\n",
    "            dict(\n",
    "                args = ['visible', [True] * (len(data)-nof) + [False] * nof],\n",
    "                label='See all traces',\n",
    "                method='restyle'\n",
    "                ),\n",
    "            dict(\n",
    "                args = ['visible', [False] * (len(data)-nof) + [True] * nof],\n",
    "                label='Residuals',\n",
    "                method='restyle'\n",
    "                ),\n",
    "            dict(\n",
    "                args = ['yaxis.range', [minresiduals,maxresiduals]],\n",
    "                label='range',\n",
    "                method='relayout'\n",
    "                )],\n",
    "            direction = 'left',\n",
    "            pad = {'r': 10, 't': 10},\n",
    "            showactive = False,\n",
    "            type = 'buttons',\n",
    "            x = 0.1,\n",
    "            xanchor = 'left',\n",
    "            y = 1,\n",
    "            yanchor = 'top' \n",
    "        )\n",
    "    ]\n",
    "    \n",
    "    layout = dict(hovermode = 'closest',\n",
    "                  updatemenus = updatemenus,\n",
    "                  sliders = sliders, \n",
    "                  title = 'Gaussian curve-fitting on the projected data points from the spectrogram analysis on the Frequency-Amplitude plane <br>' + Expe.shaft_desc, \n",
    "                  xaxis=dict(title='Freq [Hz]'),\n",
    "                  yaxis=dict(title='|Y(freq)|', range = [0,maxF])\n",
    "                  )\n",
    "\n",
    "    fig = go.Figure(data=data, layout=layout)\n",
    "    fig.show()\n",
    "    \n",
    "    save_plot_button(fig)"
   ]
  },
  {
   "cell_type": "markdown",
   "metadata": {
    "editable": false,
    "nbpresent": {
     "id": "d895fb47-a4b7-4a2e-8e6b-187b3c3f608c"
    }
   },
   "source": [
    "#### Healthy shaft"
   ]
  },
  {
   "cell_type": "code",
   "execution_count": null,
   "metadata": {
    "editable": false,
    "hide_input": true,
    "nbpresent": {
     "id": "2de0ca15-b145-48dc-8ce3-ab41f9e772df"
    }
   },
   "outputs": [],
   "source": [
    "distribFit42(HeS)"
   ]
  },
  {
   "cell_type": "markdown",
   "metadata": {
    "editable": false,
    "nbpresent": {
     "id": "38b4ced5-05e3-4795-bf77-4f511475898a"
    }
   },
   "source": [
    "#### Cracked shaft"
   ]
  },
  {
   "cell_type": "code",
   "execution_count": null,
   "metadata": {
    "editable": false,
    "hide_input": true,
    "nbpresent": {
     "id": "d21a11fe-70a3-487e-8b15-3514fbc4a863"
    }
   },
   "outputs": [],
   "source": [
    "distribFit42(CrS)"
   ]
  },
  {
   "cell_type": "markdown",
   "metadata": {
    "editable": false,
    "nbpresent": {
     "id": "ba842829-d1b5-4eb6-a217-5bb4d63f6153"
    }
   },
   "source": [
    "# References"
   ]
  },
  {
   "cell_type": "markdown",
   "metadata": {
    "editable": false,
    "nbpresent": {
     "id": "a910d4dc-c624-47cc-923d-28f89e2d50dd"
    }
   },
   "source": [
    "[1] \n",
    "<cite data-cite=\"groover2005\">Groover et al., Removal of order domain content in rotating equipment signals by double resampling, Mechanical Systems and Signal Processing, 19 (2005) 483–500 </cite>"
   ]
  }
 ],
 "metadata": {
  "celltoolbar": "Initialization Cell",
  "hide_input": false,
  "kernelspec": {
   "display_name": "Python 3",
   "language": "python",
   "name": "python3"
  },
  "language_info": {
   "codemirror_mode": {
    "name": "ipython",
    "version": 3
   },
   "file_extension": ".py",
   "mimetype": "text/x-python",
   "name": "python",
   "nbconvert_exporter": "python",
   "pygments_lexer": "ipython3",
   "version": "3.7.4"
  },
  "nbpresent": {
   "slides": {
    "042f48ea-343c-4f6f-bf59-b41dec9b2012": {
     "id": "042f48ea-343c-4f6f-bf59-b41dec9b2012",
     "prev": "0e7f7420-d768-48b6-8ae1-fc0516e3e7c8",
     "regions": {
      "d3f69f30-cc02-4209-94bb-33f1f4878d86": {
       "attrs": {
        "height": 0.8,
        "width": 0.8,
        "x": 0.1,
        "y": 0.1
       },
       "content": {
        "cell": "c3fc0921-30ff-4cc1-b09c-be003f514942",
        "part": "whole"
       },
       "id": "d3f69f30-cc02-4209-94bb-33f1f4878d86"
      }
     }
    },
    "049feda9-9afd-4b7b-8600-435f6a3ee88c": {
     "id": "049feda9-9afd-4b7b-8600-435f6a3ee88c",
     "prev": "8b078ce5-0245-4a92-898c-92df1d2a2f69",
     "regions": {
      "53354cd8-eb9d-4bbe-8db3-5df1b2f4b448": {
       "attrs": {
        "height": 0.8,
        "width": 0.8,
        "x": 0.1,
        "y": 0.1
       },
       "content": {
        "cell": "4f296230-440b-42af-874f-001e66cc8bc8",
        "part": "whole"
       },
       "id": "53354cd8-eb9d-4bbe-8db3-5df1b2f4b448"
      }
     }
    },
    "050c927b-abc9-4a3a-a7ec-f053bce4b7ee": {
     "id": "050c927b-abc9-4a3a-a7ec-f053bce4b7ee",
     "prev": "69e1870d-582a-4678-87c4-d31fc3a392b4",
     "regions": {
      "420e67a8-ca94-4ae7-8feb-0852c6c1fbed": {
       "attrs": {
        "height": 0.8,
        "width": 0.8,
        "x": 0.1,
        "y": 0.1
       },
       "content": {
        "cell": "18d636f1-165d-4485-bb49-0989a9227a45",
        "part": "whole"
       },
       "id": "420e67a8-ca94-4ae7-8feb-0852c6c1fbed"
      }
     }
    },
    "062f9e5d-8f6d-453c-a614-42dd3787d402": {
     "id": "062f9e5d-8f6d-453c-a614-42dd3787d402",
     "prev": "1e8c6a77-bcdc-496f-b294-dbc8b1fb9250",
     "regions": {
      "99ac975d-4006-4b6e-b9eb-dd8af9643065": {
       "attrs": {
        "height": 0.8,
        "width": 0.8,
        "x": 0.1,
        "y": 0.1
       },
       "content": {
        "cell": "84f85330-62f4-4358-96d5-438d6eb59f94",
        "part": "whole"
       },
       "id": "99ac975d-4006-4b6e-b9eb-dd8af9643065"
      }
     }
    },
    "0720dfbd-0a02-4ec8-a95d-edf85a44ad1d": {
     "id": "0720dfbd-0a02-4ec8-a95d-edf85a44ad1d",
     "prev": "050c927b-abc9-4a3a-a7ec-f053bce4b7ee",
     "regions": {
      "281928d7-1713-4c6e-bfc6-a5656928746d": {
       "attrs": {
        "height": 0.8,
        "width": 0.8,
        "x": 0.1,
        "y": 0.1
       },
       "content": {
        "cell": "d895fb47-a4b7-4a2e-8e6b-187b3c3f608c",
        "part": "whole"
       },
       "id": "281928d7-1713-4c6e-bfc6-a5656928746d"
      }
     }
    },
    "0952c2bd-ed14-41a7-acd0-deb48cf93ecb": {
     "id": "0952c2bd-ed14-41a7-acd0-deb48cf93ecb",
     "prev": "247b4d41-ac35-49c5-8097-76f0c6c3d001",
     "regions": {
      "aaa85668-c9fd-4135-b5c6-262353c34f6e": {
       "attrs": {
        "height": 0.8,
        "width": 0.8,
        "x": 0.1,
        "y": 0.1
       },
       "content": {
        "cell": "3a60f4ea-9ad3-46ea-be8d-88e951cfcb67",
        "part": "whole"
       },
       "id": "aaa85668-c9fd-4135-b5c6-262353c34f6e"
      }
     }
    },
    "0acb345f-ba5d-4851-86a0-ae9593ef4c10": {
     "id": "0acb345f-ba5d-4851-86a0-ae9593ef4c10",
     "prev": "50aa3f51-0acf-4937-839f-8f26b351c9fd",
     "regions": {
      "4a7a5256-3e11-4829-bd81-c3d1a7f3e267": {
       "attrs": {
        "height": 0.8,
        "width": 0.8,
        "x": 0.1,
        "y": 0.1
       },
       "content": {
        "cell": "98a7c803-53f0-4b4f-b395-2677928d5354",
        "part": "whole"
       },
       "id": "4a7a5256-3e11-4829-bd81-c3d1a7f3e267"
      }
     }
    },
    "0c9ca9ef-e75e-482d-9891-e8274ab4021b": {
     "id": "0c9ca9ef-e75e-482d-9891-e8274ab4021b",
     "prev": "ed199600-d77a-4e82-8b44-7ec45fc97ea3",
     "regions": {
      "b716e0a6-105c-4ecf-a931-fa4822548e9e": {
       "attrs": {
        "height": 0.8,
        "width": 0.8,
        "x": 0.1,
        "y": 0.1
       },
       "content": {
        "cell": "80445c53-3ddf-43e7-a795-28f9b82fc0e4",
        "part": "whole"
       },
       "id": "b716e0a6-105c-4ecf-a931-fa4822548e9e"
      }
     }
    },
    "0d2817d3-ffee-4c9e-af4f-a407f4a873f2": {
     "id": "0d2817d3-ffee-4c9e-af4f-a407f4a873f2",
     "prev": "9e1ec66a-51bd-4d31-92c3-f3eacc3ed1f9",
     "regions": {
      "aeb2fd30-3fe7-4364-80bc-d3337adddeec": {
       "attrs": {
        "height": 0.8,
        "width": 0.8,
        "x": 0.1,
        "y": 0.1
       },
       "content": {
        "cell": "7ae116c5-3903-448b-9b79-0145bf4f614d",
        "part": "whole"
       },
       "id": "aeb2fd30-3fe7-4364-80bc-d3337adddeec"
      }
     }
    },
    "0e7f7420-d768-48b6-8ae1-fc0516e3e7c8": {
     "id": "0e7f7420-d768-48b6-8ae1-fc0516e3e7c8",
     "prev": "93f5b8bf-3a09-4de0-970e-4797667aa9b8",
     "regions": {
      "46773730-2e3b-476a-871f-7fd59b79c43e": {
       "attrs": {
        "height": 0.8,
        "width": 0.8,
        "x": 0.1,
        "y": 0.1
       },
       "content": {
        "cell": "4291deb2-a7ef-4db3-a12d-945415282bf4",
        "part": "whole"
       },
       "id": "46773730-2e3b-476a-871f-7fd59b79c43e"
      }
     }
    },
    "0f8d4dc8-95b7-4df3-a553-0895989f5452": {
     "id": "0f8d4dc8-95b7-4df3-a553-0895989f5452",
     "prev": "9794cc87-ac9f-4b26-941c-b0cdb0cc01d5",
     "regions": {
      "bfcc4e7c-0367-409b-b7e7-e033e014cb1b": {
       "attrs": {
        "height": 0.8,
        "width": 0.8,
        "x": 0.1,
        "y": 0.1
       },
       "content": {
        "cell": "5cac5b4a-e4bd-4d34-aab0-87c0a253c10a",
        "part": "whole"
       },
       "id": "bfcc4e7c-0367-409b-b7e7-e033e014cb1b"
      }
     }
    },
    "11217648-069d-4332-a6c5-7083930ff0c9": {
     "id": "11217648-069d-4332-a6c5-7083930ff0c9",
     "prev": "6ae7ac90-77b1-4f0b-99d3-23a1fc5e7836",
     "regions": {
      "53565293-7ce3-4e2d-83d4-f1083524d389": {
       "attrs": {
        "height": 0.8,
        "width": 0.8,
        "x": 0.1,
        "y": 0.1
       },
       "content": {
        "cell": "04a1e5b3-2be6-49ad-a8d7-6c4e64a88004",
        "part": "whole"
       },
       "id": "53565293-7ce3-4e2d-83d4-f1083524d389"
      }
     }
    },
    "158a0bd9-f4db-42c5-9f51-4265360a76a8": {
     "id": "158a0bd9-f4db-42c5-9f51-4265360a76a8",
     "prev": "dee865b5-000a-4099-ad55-7cee25993175",
     "regions": {
      "6f006c8a-0108-40cc-89f5-54e0874c3e55": {
       "attrs": {
        "height": 0.8,
        "width": 0.8,
        "x": 0.1,
        "y": 0.1
       },
       "content": {
        "cell": "6a3af0e9-88fb-4b87-b1bf-00301374afde",
        "part": "whole"
       },
       "id": "6f006c8a-0108-40cc-89f5-54e0874c3e55"
      }
     }
    },
    "1b0e23e9-321e-4c15-9df5-99afb711d7db": {
     "id": "1b0e23e9-321e-4c15-9df5-99afb711d7db",
     "prev": "885bfbda-31de-4f0a-89c5-a90a07017c08",
     "regions": {
      "a69f4f5c-6826-400c-b3d1-96412f2392d8": {
       "attrs": {
        "height": 0.8,
        "width": 0.8,
        "x": 0.1,
        "y": 0.1
       },
       "content": {
        "cell": "cd1d50cb-ac71-45d4-bfea-b44cacf40c43",
        "part": "whole"
       },
       "id": "a69f4f5c-6826-400c-b3d1-96412f2392d8"
      }
     }
    },
    "1e8c6a77-bcdc-496f-b294-dbc8b1fb9250": {
     "id": "1e8c6a77-bcdc-496f-b294-dbc8b1fb9250",
     "prev": "e64bc843-1c39-45cf-8354-7c40dfbb4787",
     "regions": {
      "dd6a41d9-6343-41c3-8c7e-b74ebe61ad5f": {
       "attrs": {
        "height": 0.8,
        "width": 0.8,
        "x": 0.1,
        "y": 0.1
       },
       "content": {
        "cell": "6f0797e4-5f05-473a-96c9-9b0be5d7edae",
        "part": "whole"
       },
       "id": "dd6a41d9-6343-41c3-8c7e-b74ebe61ad5f"
      }
     }
    },
    "1fc49314-e75e-4113-a7ce-007c3d80126d": {
     "id": "1fc49314-e75e-4113-a7ce-007c3d80126d",
     "prev": null,
     "regions": {
      "8f8c8df7-d74d-41a1-89b3-994c788471bc": {
       "attrs": {
        "height": 0.8,
        "width": 0.8,
        "x": 0.1,
        "y": 0.1
       },
       "content": {
        "cell": "7f7e1219-49f3-44bf-a0f8-79f895efde46",
        "part": "whole"
       },
       "id": "8f8c8df7-d74d-41a1-89b3-994c788471bc"
      }
     }
    },
    "21b46d1a-ac24-4fb1-99a8-5b9b1e2de282": {
     "id": "21b46d1a-ac24-4fb1-99a8-5b9b1e2de282",
     "prev": "ce1f4a62-d4e6-4291-bfcd-00185cc3802b",
     "regions": {
      "93345960-904d-4615-90ed-eb87612f641a": {
       "attrs": {
        "height": 0.8,
        "width": 0.8,
        "x": 0.1,
        "y": 0.1
       },
       "content": {
        "cell": "d8045f4c-6ab6-425c-a4de-ec5e672046af",
        "part": "whole"
       },
       "id": "93345960-904d-4615-90ed-eb87612f641a"
      }
     }
    },
    "247b4d41-ac35-49c5-8097-76f0c6c3d001": {
     "id": "247b4d41-ac35-49c5-8097-76f0c6c3d001",
     "prev": "ab6afdaa-0dfe-4a35-8b13-fc6404224d75",
     "regions": {
      "e0a7dd7d-993e-4f97-8ba0-258a4fab3048": {
       "attrs": {
        "height": 0.8,
        "width": 0.8,
        "x": 0.1,
        "y": 0.1
       },
       "content": {
        "cell": "edf8a095-1be4-40ee-b7f9-6109c30e6c82",
        "part": "whole"
       },
       "id": "e0a7dd7d-993e-4f97-8ba0-258a4fab3048"
      }
     }
    },
    "2a55acee-d1d1-49c0-9e7c-9fa4de9a4f1a": {
     "id": "2a55acee-d1d1-49c0-9e7c-9fa4de9a4f1a",
     "prev": "0d2817d3-ffee-4c9e-af4f-a407f4a873f2",
     "regions": {
      "37d62c97-4705-4fba-a77a-f5aed282fd77": {
       "attrs": {
        "height": 0.8,
        "width": 0.8,
        "x": 0.1,
        "y": 0.1
       },
       "content": {
        "cell": "86757bd8-c655-48ea-b55e-67ba8370efd7",
        "part": "whole"
       },
       "id": "37d62c97-4705-4fba-a77a-f5aed282fd77"
      }
     }
    },
    "2a755841-eda9-461f-b75a-b784fa27b20e": {
     "id": "2a755841-eda9-461f-b75a-b784fa27b20e",
     "prev": "80dc9696-f613-47a0-b743-490b3f5ef84d",
     "regions": {
      "12b083ba-1792-4cf0-8aed-c6921c0c251b": {
       "attrs": {
        "height": 0.8,
        "width": 0.8,
        "x": 0.1,
        "y": 0.1
       },
       "content": {
        "cell": "38b4ced5-05e3-4795-bf77-4f511475898a",
        "part": "whole"
       },
       "id": "12b083ba-1792-4cf0-8aed-c6921c0c251b"
      }
     }
    },
    "2aec212f-6b7d-4ff1-80ee-e268bd99663f": {
     "id": "2aec212f-6b7d-4ff1-80ee-e268bd99663f",
     "prev": "cec60d8f-cc35-4a1b-9cf0-95dd93d93ea9",
     "regions": {
      "183cd288-68a6-4fb9-8485-d083369e13ba": {
       "attrs": {
        "height": 0.8,
        "width": 0.8,
        "x": 0.1,
        "y": 0.1
       },
       "content": {
        "cell": "f93e3a24-fc14-4908-8d5f-b6ff3a2b9adb",
        "part": "whole"
       },
       "id": "183cd288-68a6-4fb9-8485-d083369e13ba"
      }
     }
    },
    "2f6f8bd0-52c2-4709-adc1-939804ae638b": {
     "id": "2f6f8bd0-52c2-4709-adc1-939804ae638b",
     "prev": "3cc6f680-8f18-4d86-a56a-6e74ea2217c6",
     "regions": {
      "33db1910-6720-4912-848f-9390bbc537ee": {
       "attrs": {
        "height": 0.8,
        "width": 0.8,
        "x": 0.1,
        "y": 0.1
       },
       "content": {
        "cell": "2a0e54ba-3c6e-428b-9a07-c7e5d80f4ce0",
        "part": "whole"
       },
       "id": "33db1910-6720-4912-848f-9390bbc537ee"
      }
     }
    },
    "3025e525-21a4-449a-8437-38683905ace0": {
     "id": "3025e525-21a4-449a-8437-38683905ace0",
     "prev": "6cddc9a8-aac3-4424-887d-39bb44e013e0",
     "regions": {
      "632613e7-6742-42f8-823c-b9a16d3864fa": {
       "attrs": {
        "height": 0.8,
        "width": 0.8,
        "x": 0.1,
        "y": 0.1
       },
       "content": {
        "cell": "1550a2ce-74c7-4854-a375-757ca3e8c14c",
        "part": "whole"
       },
       "id": "632613e7-6742-42f8-823c-b9a16d3864fa"
      }
     }
    },
    "3151970f-b24b-4c33-80b4-e03004aa12e2": {
     "id": "3151970f-b24b-4c33-80b4-e03004aa12e2",
     "prev": "38260bd4-7ff0-47f6-ae34-920121510898",
     "regions": {
      "2c9de38e-0d5b-4df8-9e9e-1d6047c2eec5": {
       "attrs": {
        "height": 0.8,
        "width": 0.8,
        "x": 0.1,
        "y": 0.1
       },
       "content": {
        "cell": "4b23d384-1675-4dfe-81d6-08b6cb8f9db0",
        "part": "whole"
       },
       "id": "2c9de38e-0d5b-4df8-9e9e-1d6047c2eec5"
      }
     }
    },
    "328d87f9-6551-41e6-ba02-6a8c3e2d68a3": {
     "id": "328d87f9-6551-41e6-ba02-6a8c3e2d68a3",
     "prev": "158a0bd9-f4db-42c5-9f51-4265360a76a8",
     "regions": {
      "267007fa-a7af-4693-b8b1-ac07259e5657": {
       "attrs": {
        "height": 0.8,
        "width": 0.8,
        "x": 0.1,
        "y": 0.1
       },
       "content": {
        "cell": "96cec8da-3908-41d1-8922-0e9fcaa517cf",
        "part": "whole"
       },
       "id": "267007fa-a7af-4693-b8b1-ac07259e5657"
      }
     }
    },
    "35c11687-af62-4c1f-a509-c0dfa5e90b2f": {
     "id": "35c11687-af62-4c1f-a509-c0dfa5e90b2f",
     "prev": "5de12a0c-0341-40de-b569-bea314036aca",
     "regions": {
      "5b89ea78-18af-4a64-8860-e3092dd96b88": {
       "attrs": {
        "height": 0.8,
        "width": 0.8,
        "x": 0.1,
        "y": 0.1
       },
       "content": {
        "cell": "f5d7abac-4699-4147-8889-8495074ae76f",
        "part": "whole"
       },
       "id": "5b89ea78-18af-4a64-8860-e3092dd96b88"
      }
     }
    },
    "38260bd4-7ff0-47f6-ae34-920121510898": {
     "id": "38260bd4-7ff0-47f6-ae34-920121510898",
     "prev": "cb6dd451-846a-46be-b9c7-147cc2dd5e99",
     "regions": {
      "bd681ae0-e32b-4883-baa2-2cce3a959ced": {
       "attrs": {
        "height": 0.8,
        "width": 0.8,
        "x": 0.1,
        "y": 0.1
       },
       "content": {
        "cell": "f8da8d73-e717-442d-aa30-553f02b3ce7d",
        "part": "whole"
       },
       "id": "bd681ae0-e32b-4883-baa2-2cce3a959ced"
      }
     }
    },
    "3ade0653-f13f-4da2-801a-055ec22d193a": {
     "id": "3ade0653-f13f-4da2-801a-055ec22d193a",
     "prev": "9b59babe-da89-4cc5-8f42-840090732324",
     "regions": {
      "e7582c2a-f32c-4609-bc20-6609d744bc0a": {
       "attrs": {
        "height": 0.8,
        "width": 0.8,
        "x": 0.1,
        "y": 0.1
       },
       "content": {
        "cell": "66e279ee-4e1b-4153-8e59-04865bd87a5b",
        "part": "whole"
       },
       "id": "e7582c2a-f32c-4609-bc20-6609d744bc0a"
      }
     }
    },
    "3c3b4f4d-5314-45e0-b121-6f255875ab69": {
     "id": "3c3b4f4d-5314-45e0-b121-6f255875ab69",
     "prev": "8466cef0-e782-4c10-be94-020c8b384062",
     "regions": {
      "88692e4a-9e9a-4e09-a17a-bec192af3dc2": {
       "attrs": {
        "height": 0.8,
        "width": 0.8,
        "x": 0.1,
        "y": 0.1
       },
       "content": {
        "cell": "ad6eb245-8187-4d72-8133-7ca4f22d0e87",
        "part": "whole"
       },
       "id": "88692e4a-9e9a-4e09-a17a-bec192af3dc2"
      }
     }
    },
    "3cc6f680-8f18-4d86-a56a-6e74ea2217c6": {
     "id": "3cc6f680-8f18-4d86-a56a-6e74ea2217c6",
     "prev": "d0237f9f-325e-4878-8add-58ade8a5c617",
     "regions": {
      "07ed665e-6fa2-484c-9190-0fd0fed9ffe6": {
       "attrs": {
        "height": 0.8,
        "width": 0.8,
        "x": 0.1,
        "y": 0.1
       },
       "content": {
        "cell": "a26efe83-85cc-4a81-b4a9-3708cdfb765c",
        "part": "whole"
       },
       "id": "07ed665e-6fa2-484c-9190-0fd0fed9ffe6"
      }
     }
    },
    "3e4e88cb-4833-4b16-86fc-c4249f6909ba": {
     "id": "3e4e88cb-4833-4b16-86fc-c4249f6909ba",
     "prev": "328d87f9-6551-41e6-ba02-6a8c3e2d68a3",
     "regions": {
      "1fcc4394-469e-44f0-b9ec-cf2e0f9122a1": {
       "attrs": {
        "height": 0.8,
        "width": 0.8,
        "x": 0.1,
        "y": 0.1
       },
       "content": {
        "cell": "b949f65a-e8de-4898-a042-f1d06289ab9e",
        "part": "whole"
       },
       "id": "1fcc4394-469e-44f0-b9ec-cf2e0f9122a1"
      }
     }
    },
    "4174e037-453d-4cd3-a61d-1f51da3af56d": {
     "id": "4174e037-453d-4cd3-a61d-1f51da3af56d",
     "prev": "d94d56fe-370c-4158-9b8a-c238313df3d5",
     "regions": {
      "f73ab669-648b-4326-81b7-128860abd22d": {
       "attrs": {
        "height": 0.8,
        "width": 0.8,
        "x": 0.1,
        "y": 0.1
       },
       "content": {
        "cell": "2c14b175-3508-49bb-981d-f5cee171b112",
        "part": "whole"
       },
       "id": "f73ab669-648b-4326-81b7-128860abd22d"
      }
     }
    },
    "4788cfa2-9984-43b5-acbe-37f597f3e64a": {
     "id": "4788cfa2-9984-43b5-acbe-37f597f3e64a",
     "prev": "3c3b4f4d-5314-45e0-b121-6f255875ab69",
     "regions": {
      "23a9c129-dca8-4783-b743-8f20db10dd74": {
       "attrs": {
        "height": 0.8,
        "width": 0.8,
        "x": 0.1,
        "y": 0.1
       },
       "content": {
        "cell": "d51ea80c-13e2-4412-8120-acf0e144eb62",
        "part": "whole"
       },
       "id": "23a9c129-dca8-4783-b743-8f20db10dd74"
      }
     }
    },
    "479879c7-b847-41b4-ab19-82c6b53bf670": {
     "id": "479879c7-b847-41b4-ab19-82c6b53bf670",
     "prev": "76938b9f-8a6f-4b8e-8d4a-c03d7932d591",
     "regions": {
      "74836821-2a60-4522-8d8a-1457d6ac47ee": {
       "attrs": {
        "height": 0.8,
        "width": 0.8,
        "x": 0.1,
        "y": 0.1
       },
       "content": {
        "cell": "3757289d-c6ad-42e0-8f94-d653bb4d3b5b",
        "part": "whole"
       },
       "id": "74836821-2a60-4522-8d8a-1457d6ac47ee"
      }
     }
    },
    "4c6a7933-e16d-4b88-978a-add9b95303be": {
     "id": "4c6a7933-e16d-4b88-978a-add9b95303be",
     "prev": "bd95c31f-a9d5-4aab-afa1-30e0f5239741",
     "regions": {
      "21d29952-2b9d-4786-9532-7555af308159": {
       "attrs": {
        "height": 0.8,
        "width": 0.8,
        "x": 0.1,
        "y": 0.1
       },
       "content": {
        "cell": "4ba98d23-3a71-4a3c-b05a-9d0d0485e067",
        "part": "whole"
       },
       "id": "21d29952-2b9d-4786-9532-7555af308159"
      }
     }
    },
    "4cfb2b4c-2a8f-448a-a97e-4277232f66a5": {
     "id": "4cfb2b4c-2a8f-448a-a97e-4277232f66a5",
     "prev": "699e3090-bc27-48ea-a2f4-2108e819bee5",
     "regions": {
      "450be23a-8295-45fc-9264-e53cf3d9fb03": {
       "attrs": {
        "height": 0.8,
        "width": 0.8,
        "x": 0.1,
        "y": 0.1
       },
       "content": {
        "cell": "65bb57a6-242f-4724-82c2-160364ffd60a",
        "part": "whole"
       },
       "id": "450be23a-8295-45fc-9264-e53cf3d9fb03"
      }
     }
    },
    "50aa3f51-0acf-4937-839f-8f26b351c9fd": {
     "id": "50aa3f51-0acf-4937-839f-8f26b351c9fd",
     "prev": "90c15d17-1029-4774-a386-81842c9ddb6f",
     "regions": {
      "40d00068-b313-4d84-8078-c1aa582bc240": {
       "attrs": {
        "height": 0.8,
        "width": 0.8,
        "x": 0.1,
        "y": 0.1
       },
       "content": {
        "cell": "ff7bd962-271f-4d15-82a0-126e6eb3e3f8",
        "part": "whole"
       },
       "id": "40d00068-b313-4d84-8078-c1aa582bc240"
      }
     }
    },
    "5a6ba8a9-e5b9-4c64-b8fa-c7c70c67261a": {
     "id": "5a6ba8a9-e5b9-4c64-b8fa-c7c70c67261a",
     "prev": "5f7c425b-adea-42b2-91f3-466c89f02931",
     "regions": {
      "6c285164-297a-4765-a135-9049ecf6efdb": {
       "attrs": {
        "height": 0.8,
        "width": 0.8,
        "x": 0.1,
        "y": 0.1
       },
       "content": {
        "cell": "f78c6498-c276-4ebf-902e-d6f7c6f4302c",
        "part": "whole"
       },
       "id": "6c285164-297a-4765-a135-9049ecf6efdb"
      }
     }
    },
    "5c52f587-5a22-42e3-b8b2-17caff5275b8": {
     "id": "5c52f587-5a22-42e3-b8b2-17caff5275b8",
     "prev": "73116f6a-7d36-47a1-863b-bb8ebe70691e",
     "regions": {
      "c8fe27b2-7e89-4ce9-8cb8-381dc381a70f": {
       "attrs": {
        "height": 0.8,
        "width": 0.8,
        "x": 0.1,
        "y": 0.1
       },
       "content": {
        "cell": "a910d4dc-c624-47cc-923d-28f89e2d50dd",
        "part": "whole"
       },
       "id": "c8fe27b2-7e89-4ce9-8cb8-381dc381a70f"
      }
     }
    },
    "5ccadac3-c238-41c6-957d-a4465d842a5b": {
     "id": "5ccadac3-c238-41c6-957d-a4465d842a5b",
     "prev": "1b0e23e9-321e-4c15-9df5-99afb711d7db",
     "regions": {
      "87ed1213-5b35-4ad2-b1b3-623bd7ee0766": {
       "attrs": {
        "height": 0.8,
        "width": 0.8,
        "x": 0.1,
        "y": 0.1
       },
       "content": {
        "cell": "3044b768-d5f3-45c4-8222-bc759d475057",
        "part": "whole"
       },
       "id": "87ed1213-5b35-4ad2-b1b3-623bd7ee0766"
      }
     }
    },
    "5de12a0c-0341-40de-b569-bea314036aca": {
     "id": "5de12a0c-0341-40de-b569-bea314036aca",
     "prev": "abdc0034-c691-454b-96bf-6b1a844d11f7",
     "regions": {
      "ee30403c-50a5-44ec-a8c7-27e5dc1e90b1": {
       "attrs": {
        "height": 0.8,
        "width": 0.8,
        "x": 0.1,
        "y": 0.1
       },
       "content": {
        "cell": "0fc1ecf2-3936-48ed-a560-e418f9d61b5f",
        "part": "whole"
       },
       "id": "ee30403c-50a5-44ec-a8c7-27e5dc1e90b1"
      }
     }
    },
    "5f7c425b-adea-42b2-91f3-466c89f02931": {
     "id": "5f7c425b-adea-42b2-91f3-466c89f02931",
     "prev": "3151970f-b24b-4c33-80b4-e03004aa12e2",
     "regions": {
      "ddf53a61-fb20-4e9f-a7cf-1766a814594b": {
       "attrs": {
        "height": 0.8,
        "width": 0.8,
        "x": 0.1,
        "y": 0.1
       },
       "content": {
        "cell": "e0ac3b45-fa70-4a75-90bd-af7101eef137",
        "part": "whole"
       },
       "id": "ddf53a61-fb20-4e9f-a7cf-1766a814594b"
      }
     }
    },
    "612ce8ca-6fe5-42af-9818-2e91f5d66b37": {
     "id": "612ce8ca-6fe5-42af-9818-2e91f5d66b37",
     "prev": "dd9dcb54-5712-458e-bdff-cbba3121f47f",
     "regions": {
      "c87d06cc-6a58-4c0e-802d-5c8052c3de9b": {
       "attrs": {
        "height": 0.8,
        "width": 0.8,
        "x": 0.1,
        "y": 0.1
       },
       "content": {
        "cell": "8581f545-0af4-41b4-bba9-aa2a37dc274a",
        "part": "whole"
       },
       "id": "c87d06cc-6a58-4c0e-802d-5c8052c3de9b"
      }
     }
    },
    "6490c753-8592-4b40-9414-0cf73b4c6956": {
     "id": "6490c753-8592-4b40-9414-0cf73b4c6956",
     "prev": "ca45ee1c-e1b9-4e47-a648-6249d162aa1d",
     "regions": {
      "b7a850ef-f45e-4a07-8ffc-affe8fa22a03": {
       "attrs": {
        "height": 0.8,
        "width": 0.8,
        "x": 0.1,
        "y": 0.1
       },
       "content": {
        "cell": "7ec3539a-f362-4b4b-bee8-9fd0f0debd59",
        "part": "whole"
       },
       "id": "b7a850ef-f45e-4a07-8ffc-affe8fa22a03"
      }
     }
    },
    "699e3090-bc27-48ea-a2f4-2108e819bee5": {
     "id": "699e3090-bc27-48ea-a2f4-2108e819bee5",
     "prev": "0acb345f-ba5d-4851-86a0-ae9593ef4c10",
     "regions": {
      "0ac9c98d-07b5-4642-ac30-0d677b5c7003": {
       "attrs": {
        "height": 0.8,
        "width": 0.8,
        "x": 0.1,
        "y": 0.1
       },
       "content": {
        "cell": "20850877-edbb-4eb3-afb3-1027ba13b785",
        "part": "whole"
       },
       "id": "0ac9c98d-07b5-4642-ac30-0d677b5c7003"
      }
     }
    },
    "69e1870d-582a-4678-87c4-d31fc3a392b4": {
     "id": "69e1870d-582a-4678-87c4-d31fc3a392b4",
     "prev": "4c6a7933-e16d-4b88-978a-add9b95303be",
     "regions": {
      "8952e95b-4bd7-4b7f-95e2-120aa7f43187": {
       "attrs": {
        "height": 0.8,
        "width": 0.8,
        "x": 0.1,
        "y": 0.1
       },
       "content": {
        "cell": "d61f37f3-7955-4484-8f24-b88861c65d0e",
        "part": "whole"
       },
       "id": "8952e95b-4bd7-4b7f-95e2-120aa7f43187"
      }
     }
    },
    "6ae7ac90-77b1-4f0b-99d3-23a1fc5e7836": {
     "id": "6ae7ac90-77b1-4f0b-99d3-23a1fc5e7836",
     "prev": "ea4ca871-f0b4-4094-9840-770067003326",
     "regions": {
      "f2fe9aad-04d9-4cca-b390-67969ef11dbd": {
       "attrs": {
        "height": 0.8,
        "width": 0.8,
        "x": 0.1,
        "y": 0.1
       },
       "content": {
        "cell": "b8d5c3db-c424-4a3e-831c-30157bf145f7",
        "part": "whole"
       },
       "id": "f2fe9aad-04d9-4cca-b390-67969ef11dbd"
      }
     }
    },
    "6cddc9a8-aac3-4424-887d-39bb44e013e0": {
     "id": "6cddc9a8-aac3-4424-887d-39bb44e013e0",
     "prev": "ea662ad4-b3d3-44f8-9c48-cac06ffa5e57",
     "regions": {
      "8d399756-32fd-40eb-92f8-ad3cd3cfb759": {
       "attrs": {
        "height": 0.8,
        "width": 0.8,
        "x": 0.1,
        "y": 0.1
       },
       "content": {
        "cell": "e21c5050-a440-4774-8f7c-dbd7fac87370",
        "part": "whole"
       },
       "id": "8d399756-32fd-40eb-92f8-ad3cd3cfb759"
      }
     }
    },
    "6de176a0-ed63-40f5-acb8-819bab3fd032": {
     "id": "6de176a0-ed63-40f5-acb8-819bab3fd032",
     "prev": "21b46d1a-ac24-4fb1-99a8-5b9b1e2de282",
     "regions": {
      "1fc1235e-fa95-40ea-a5e6-ff7e630a9f9b": {
       "attrs": {
        "height": 0.8,
        "width": 0.8,
        "x": 0.1,
        "y": 0.1
       },
       "content": {
        "cell": "9db15dfa-b044-4b03-af05-9f9cab7f328a",
        "part": "whole"
       },
       "id": "1fc1235e-fa95-40ea-a5e6-ff7e630a9f9b"
      }
     }
    },
    "730a7e43-b410-4103-b4df-8b2d1080c8a6": {
     "id": "730a7e43-b410-4103-b4df-8b2d1080c8a6",
     "prev": "479879c7-b847-41b4-ab19-82c6b53bf670",
     "regions": {
      "dbb63fc6-591e-4104-b989-01795605d5cd": {
       "attrs": {
        "height": 0.8,
        "width": 0.8,
        "x": 0.1,
        "y": 0.1
       },
       "content": {
        "cell": "5250b3e1-7ebf-4c21-a18e-316a999fe524",
        "part": "whole"
       },
       "id": "dbb63fc6-591e-4104-b989-01795605d5cd"
      }
     }
    },
    "73116f6a-7d36-47a1-863b-bb8ebe70691e": {
     "id": "73116f6a-7d36-47a1-863b-bb8ebe70691e",
     "prev": "bd2a57fc-5f28-4e72-9342-8b175e3f15c0",
     "regions": {
      "e322690c-ee86-489f-89fc-bdc77a5ae7e2": {
       "attrs": {
        "height": 0.8,
        "width": 0.8,
        "x": 0.1,
        "y": 0.1
       },
       "content": {
        "cell": "ba842829-d1b5-4eb6-a217-5bb4d63f6153",
        "part": "whole"
       },
       "id": "e322690c-ee86-489f-89fc-bdc77a5ae7e2"
      }
     }
    },
    "76938b9f-8a6f-4b8e-8d4a-c03d7932d591": {
     "id": "76938b9f-8a6f-4b8e-8d4a-c03d7932d591",
     "prev": "2aec212f-6b7d-4ff1-80ee-e268bd99663f",
     "regions": {
      "237b0ead-b226-4776-9411-ba5f99218574": {
       "attrs": {
        "height": 0.8,
        "width": 0.8,
        "x": 0.1,
        "y": 0.1
       },
       "content": {
        "cell": "9316b8c5-628c-4518-b9c3-26c8b294ab31",
        "part": "whole"
       },
       "id": "237b0ead-b226-4776-9411-ba5f99218574"
      }
     }
    },
    "76a0bc9b-e1f5-4a9e-aaa1-2f324d59bc8f": {
     "id": "76a0bc9b-e1f5-4a9e-aaa1-2f324d59bc8f",
     "prev": "838ea27f-b10d-4635-b179-be8e0c224e25",
     "regions": {
      "1ae9150b-9c7c-4352-b9b5-04338c50ce39": {
       "attrs": {
        "height": 0.8,
        "width": 0.8,
        "x": 0.1,
        "y": 0.1
       },
       "content": {
        "cell": "7a956d01-e36e-4082-96b1-711ec8fcaf94",
        "part": "whole"
       },
       "id": "1ae9150b-9c7c-4352-b9b5-04338c50ce39"
      }
     }
    },
    "80dc9696-f613-47a0-b743-490b3f5ef84d": {
     "id": "80dc9696-f613-47a0-b743-490b3f5ef84d",
     "prev": "0720dfbd-0a02-4ec8-a95d-edf85a44ad1d",
     "regions": {
      "8aed29aa-33a7-4d63-8747-a7d837b9915e": {
       "attrs": {
        "height": 0.8,
        "width": 0.8,
        "x": 0.1,
        "y": 0.1
       },
       "content": {
        "cell": "2de0ca15-b145-48dc-8ce3-ab41f9e772df",
        "part": "whole"
       },
       "id": "8aed29aa-33a7-4d63-8747-a7d837b9915e"
      }
     }
    },
    "838ea27f-b10d-4635-b179-be8e0c224e25": {
     "id": "838ea27f-b10d-4635-b179-be8e0c224e25",
     "prev": "5ccadac3-c238-41c6-957d-a4465d842a5b",
     "regions": {
      "84d4c57d-ade3-4423-8965-394b0d285490": {
       "attrs": {
        "height": 0.8,
        "width": 0.8,
        "x": 0.1,
        "y": 0.1
       },
       "content": {
        "cell": "410000fc-2eb9-490f-a131-047c42810ab8",
        "part": "whole"
       },
       "id": "84d4c57d-ade3-4423-8965-394b0d285490"
      }
     }
    },
    "8466cef0-e782-4c10-be94-020c8b384062": {
     "id": "8466cef0-e782-4c10-be94-020c8b384062",
     "prev": "35c11687-af62-4c1f-a509-c0dfa5e90b2f",
     "regions": {
      "e489a3a8-3158-45b4-9c2c-45547e7a24d5": {
       "attrs": {
        "height": 0.8,
        "width": 0.8,
        "x": 0.1,
        "y": 0.1
       },
       "content": {
        "cell": "84b7b350-673b-4efe-b510-4b0ec8a4adac",
        "part": "whole"
       },
       "id": "e489a3a8-3158-45b4-9c2c-45547e7a24d5"
      }
     }
    },
    "885bfbda-31de-4f0a-89c5-a90a07017c08": {
     "id": "885bfbda-31de-4f0a-89c5-a90a07017c08",
     "prev": "ca1fbfaa-d384-43ef-8b30-f5bd09164ef6",
     "regions": {
      "d7b94ee8-a070-4506-a753-ca962e84a9f0": {
       "attrs": {
        "height": 0.8,
        "width": 0.8,
        "x": 0.1,
        "y": 0.1
       },
       "content": {
        "cell": "cb699128-2e78-4716-9dea-a8cbb56485e8",
        "part": "whole"
       },
       "id": "d7b94ee8-a070-4506-a753-ca962e84a9f0"
      }
     }
    },
    "8b078ce5-0245-4a92-898c-92df1d2a2f69": {
     "id": "8b078ce5-0245-4a92-898c-92df1d2a2f69",
     "prev": "612ce8ca-6fe5-42af-9818-2e91f5d66b37",
     "regions": {
      "f51bf862-8137-41f2-ac3b-8f235f66a68c": {
       "attrs": {
        "height": 0.8,
        "width": 0.8,
        "x": 0.1,
        "y": 0.1
       },
       "content": {
        "cell": "e6eb109d-5777-410a-9084-71865ab3eb97",
        "part": "whole"
       },
       "id": "f51bf862-8137-41f2-ac3b-8f235f66a68c"
      }
     }
    },
    "8b51849c-4127-4ec3-8bc6-fed4e154116d": {
     "id": "8b51849c-4127-4ec3-8bc6-fed4e154116d",
     "prev": "4174e037-453d-4cd3-a61d-1f51da3af56d",
     "regions": {
      "05da79d3-81b2-4192-a8d0-444ef1b94c28": {
       "attrs": {
        "height": 0.8,
        "width": 0.8,
        "x": 0.1,
        "y": 0.1
       },
       "content": {
        "cell": "6e8aeea5-c06e-4e98-ac21-4eb63bfd716a",
        "part": "whole"
       },
       "id": "05da79d3-81b2-4192-a8d0-444ef1b94c28"
      }
     }
    },
    "8b79aaed-a506-4752-aff5-2301faf30d8e": {
     "id": "8b79aaed-a506-4752-aff5-2301faf30d8e",
     "prev": "d2065ff9-a716-4fbd-b07b-91343967c6a1",
     "regions": {
      "3f25dcf9-bf4f-4729-b900-7a8f56282789": {
       "attrs": {
        "height": 0.8,
        "width": 0.8,
        "x": 0.1,
        "y": 0.1
       },
       "content": {
        "cell": "d7c5685e-a05a-4dab-a657-a17d3de9d0c9",
        "part": "whole"
       },
       "id": "3f25dcf9-bf4f-4729-b900-7a8f56282789"
      }
     }
    },
    "90c15d17-1029-4774-a386-81842c9ddb6f": {
     "id": "90c15d17-1029-4774-a386-81842c9ddb6f",
     "prev": "730a7e43-b410-4103-b4df-8b2d1080c8a6",
     "regions": {
      "cba09548-b27f-4ab0-8163-a2d749ce2501": {
       "attrs": {
        "height": 0.8,
        "width": 0.8,
        "x": 0.1,
        "y": 0.1
       },
       "content": {
        "cell": "9246a1f2-56dd-4ae1-92c1-e35ad0dd3bf4",
        "part": "whole"
       },
       "id": "cba09548-b27f-4ab0-8163-a2d749ce2501"
      }
     }
    },
    "915f2ec7-778e-4e23-817e-960485e65aad": {
     "id": "915f2ec7-778e-4e23-817e-960485e65aad",
     "prev": "049feda9-9afd-4b7b-8600-435f6a3ee88c",
     "regions": {
      "8ec18737-c92c-4ffe-bc91-2c81fd786d73": {
       "attrs": {
        "height": 0.8,
        "width": 0.8,
        "x": 0.1,
        "y": 0.1
       },
       "content": {
        "cell": "bfdd404f-11d1-447d-9b8c-ccbe1356a446",
        "part": "whole"
       },
       "id": "8ec18737-c92c-4ffe-bc91-2c81fd786d73"
      }
     }
    },
    "9223f09c-54b5-4ce5-8b2d-a44ece9b813c": {
     "id": "9223f09c-54b5-4ce5-8b2d-a44ece9b813c",
     "prev": "cda51bb0-549b-4968-98d1-b4241934ca90",
     "regions": {
      "9863d540-568a-4f81-8531-2b2cb1aa6869": {
       "attrs": {
        "height": 0.8,
        "width": 0.8,
        "x": 0.1,
        "y": 0.1
       },
       "content": {
        "cell": "e8d5e469-3797-4977-ab45-723e8a96e069",
        "part": "whole"
       },
       "id": "9863d540-568a-4f81-8531-2b2cb1aa6869"
      }
     }
    },
    "93f5b8bf-3a09-4de0-970e-4797667aa9b8": {
     "id": "93f5b8bf-3a09-4de0-970e-4797667aa9b8",
     "prev": "eba23b89-97e4-4d7e-be18-3e19d562d4d5",
     "regions": {
      "2ef35631-5a73-4324-84d6-4542d3a5cca9": {
       "attrs": {
        "height": 0.8,
        "width": 0.8,
        "x": 0.1,
        "y": 0.1
       },
       "content": {
        "cell": "a4da0ca9-c76b-4772-8c4f-826a862b959a",
        "part": "whole"
       },
       "id": "2ef35631-5a73-4324-84d6-4542d3a5cca9"
      }
     }
    },
    "94cdc2dc-ca04-45d1-acb7-64abe297e2a1": {
     "id": "94cdc2dc-ca04-45d1-acb7-64abe297e2a1",
     "prev": "0f8d4dc8-95b7-4df3-a553-0895989f5452",
     "regions": {
      "72cd46e6-649e-4402-8fcd-7fb1942e1efb": {
       "attrs": {
        "height": 0.8,
        "width": 0.8,
        "x": 0.1,
        "y": 0.1
       },
       "content": {
        "cell": "959c18c4-7dbb-41fa-ab71-bb12ff04448b",
        "part": "whole"
       },
       "id": "72cd46e6-649e-4402-8fcd-7fb1942e1efb"
      }
     }
    },
    "9794cc87-ac9f-4b26-941c-b0cdb0cc01d5": {
     "id": "9794cc87-ac9f-4b26-941c-b0cdb0cc01d5",
     "prev": "042f48ea-343c-4f6f-bf59-b41dec9b2012",
     "regions": {
      "0a072a3d-b306-48ba-b48f-450ef433e8d9": {
       "attrs": {
        "height": 0.8,
        "width": 0.8,
        "x": 0.1,
        "y": 0.1
       },
       "content": {
        "cell": "5b98f9e0-d3d1-440b-9f1e-4e004379d7df",
        "part": "whole"
       },
       "id": "0a072a3d-b306-48ba-b48f-450ef433e8d9"
      }
     }
    },
    "9b59babe-da89-4cc5-8f42-840090732324": {
     "id": "9b59babe-da89-4cc5-8f42-840090732324",
     "prev": "11217648-069d-4332-a6c5-7083930ff0c9",
     "regions": {
      "0b691e63-0ff8-49ac-bedd-f8b282bb6561": {
       "attrs": {
        "height": 0.8,
        "width": 0.8,
        "x": 0.1,
        "y": 0.1
       },
       "content": {
        "cell": "b12d72d5-363c-4239-9301-f149d0fb9284",
        "part": "whole"
       },
       "id": "0b691e63-0ff8-49ac-bedd-f8b282bb6561"
      }
     }
    },
    "9d3caf73-46e8-450c-a377-f25700d4fd7d": {
     "id": "9d3caf73-46e8-450c-a377-f25700d4fd7d",
     "prev": "915f2ec7-778e-4e23-817e-960485e65aad",
     "regions": {
      "ecce4424-dfc0-42f4-bf32-5afa345eab73": {
       "attrs": {
        "height": 0.8,
        "width": 0.8,
        "x": 0.1,
        "y": 0.1
       },
       "content": {
        "cell": "50253839-bed5-42db-9525-da3c6408e562",
        "part": "whole"
       },
       "id": "ecce4424-dfc0-42f4-bf32-5afa345eab73"
      }
     }
    },
    "9e1ec66a-51bd-4d31-92c3-f3eacc3ed1f9": {
     "id": "9e1ec66a-51bd-4d31-92c3-f3eacc3ed1f9",
     "prev": "6de176a0-ed63-40f5-acb8-819bab3fd032",
     "regions": {
      "1aa66508-94d6-426d-9c9f-ac336099e073": {
       "attrs": {
        "height": 0.8,
        "width": 0.8,
        "x": 0.1,
        "y": 0.1
       },
       "content": {
        "cell": "886928c9-dd47-4783-813a-040420ac6caa",
        "part": "whole"
       },
       "id": "1aa66508-94d6-426d-9c9f-ac336099e073"
      }
     }
    },
    "a18a9483-5150-48c0-afb3-f65c87a824ec": {
     "id": "a18a9483-5150-48c0-afb3-f65c87a824ec",
     "prev": "76a0bc9b-e1f5-4a9e-aaa1-2f324d59bc8f",
     "regions": {
      "8768a422-8979-4b44-ac3c-e12382fd913c": {
       "attrs": {
        "height": 0.8,
        "width": 0.8,
        "x": 0.1,
        "y": 0.1
       },
       "content": {
        "cell": "73ca12cd-cdb7-4119-9dbc-249834841667",
        "part": "whole"
       },
       "id": "8768a422-8979-4b44-ac3c-e12382fd913c"
      }
     }
    },
    "a1eb98d5-89e9-448f-862e-b3c50dec961a": {
     "id": "a1eb98d5-89e9-448f-862e-b3c50dec961a",
     "prev": "dda2f779-4290-46b7-bf16-0663bc47264f",
     "regions": {
      "cbe45d00-6ca1-4947-bc4f-d800570e6638": {
       "attrs": {
        "height": 0.8,
        "width": 0.8,
        "x": 0.1,
        "y": 0.1
       },
       "content": {
        "cell": "550e0a66-7c68-41ee-a5d1-0a952db5be4c",
        "part": "whole"
       },
       "id": "cbe45d00-6ca1-4947-bc4f-d800570e6638"
      }
     }
    },
    "a38bca0f-8ea1-40b2-a57d-dbd84baeb8aa": {
     "id": "a38bca0f-8ea1-40b2-a57d-dbd84baeb8aa",
     "prev": "af8d06ab-9c12-42d4-ac03-1afbd7f316ac",
     "regions": {
      "b4e1c0e6-fdfb-4642-bd8d-f5d949ffe12b": {
       "attrs": {
        "height": 0.8,
        "width": 0.8,
        "x": 0.1,
        "y": 0.1
       },
       "content": {
        "cell": "f333f795-6ff3-4eba-a394-5f9a55f6ebcd",
        "part": "whole"
       },
       "id": "b4e1c0e6-fdfb-4642-bd8d-f5d949ffe12b"
      }
     }
    },
    "a5d71cb9-f308-4543-9f63-9f06cc9ca44d": {
     "id": "a5d71cb9-f308-4543-9f63-9f06cc9ca44d",
     "prev": "c1d74783-a728-4613-b8ca-9e1bdc465863",
     "regions": {
      "368ea001-35dd-4fb9-868e-5b54413deb73": {
       "attrs": {
        "height": 0.8,
        "width": 0.8,
        "x": 0.1,
        "y": 0.1
       },
       "content": {
        "cell": "aa60eeb9-cd5d-4d6b-be48-6623c04b480b",
        "part": "whole"
       },
       "id": "368ea001-35dd-4fb9-868e-5b54413deb73"
      }
     }
    },
    "a7029e0d-1167-4897-87b3-1d2982e2ec4b": {
     "id": "a7029e0d-1167-4897-87b3-1d2982e2ec4b",
     "prev": "0952c2bd-ed14-41a7-acd0-deb48cf93ecb",
     "regions": {
      "81683314-ddbe-4321-9470-0fd0f533905a": {
       "attrs": {
        "height": 0.8,
        "width": 0.8,
        "x": 0.1,
        "y": 0.1
       },
       "content": {
        "cell": "22f3aec9-3b23-4036-aafc-44de651cc6a5",
        "part": "whole"
       },
       "id": "81683314-ddbe-4321-9470-0fd0f533905a"
      }
     }
    },
    "ab6afdaa-0dfe-4a35-8b13-fc6404224d75": {
     "id": "ab6afdaa-0dfe-4a35-8b13-fc6404224d75",
     "prev": "d5b807d5-3341-47bf-873b-45edf0a9ae0a",
     "regions": {
      "069293ee-570b-4805-b729-37f90390b42e": {
       "attrs": {
        "height": 0.8,
        "width": 0.8,
        "x": 0.1,
        "y": 0.1
       },
       "content": {
        "cell": "012b7b0b-3b02-4c53-a730-873a5d45be2d",
        "part": "whole"
       },
       "id": "069293ee-570b-4805-b729-37f90390b42e"
      }
     }
    },
    "abdc0034-c691-454b-96bf-6b1a844d11f7": {
     "id": "abdc0034-c691-454b-96bf-6b1a844d11f7",
     "prev": "a1eb98d5-89e9-448f-862e-b3c50dec961a",
     "regions": {
      "25935f41-03e1-40d9-8a08-08d3b54bbcda": {
       "attrs": {
        "height": 0.8,
        "width": 0.8,
        "x": 0.1,
        "y": 0.1
       },
       "content": {
        "cell": "a48f5b48-8178-4e79-a333-9942c45e1306",
        "part": "whole"
       },
       "id": "25935f41-03e1-40d9-8a08-08d3b54bbcda"
      }
     }
    },
    "ad72b0b4-db91-4210-8544-70a7089afe43": {
     "id": "ad72b0b4-db91-4210-8544-70a7089afe43",
     "prev": "3ade0653-f13f-4da2-801a-055ec22d193a",
     "regions": {
      "560bcbdd-4438-49cb-80a2-bbf01d4a6dbf": {
       "attrs": {
        "height": 0.8,
        "width": 0.8,
        "x": 0.1,
        "y": 0.1
       },
       "content": {
        "cell": "6e4eabcd-84bb-4a92-b75a-0f430c75d10e",
        "part": "whole"
       },
       "id": "560bcbdd-4438-49cb-80a2-bbf01d4a6dbf"
      }
     }
    },
    "af8d06ab-9c12-42d4-ac03-1afbd7f316ac": {
     "id": "af8d06ab-9c12-42d4-ac03-1afbd7f316ac",
     "prev": "4788cfa2-9984-43b5-acbe-37f597f3e64a",
     "regions": {
      "db75fb21-519c-4409-8150-891ff21b59ed": {
       "attrs": {
        "height": 0.8,
        "width": 0.8,
        "x": 0.1,
        "y": 0.1
       },
       "content": {
        "cell": "9a2b7d01-c310-4d09-8533-6fa257b434b0",
        "part": "whole"
       },
       "id": "db75fb21-519c-4409-8150-891ff21b59ed"
      }
     }
    },
    "bd2a57fc-5f28-4e72-9342-8b175e3f15c0": {
     "id": "bd2a57fc-5f28-4e72-9342-8b175e3f15c0",
     "prev": "2a755841-eda9-461f-b75a-b784fa27b20e",
     "regions": {
      "ba62f716-be37-4bfa-91bc-2e50176f4dd3": {
       "attrs": {
        "height": 0.8,
        "width": 0.8,
        "x": 0.1,
        "y": 0.1
       },
       "content": {
        "cell": "d21a11fe-70a3-487e-8b15-3514fbc4a863",
        "part": "whole"
       },
       "id": "ba62f716-be37-4bfa-91bc-2e50176f4dd3"
      }
     }
    },
    "bd95c31f-a9d5-4aab-afa1-30e0f5239741": {
     "id": "bd95c31f-a9d5-4aab-afa1-30e0f5239741",
     "prev": "2a55acee-d1d1-49c0-9e7c-9fa4de9a4f1a",
     "regions": {
      "7372caa5-150f-4bae-950b-61cd230dea15": {
       "attrs": {
        "height": 0.8,
        "width": 0.8,
        "x": 0.1,
        "y": 0.1
       },
       "content": {
        "cell": "9dbbe034-b1eb-4b50-bfab-2bff04a41966",
        "part": "whole"
       },
       "id": "7372caa5-150f-4bae-950b-61cd230dea15"
      }
     }
    },
    "c1d74783-a728-4613-b8ca-9e1bdc465863": {
     "id": "c1d74783-a728-4613-b8ca-9e1bdc465863",
     "prev": "3025e525-21a4-449a-8437-38683905ace0",
     "regions": {
      "72a90c75-386d-4d74-8d46-d424d85f2eee": {
       "attrs": {
        "height": 0.8,
        "width": 0.8,
        "x": 0.1,
        "y": 0.1
       },
       "content": {
        "cell": "bb704c0e-7e85-488e-9235-4b57d4025e22",
        "part": "whole"
       },
       "id": "72a90c75-386d-4d74-8d46-d424d85f2eee"
      }
     }
    },
    "ca1fbfaa-d384-43ef-8b30-f5bd09164ef6": {
     "id": "ca1fbfaa-d384-43ef-8b30-f5bd09164ef6",
     "prev": "a38bca0f-8ea1-40b2-a57d-dbd84baeb8aa",
     "regions": {
      "11ee793a-f5a7-44e4-a1da-f347f7c5f1de": {
       "attrs": {
        "height": 0.8,
        "width": 0.8,
        "x": 0.1,
        "y": 0.1
       },
       "content": {
        "cell": "ea2b6de1-9fea-4022-8fbb-63b4a6a27374",
        "part": "whole"
       },
       "id": "11ee793a-f5a7-44e4-a1da-f347f7c5f1de"
      }
     }
    },
    "ca45ee1c-e1b9-4e47-a648-6249d162aa1d": {
     "id": "ca45ee1c-e1b9-4e47-a648-6249d162aa1d",
     "prev": "8b51849c-4127-4ec3-8bc6-fed4e154116d",
     "regions": {
      "3e7b7d4c-48bc-4aac-9f5e-5e3da839b8ac": {
       "attrs": {
        "height": 0.8,
        "width": 0.8,
        "x": 0.1,
        "y": 0.1
       },
       "content": {
        "cell": "cda50d45-14ee-4b71-a02c-a9aef59d989e",
        "part": "whole"
       },
       "id": "3e7b7d4c-48bc-4aac-9f5e-5e3da839b8ac"
      }
     }
    },
    "cb6dd451-846a-46be-b9c7-147cc2dd5e99": {
     "id": "cb6dd451-846a-46be-b9c7-147cc2dd5e99",
     "prev": "94cdc2dc-ca04-45d1-acb7-64abe297e2a1",
     "regions": {
      "f52de8f8-3b37-4351-89d6-c5c7ddaf323f": {
       "attrs": {
        "height": 0.8,
        "width": 0.8,
        "x": 0.1,
        "y": 0.1
       },
       "content": {
        "cell": "d47d0895-4fce-4f36-b3ec-15478314ec96",
        "part": "whole"
       },
       "id": "f52de8f8-3b37-4351-89d6-c5c7ddaf323f"
      }
     }
    },
    "cda51bb0-549b-4968-98d1-b4241934ca90": {
     "id": "cda51bb0-549b-4968-98d1-b4241934ca90",
     "prev": "8b79aaed-a506-4752-aff5-2301faf30d8e",
     "regions": {
      "6107ef42-ce56-4dc7-8f81-078edface8d7": {
       "attrs": {
        "height": 0.8,
        "width": 0.8,
        "x": 0.1,
        "y": 0.1
       },
       "content": {
        "cell": "866b9fdb-0a7a-4437-8e04-b4898f33d094",
        "part": "whole"
       },
       "id": "6107ef42-ce56-4dc7-8f81-078edface8d7"
      }
     }
    },
    "ce1f4a62-d4e6-4291-bfcd-00185cc3802b": {
     "id": "ce1f4a62-d4e6-4291-bfcd-00185cc3802b",
     "prev": "0c9ca9ef-e75e-482d-9891-e8274ab4021b",
     "regions": {
      "d0c96424-f13d-465e-b27b-c44c49129b85": {
       "attrs": {
        "height": 0.8,
        "width": 0.8,
        "x": 0.1,
        "y": 0.1
       },
       "content": {
        "cell": "1e2feef6-8b99-455f-9252-20d1797eb88c",
        "part": "whole"
       },
       "id": "d0c96424-f13d-465e-b27b-c44c49129b85"
      }
     }
    },
    "cec60d8f-cc35-4a1b-9cf0-95dd93d93ea9": {
     "id": "cec60d8f-cc35-4a1b-9cf0-95dd93d93ea9",
     "prev": "9d3caf73-46e8-450c-a377-f25700d4fd7d",
     "regions": {
      "34950a4a-3ff1-452f-8d87-10c748eb3838": {
       "attrs": {
        "height": 0.8,
        "width": 0.8,
        "x": 0.1,
        "y": 0.1
       },
       "content": {
        "cell": "b694c888-4264-4c53-a37e-c8b3ba4da0e3",
        "part": "whole"
       },
       "id": "34950a4a-3ff1-452f-8d87-10c748eb3838"
      }
     }
    },
    "d0237f9f-325e-4878-8add-58ade8a5c617": {
     "id": "d0237f9f-325e-4878-8add-58ade8a5c617",
     "prev": "a7029e0d-1167-4897-87b3-1d2982e2ec4b",
     "regions": {
      "99214e86-6f8d-4012-a20e-a4bc52f1cc45": {
       "attrs": {
        "height": 0.8,
        "width": 0.8,
        "x": 0.1,
        "y": 0.1
       },
       "content": {
        "cell": "6c62fcbe-1b5d-4cfe-bcb9-b57735f3e166",
        "part": "whole"
       },
       "id": "99214e86-6f8d-4012-a20e-a4bc52f1cc45"
      }
     }
    },
    "d2065ff9-a716-4fbd-b07b-91343967c6a1": {
     "id": "d2065ff9-a716-4fbd-b07b-91343967c6a1",
     "prev": "2f6f8bd0-52c2-4709-adc1-939804ae638b",
     "regions": {
      "535657b3-87ca-4cd0-b35c-246a8e9de453": {
       "attrs": {
        "height": 0.8,
        "width": 0.8,
        "x": 0.1,
        "y": 0.1
       },
       "content": {
        "cell": "1b35c300-b241-4f23-a1d7-8ebfc731e0a6",
        "part": "whole"
       },
       "id": "535657b3-87ca-4cd0-b35c-246a8e9de453"
      }
     }
    },
    "d253e82f-1f46-41b8-a53f-1b1eb3f72add": {
     "id": "d253e82f-1f46-41b8-a53f-1b1eb3f72add",
     "prev": "a5d71cb9-f308-4543-9f63-9f06cc9ca44d",
     "regions": {
      "a5dfd817-4484-4ae5-8e90-e5a1b2fb1b1a": {
       "attrs": {
        "height": 0.8,
        "width": 0.8,
        "x": 0.1,
        "y": 0.1
       },
       "content": {
        "cell": "752222da-ece7-4fdb-ad0e-ca97ef348f18",
        "part": "whole"
       },
       "id": "a5dfd817-4484-4ae5-8e90-e5a1b2fb1b1a"
      }
     }
    },
    "d5b807d5-3341-47bf-873b-45edf0a9ae0a": {
     "id": "d5b807d5-3341-47bf-873b-45edf0a9ae0a",
     "prev": "ad72b0b4-db91-4210-8544-70a7089afe43",
     "regions": {
      "abef9b61-d608-40b6-a6eb-8075ea9ff3f6": {
       "attrs": {
        "height": 0.8,
        "width": 0.8,
        "x": 0.1,
        "y": 0.1
       },
       "content": {
        "cell": "8fe262de-40d5-40a3-a7ae-91a4d445d0cc",
        "part": "whole"
       },
       "id": "abef9b61-d608-40b6-a6eb-8075ea9ff3f6"
      }
     }
    },
    "d94d56fe-370c-4158-9b8a-c238313df3d5": {
     "id": "d94d56fe-370c-4158-9b8a-c238313df3d5",
     "prev": "e4ad3f9c-f6be-4967-83d2-d212c719de34",
     "regions": {
      "3d22d76f-f82e-49e2-92fc-f3c75ebb4628": {
       "attrs": {
        "height": 0.8,
        "width": 0.8,
        "x": 0.1,
        "y": 0.1
       },
       "content": {
        "cell": "8bfe922d-4358-41d1-93cc-605f7865bf25",
        "part": "whole"
       },
       "id": "3d22d76f-f82e-49e2-92fc-f3c75ebb4628"
      }
     }
    },
    "dd9dcb54-5712-458e-bdff-cbba3121f47f": {
     "id": "dd9dcb54-5712-458e-bdff-cbba3121f47f",
     "prev": "fa696783-6cf7-4f3b-bedb-5151b11d3dce",
     "regions": {
      "aa22f46b-4d28-4753-9f28-04065d05d428": {
       "attrs": {
        "height": 0.8,
        "width": 0.8,
        "x": 0.1,
        "y": 0.1
       },
       "content": {
        "cell": "47328494-bdb3-4add-b112-08a5a80072a3",
        "part": "whole"
       },
       "id": "aa22f46b-4d28-4753-9f28-04065d05d428"
      }
     }
    },
    "dda2f779-4290-46b7-bf16-0663bc47264f": {
     "id": "dda2f779-4290-46b7-bf16-0663bc47264f",
     "prev": "6490c753-8592-4b40-9414-0cf73b4c6956",
     "regions": {
      "a4fb8b1d-a1cc-4aa9-9e9b-f6f851a41d49": {
       "attrs": {
        "height": 0.8,
        "width": 0.8,
        "x": 0.1,
        "y": 0.1
       },
       "content": {
        "cell": "0796f323-d7dd-470e-926f-d95a6dfca37d",
        "part": "whole"
       },
       "id": "a4fb8b1d-a1cc-4aa9-9e9b-f6f851a41d49"
      }
     }
    },
    "dee865b5-000a-4099-ad55-7cee25993175": {
     "id": "dee865b5-000a-4099-ad55-7cee25993175",
     "prev": "5a6ba8a9-e5b9-4c64-b8fa-c7c70c67261a",
     "regions": {
      "2d2ba975-3bd8-4a2c-a08a-2aa11da128d2": {
       "attrs": {
        "height": 0.8,
        "width": 0.8,
        "x": 0.1,
        "y": 0.1
       },
       "content": {
        "cell": "f4c13d31-a247-45d9-b5f6-bcf4622a5d0d",
        "part": "whole"
       },
       "id": "2d2ba975-3bd8-4a2c-a08a-2aa11da128d2"
      }
     }
    },
    "e4ad3f9c-f6be-4967-83d2-d212c719de34": {
     "id": "e4ad3f9c-f6be-4967-83d2-d212c719de34",
     "prev": "9223f09c-54b5-4ce5-8b2d-a44ece9b813c",
     "regions": {
      "5a80f97b-b387-4d29-8479-d5848e254be6": {
       "attrs": {
        "height": 0.8,
        "width": 0.8,
        "x": 0.1,
        "y": 0.1
       },
       "content": {
        "cell": "0b932bf2-a406-487f-b8de-4bfa81612e29",
        "part": "whole"
       },
       "id": "5a80f97b-b387-4d29-8479-d5848e254be6"
      }
     }
    },
    "e64bc843-1c39-45cf-8354-7c40dfbb4787": {
     "id": "e64bc843-1c39-45cf-8354-7c40dfbb4787",
     "prev": "1fc49314-e75e-4113-a7ce-007c3d80126d",
     "regions": {
      "5f83e6b5-ffeb-47c4-b818-68f32a164756": {
       "attrs": {
        "height": 0.8,
        "width": 0.8,
        "x": 0.1,
        "y": 0.1
       },
       "content": {
        "cell": "8cf6f9a6-782c-4dce-9e81-6f1b055ed5d0",
        "part": "whole"
       },
       "id": "5f83e6b5-ffeb-47c4-b818-68f32a164756"
      }
     }
    },
    "ea4ca871-f0b4-4094-9840-770067003326": {
     "id": "ea4ca871-f0b4-4094-9840-770067003326",
     "prev": "4cfb2b4c-2a8f-448a-a97e-4277232f66a5",
     "regions": {
      "e0ef58bb-a014-4d99-82be-33dfb6531add": {
       "attrs": {
        "height": 0.8,
        "width": 0.8,
        "x": 0.1,
        "y": 0.1
       },
       "content": {
        "cell": "067908a5-bdfd-4824-8ddf-5503ef1ee625",
        "part": "whole"
       },
       "id": "e0ef58bb-a014-4d99-82be-33dfb6531add"
      }
     }
    },
    "ea662ad4-b3d3-44f8-9c48-cac06ffa5e57": {
     "id": "ea662ad4-b3d3-44f8-9c48-cac06ffa5e57",
     "prev": "f596424e-5626-4a70-bdb9-81979ba36e7d",
     "regions": {
      "996f6ea1-0ca8-405a-b77e-349e8cc886f9": {
       "attrs": {
        "height": 0.8,
        "width": 0.8,
        "x": 0.1,
        "y": 0.1
       },
       "content": {
        "cell": "7f0007e1-9d87-4287-b4e2-0c8ca4917dc8",
        "part": "whole"
       },
       "id": "996f6ea1-0ca8-405a-b77e-349e8cc886f9"
      }
     }
    },
    "eba23b89-97e4-4d7e-be18-3e19d562d4d5": {
     "id": "eba23b89-97e4-4d7e-be18-3e19d562d4d5",
     "prev": "d253e82f-1f46-41b8-a53f-1b1eb3f72add",
     "regions": {
      "e82afbf2-37f5-483a-a1ba-bdf2704a582e": {
       "attrs": {
        "height": 0.8,
        "width": 0.8,
        "x": 0.1,
        "y": 0.1
       },
       "content": {
        "cell": "c77b0c71-36ab-4c10-a300-9e759bea71d5",
        "part": "whole"
       },
       "id": "e82afbf2-37f5-483a-a1ba-bdf2704a582e"
      }
     }
    },
    "ed199600-d77a-4e82-8b44-7ec45fc97ea3": {
     "id": "ed199600-d77a-4e82-8b44-7ec45fc97ea3",
     "prev": "f6efec9f-1e5f-4f67-902a-a8c135f1c423",
     "regions": {
      "cee8eff9-a321-442c-9de8-a860133711a0": {
       "attrs": {
        "height": 0.8,
        "width": 0.8,
        "x": 0.1,
        "y": 0.1
       },
       "content": {
        "cell": "2e4cf385-4690-4ee2-a2d6-2ea7a272ffe4",
        "part": "whole"
       },
       "id": "cee8eff9-a321-442c-9de8-a860133711a0"
      }
     }
    },
    "f596424e-5626-4a70-bdb9-81979ba36e7d": {
     "id": "f596424e-5626-4a70-bdb9-81979ba36e7d",
     "prev": "a18a9483-5150-48c0-afb3-f65c87a824ec",
     "regions": {
      "dad7be23-484d-45c3-bbbb-282de9f8aec2": {
       "attrs": {
        "height": 0.8,
        "width": 0.8,
        "x": 0.1,
        "y": 0.1
       },
       "content": {
        "cell": "3e329299-9156-4b45-a9c3-0f0b7b6e2c4e",
        "part": "whole"
       },
       "id": "dad7be23-484d-45c3-bbbb-282de9f8aec2"
      }
     }
    },
    "f6efec9f-1e5f-4f67-902a-a8c135f1c423": {
     "id": "f6efec9f-1e5f-4f67-902a-a8c135f1c423",
     "prev": "3e4e88cb-4833-4b16-86fc-c4249f6909ba",
     "regions": {
      "ad342239-c6f9-4f83-a28c-846a4a01a1b8": {
       "attrs": {
        "height": 0.8,
        "width": 0.8,
        "x": 0.1,
        "y": 0.1
       },
       "content": {
        "cell": "17ed637c-0ce2-4340-9897-3ec282d5bca8",
        "part": "whole"
       },
       "id": "ad342239-c6f9-4f83-a28c-846a4a01a1b8"
      }
     }
    },
    "fa696783-6cf7-4f3b-bedb-5151b11d3dce": {
     "id": "fa696783-6cf7-4f3b-bedb-5151b11d3dce",
     "prev": "062f9e5d-8f6d-453c-a614-42dd3787d402",
     "regions": {
      "0e6b6cf6-0590-4250-8e42-23d5e3644864": {
       "attrs": {
        "height": 0.8,
        "width": 0.8,
        "x": 0.1,
        "y": 0.1
       },
       "content": {
        "cell": "1929d985-b619-46c4-9201-a4dc202976e2",
        "part": "whole"
       },
       "id": "0e6b6cf6-0590-4250-8e42-23d5e3644864"
      }
     }
    }
   },
   "themes": {}
  },
  "toc": {
   "colors": {
    "hover_highlight": "#DAA520",
    "navigate_num": "#000000",
    "navigate_text": "#333333",
    "running_highlight": "#FF0000",
    "selected_highlight": "#FFD700",
    "sidebar_border": "#EEEEEE",
    "wrapper_background": "#FFFFFF"
   },
   "moveMenuLeft": true,
   "nav_menu": {
    "height": "513px",
    "width": "253px"
   },
   "navigate_menu": true,
   "number_sections": true,
   "sideBar": true,
   "threshold": 4,
   "toc_cell": true,
   "toc_position": {
    "height": "801px",
    "left": "0px",
    "right": "1368.52px",
    "top": "91px",
    "width": "236px"
   },
   "toc_section_display": "block",
   "toc_window_display": true,
   "widenNotebook": false
  },
  "toc-autonumbering": true,
  "varInspector": {
   "cols": {
    "lenName": 16,
    "lenType": 16,
    "lenVar": 40
   },
   "kernels_config": {
    "python": {
     "delete_cmd_postfix": "",
     "delete_cmd_prefix": "del ",
     "library": "var_list.py",
     "varRefreshCmd": "print(var_dic_list())"
    },
    "r": {
     "delete_cmd_postfix": ") ",
     "delete_cmd_prefix": "rm(",
     "library": "var_list.r",
     "varRefreshCmd": "cat(var_dic_list()) "
    }
   },
   "types_to_exclude": [
    "module",
    "function",
    "builtin_function_or_method",
    "instance",
    "_Feature"
   ],
   "window_display": false
  },
  "widgets": {
   "application/vnd.jupyter.widget-state+json": {
    "state": {},
    "version_major": 1,
    "version_minor": 0
   }
  }
 },
 "nbformat": 4,
 "nbformat_minor": 4
}
